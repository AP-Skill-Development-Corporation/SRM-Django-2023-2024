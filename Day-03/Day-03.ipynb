{
 "cells": [
  {
   "cell_type": "markdown",
   "id": "442522a6",
   "metadata": {},
   "source": [
    "# Python Basics:"
   ]
  },
  {
   "cell_type": "code",
   "execution_count": 2,
   "id": "6e0df2f2",
   "metadata": {},
   "outputs": [
    {
     "data": {
      "text/plain": [
       "20"
      ]
     },
     "execution_count": 2,
     "metadata": {},
     "output_type": "execute_result"
    }
   ],
   "source": [
    "a = 20\n",
    "a"
   ]
  },
  {
   "cell_type": "code",
   "execution_count": 3,
   "id": "3527e0cc",
   "metadata": {},
   "outputs": [],
   "source": [
    "a = 'Ramesh'"
   ]
  },
  {
   "cell_type": "markdown",
   "id": "2e878a86",
   "metadata": {},
   "source": [
    "## Variable:\n",
    "    - It stores a value\n",
    "    - It changes a value\n",
    "    Syntax:\n",
    "        variablename = value"
   ]
  },
  {
   "cell_type": "code",
   "execution_count": 4,
   "id": "99c072c7",
   "metadata": {},
   "outputs": [
    {
     "data": {
      "text/plain": [
       "45"
      ]
     },
     "execution_count": 4,
     "metadata": {},
     "output_type": "execute_result"
    }
   ],
   "source": [
    "w = 45\n",
    "w"
   ]
  },
  {
   "cell_type": "code",
   "execution_count": 7,
   "id": "a2daf18d",
   "metadata": {},
   "outputs": [
    {
     "data": {
      "text/plain": [
       "(45.012, 'Prasad')"
      ]
     },
     "execution_count": 7,
     "metadata": {},
     "output_type": "execute_result"
    }
   ],
   "source": [
    "e = 45.012\n",
    "y = 'Prasad'\n",
    "e,y"
   ]
  },
  {
   "cell_type": "code",
   "execution_count": 8,
   "id": "525a1b85",
   "metadata": {},
   "outputs": [
    {
     "data": {
      "text/plain": [
       "'45'"
      ]
     },
     "execution_count": 8,
     "metadata": {},
     "output_type": "execute_result"
    }
   ],
   "source": [
    "k = '45'\n",
    "k"
   ]
  },
  {
   "cell_type": "code",
   "execution_count": 9,
   "id": "cefedc77",
   "metadata": {},
   "outputs": [
    {
     "name": "stdout",
     "output_type": "stream",
     "text": [
      "45\n"
     ]
    }
   ],
   "source": [
    "print(k)"
   ]
  },
  {
   "cell_type": "markdown",
   "id": "3e009daf",
   "metadata": {},
   "source": [
    "## Variable Assignments:\n",
    "    - single variable to single value\n",
    "    - n number of variables to n number of values\n",
    "    - n number of varaibles to single value"
   ]
  },
  {
   "cell_type": "code",
   "execution_count": 10,
   "id": "ef15e26c",
   "metadata": {},
   "outputs": [
    {
     "name": "stdout",
     "output_type": "stream",
     "text": [
      "12 56.0\n"
     ]
    }
   ],
   "source": [
    "h,n = 12,56.00\n",
    "print(h,n)"
   ]
  },
  {
   "cell_type": "code",
   "execution_count": 11,
   "id": "7a8624f3",
   "metadata": {},
   "outputs": [
    {
     "ename": "ValueError",
     "evalue": "not enough values to unpack (expected 3, got 2)",
     "output_type": "error",
     "traceback": [
      "\u001b[1;31m---------------------------------------------------------------------------\u001b[0m",
      "\u001b[1;31mValueError\u001b[0m                                Traceback (most recent call last)",
      "Cell \u001b[1;32mIn[11], line 1\u001b[0m\n\u001b[1;32m----> 1\u001b[0m h,n,p \u001b[38;5;241m=\u001b[39m \u001b[38;5;241m12\u001b[39m,\u001b[38;5;241m56.00\u001b[39m\n\u001b[0;32m      2\u001b[0m \u001b[38;5;28mprint\u001b[39m(h,n,p)\n",
      "\u001b[1;31mValueError\u001b[0m: not enough values to unpack (expected 3, got 2)"
     ]
    }
   ],
   "source": [
    "h,n,p = 12,56.00\n",
    "print(h,n,p)"
   ]
  },
  {
   "cell_type": "code",
   "execution_count": 12,
   "id": "47680caa",
   "metadata": {},
   "outputs": [
    {
     "ename": "TypeError",
     "evalue": "cannot unpack non-iterable int object",
     "output_type": "error",
     "traceback": [
      "\u001b[1;31m---------------------------------------------------------------------------\u001b[0m",
      "\u001b[1;31mTypeError\u001b[0m                                 Traceback (most recent call last)",
      "Cell \u001b[1;32mIn[12], line 1\u001b[0m\n\u001b[1;32m----> 1\u001b[0m h,n,p \u001b[38;5;241m=\u001b[39m \u001b[38;5;241m12\u001b[39m\n\u001b[0;32m      2\u001b[0m \u001b[38;5;28mprint\u001b[39m(h,n,p)\n",
      "\u001b[1;31mTypeError\u001b[0m: cannot unpack non-iterable int object"
     ]
    }
   ],
   "source": [
    "h,n,p = 12\n",
    "print(h,n,p)"
   ]
  },
  {
   "cell_type": "code",
   "execution_count": 14,
   "id": "c4b7cbce",
   "metadata": {},
   "outputs": [
    {
     "name": "stdout",
     "output_type": "stream",
     "text": [
      "(12, 56.0, 78)\n"
     ]
    }
   ],
   "source": [
    "h = 12,56.00,78\n",
    "print(h)"
   ]
  },
  {
   "cell_type": "code",
   "execution_count": 15,
   "id": "eac8b974",
   "metadata": {},
   "outputs": [
    {
     "ename": "ValueError",
     "evalue": "too many values to unpack (expected 2)",
     "output_type": "error",
     "traceback": [
      "\u001b[1;31m---------------------------------------------------------------------------\u001b[0m",
      "\u001b[1;31mValueError\u001b[0m                                Traceback (most recent call last)",
      "Cell \u001b[1;32mIn[15], line 1\u001b[0m\n\u001b[1;32m----> 1\u001b[0m h,k \u001b[38;5;241m=\u001b[39m \u001b[38;5;241m45\u001b[39m,\u001b[38;5;241m89\u001b[39m,\u001b[38;5;124m'\u001b[39m\u001b[38;5;124mTarun\u001b[39m\u001b[38;5;124m'\u001b[39m\n\u001b[0;32m      2\u001b[0m \u001b[38;5;28mprint\u001b[39m(h,k)\n",
      "\u001b[1;31mValueError\u001b[0m: too many values to unpack (expected 2)"
     ]
    }
   ],
   "source": [
    "h,k = 45,89,'Tarun'\n",
    "print(h,k)"
   ]
  },
  {
   "cell_type": "code",
   "execution_count": 16,
   "id": "88017a95",
   "metadata": {},
   "outputs": [
    {
     "name": "stdout",
     "output_type": "stream",
     "text": [
      "400 400 400\n",
      "400 2177405815792\n",
      "400 2177405815792\n",
      "400 2177405815792\n"
     ]
    }
   ],
   "source": [
    "g = r = p = 400\n",
    "print(g,r,p)\n",
    "print(g,id(g))\n",
    "print(r,id(r))\n",
    "print(p,id(p))"
   ]
  },
  {
   "cell_type": "markdown",
   "id": "afbab12c",
   "metadata": {},
   "source": [
    "## Data types:\n",
    "    - int => Only numbers will be allowed\n",
    "    - float => decimal values\n",
    "    - str => enclosed with ' or \"\n",
    "    - complex => real and imaginary part\n",
    "    - boolean => True or False\n",
    "    - none => None [Empty]\n",
    "    - All Data Structures like [List,Tuple,Set and Dictionary]"
   ]
  },
  {
   "cell_type": "code",
   "execution_count": 17,
   "id": "0f8a7d0b",
   "metadata": {},
   "outputs": [
    {
     "name": "stdout",
     "output_type": "stream",
     "text": [
      "20\n"
     ]
    }
   ],
   "source": [
    "a = 20\n",
    "print(a)"
   ]
  },
  {
   "cell_type": "markdown",
   "id": "62e8b833",
   "metadata": {},
   "source": [
    "## Type:\n",
    "    - To know the data type of a variable\n",
    "    Syntax:\n",
    "        type(variablename)"
   ]
  },
  {
   "cell_type": "code",
   "execution_count": 18,
   "id": "4b401653",
   "metadata": {},
   "outputs": [
    {
     "data": {
      "text/plain": [
       "float"
      ]
     },
     "execution_count": 18,
     "metadata": {},
     "output_type": "execute_result"
    }
   ],
   "source": [
    "f = 45.1545\n",
    "type(f)"
   ]
  },
  {
   "cell_type": "code",
   "execution_count": 19,
   "id": "412882ad",
   "metadata": {},
   "outputs": [
    {
     "name": "stdout",
     "output_type": "stream",
     "text": [
      "45 <class 'int'>\n"
     ]
    }
   ],
   "source": [
    "d = 45\n",
    "print(d,type(d))"
   ]
  },
  {
   "cell_type": "code",
   "execution_count": 20,
   "id": "5bc8180b",
   "metadata": {},
   "outputs": [
    {
     "name": "stdout",
     "output_type": "stream",
     "text": [
      "45 <class 'int'>\n",
      "56.01 <class 'float'>\n",
      "Lalitha <class 'str'>\n",
      "(5+4j) <class 'complex'>\n",
      "True <class 'bool'>\n",
      "None <class 'NoneType'>\n"
     ]
    }
   ],
   "source": [
    "a,b,c,d,e,f = 45,56.01,'Lalitha',5+4j,True,None\n",
    "print(a,type(a))\n",
    "print(b,type(b))\n",
    "print(c,type(c))\n",
    "print(d,type(d))\n",
    "print(e,type(e))\n",
    "print(f,type(f))"
   ]
  },
  {
   "cell_type": "code",
   "execution_count": 22,
   "id": "90c7d33f",
   "metadata": {},
   "outputs": [
    {
     "data": {
      "text/plain": [
       "'89'"
      ]
     },
     "execution_count": 22,
     "metadata": {},
     "output_type": "execute_result"
    }
   ],
   "source": [
    "j = '89'\n",
    "j"
   ]
  },
  {
   "cell_type": "code",
   "execution_count": 24,
   "id": "b28cde99",
   "metadata": {},
   "outputs": [
    {
     "name": "stdout",
     "output_type": "stream",
     "text": [
      "89 <class 'str'>\n"
     ]
    }
   ],
   "source": [
    "print(j,type(j))"
   ]
  },
  {
   "cell_type": "markdown",
   "id": "30f7e066",
   "metadata": {},
   "source": [
    "## Typecasting:\n",
    "    - Changing the data type of one type to another type\n",
    "    - int()\n",
    "    - float()\n",
    "    - str()\n",
    "    - complex()\n",
    "    - bool()\n",
    "    - All Data Structures like [list(),tuple(),set() and dict()]"
   ]
  },
  {
   "cell_type": "markdown",
   "id": "03415d6d",
   "metadata": {},
   "source": [
    "```\n",
    "    values to a variable\n",
    "    \n",
    "    Student Name: Rajesh and Roll number is: 102\n",
    " ```"
   ]
  },
  {
   "cell_type": "code",
   "execution_count": 26,
   "id": "06a20637",
   "metadata": {},
   "outputs": [
    {
     "name": "stdout",
     "output_type": "stream",
     "text": [
      "Student Name: Rajesh and Roll number is: 102\n"
     ]
    }
   ],
   "source": [
    "sname = \"Rajesh\"\n",
    "roll = 102\n",
    "print(\"Student Name:\",sname,\"and Roll number is:\",roll)"
   ]
  },
  {
   "cell_type": "markdown",
   "id": "64a8bc2b",
   "metadata": {},
   "source": [
    "## Input:\n",
    "    - To read an input from a user\n",
    "    - By default data type will be string\n",
    "    - It displays an info to a use\n",
    "    Syntax:\n",
    "        variablename = input(\"something info\")"
   ]
  },
  {
   "cell_type": "code",
   "execution_count": 1,
   "id": "fec59d3b",
   "metadata": {},
   "outputs": [
    {
     "name": "stdout",
     "output_type": "stream",
     "text": [
      "Enter a value: 45\n",
      "45 <class 'str'>\n"
     ]
    }
   ],
   "source": [
    "z = input(\"Enter a value: \")\n",
    "print(z,type(z))"
   ]
  },
  {
   "cell_type": "code",
   "execution_count": 2,
   "id": "393a7831",
   "metadata": {},
   "outputs": [
    {
     "data": {
      "text/plain": [
       "20"
      ]
     },
     "execution_count": 2,
     "metadata": {},
     "output_type": "execute_result"
    }
   ],
   "source": [
    "a = 20\n",
    "a"
   ]
  },
  {
   "cell_type": "code",
   "execution_count": 7,
   "id": "49e88e40",
   "metadata": {},
   "outputs": [
    {
     "name": "stdout",
     "output_type": "stream",
     "text": [
      "Enter Student Name: Nikki\n",
      "Enter Student Age: 25\n",
      "Nikki <class 'str'>\n",
      "25 <class 'int'>\n"
     ]
    }
   ],
   "source": [
    "sname,sage = input(\"Enter Student Name: \"),int(input(\"Enter Student Age: \"))\n",
    "print(sname,type(sname))\n",
    "print(sage,type(sage))"
   ]
  },
  {
   "cell_type": "markdown",
   "id": "976f70f2",
   "metadata": {},
   "source": [
    "## Output Formatting:   \n",
    "    - ,\n",
    "    - format specifiers\n",
    "    - .format\n",
    "    - f\n",
    "    http://pyformat.info"
   ]
  },
  {
   "cell_type": "code",
   "execution_count": 14,
   "id": "420b1f55",
   "metadata": {},
   "outputs": [
    {
     "name": "stdout",
     "output_type": "stream",
     "text": [
      "Enter Student Name: Yamini\n",
      "Enter Student roll Number: 45787\n",
      "Enter Student Age: 24\n",
      "Student Name: Yamini Roll Number: 45787 Age: 24\n",
      "Student Name: Yamini Roll Number: 45787 Age: 24\n",
      "Student Name: Yamini Roll Number: 45787 Age: 24\n",
      "Student Name: 24 Roll Number: Yamini Age: 45787\n",
      "Student Name: Yamini Roll Number: 45787 Age: 24\n"
     ]
    }
   ],
   "source": [
    "sn,sr,sa = input(\"Enter Student Name: \"),input(\"Enter Student roll Number: \"),input(\"Enter Student Age: \")\n",
    "print(\"Student Name:\",sn,\"Roll Number:\",sr,\"Age:\",sa)\n",
    "print(\"Student Name: %s Roll Number: %s Age: %d\"%(sn,sr,int(sa)))\n",
    "print(\"Student Name: {} Roll Number: {} Age: {}\".format(sn,sr,sa))\n",
    "print(\"Student Name: {2} Roll Number: {0} Age: {1}\".format(sn,sr,sa))\n",
    "print(f\"Student Name: {sn} Roll Number: {sr} Age: {sa}\")"
   ]
  },
  {
   "cell_type": "markdown",
   "id": "5cb33ce2",
   "metadata": {},
   "source": [
    "```\n",
    "    Input:\n",
    "        Enter a number: 5\n",
    "        Enter a string: Harish\n",
    "        Enter Float value: 23.15\n",
    "        \n",
    "    Output:\n",
    "        Number is: '5' and string is: 'Harish' and Float value is: 23\n",
    "        \n",
    "```"
   ]
  },
  {
   "cell_type": "markdown",
   "id": "82a5f3d1",
   "metadata": {},
   "source": [
    "## Keywords:\n",
    "    - It is a reserved word that should not be used as variablename or classname or functionanme or methodname\n",
    "    - For these keys the mechanism is defined\n",
    "    - import keyword\n",
    "    - display all variavles,classname,methodname or functionname\n",
    "         dir(keyword)\n",
    "    - doc for document of keyword\n",
    "    - help()"
   ]
  },
  {
   "cell_type": "code",
   "execution_count": 15,
   "id": "a69ac4f5",
   "metadata": {},
   "outputs": [],
   "source": [
    "import keyword"
   ]
  },
  {
   "cell_type": "code",
   "execution_count": 16,
   "id": "17f7d089",
   "metadata": {},
   "outputs": [
    {
     "name": "stdout",
     "output_type": "stream",
     "text": [
      "['__all__', '__builtins__', '__cached__', '__doc__', '__file__', '__loader__', '__name__', '__package__', '__spec__', 'iskeyword', 'issoftkeyword', 'kwlist', 'softkwlist']\n"
     ]
    }
   ],
   "source": [
    "print(dir(keyword))"
   ]
  },
  {
   "cell_type": "code",
   "execution_count": 18,
   "id": "8f5503cc",
   "metadata": {},
   "outputs": [
    {
     "name": "stdout",
     "output_type": "stream",
     "text": [
      "['False', 'None', 'True', '__peg_parser__', 'and', 'as', 'assert', 'async', 'await', 'break', 'class', 'continue', 'def', 'del', 'elif', 'else', 'except', 'finally', 'for', 'from', 'global', 'if', 'import', 'in', 'is', 'lambda', 'nonlocal', 'not', 'or', 'pass', 'raise', 'return', 'try', 'while', 'with', 'yield'] 36\n"
     ]
    }
   ],
   "source": [
    "print(keyword.kwlist,len(keyword.kwlist))"
   ]
  },
  {
   "cell_type": "markdown",
   "id": "d9acd748",
   "metadata": {},
   "source": [
    "## Operators:\n",
    "    - Arithmetic => +,-,*,/,%,floor Division(//),exponent(**) => For expression\n",
    "    - Logical => AND,OR,NOT => between 2 or more conditions \n",
    "    - Bitwise => &,|,!,<<,>> => between 2 or more conditions\n",
    "    - Relational => >,<,==,!=,>=,<= => Comparision of a value [Conditional]\n",
    "    - Assignment => +=,-=,*=,/=,//=,**= => Loops\n",
    "    - Identity => is and is not => we can compare by using string variables\n",
    "    - Membership => in, not in => loops, Data structures"
   ]
  },
  {
   "cell_type": "code",
   "execution_count": null,
   "id": "fae359ac",
   "metadata": {},
   "outputs": [],
   "source": []
  }
 ],
 "metadata": {
  "kernelspec": {
   "display_name": "Python 3 (ipykernel)",
   "language": "python",
   "name": "python3"
  },
  "language_info": {
   "codemirror_mode": {
    "name": "ipython",
    "version": 3
   },
   "file_extension": ".py",
   "mimetype": "text/x-python",
   "name": "python",
   "nbconvert_exporter": "python",
   "pygments_lexer": "ipython3",
   "version": "3.9.13"
  }
 },
 "nbformat": 4,
 "nbformat_minor": 5
}
