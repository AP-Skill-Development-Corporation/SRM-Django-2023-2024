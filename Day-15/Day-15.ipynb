{
 "cells": [
  {
   "cell_type": "markdown",
   "id": "0e1a4bb3",
   "metadata": {},
   "source": [
    "## Comprehensions:\n",
    "    - list => []\n",
    "    - set => {''}\n",
    "    - dictionary => {}\n",
    "    - tuple => generator => ()\n",
    "    - optimization of loop "
   ]
  },
  {
   "cell_type": "code",
   "execution_count": 2,
   "id": "9f243df2",
   "metadata": {},
   "outputs": [
    {
     "name": "stdout",
     "output_type": "stream",
     "text": [
      "1 8 7 5 8 9\n",
      "['1', '8', '7', '5', '8', '9'] <class 'list'> [1, 8, 7, 5, 8, 9] <class 'list'>\n"
     ]
    }
   ],
   "source": [
    "g = input().split()\n",
    "f = []\n",
    "for i in g:\n",
    "    f.append(int(i))\n",
    "print(g,type(g),f,type(f))"
   ]
  },
  {
   "cell_type": "code",
   "execution_count": 3,
   "id": "b88569a8",
   "metadata": {},
   "outputs": [
    {
     "name": "stdout",
     "output_type": "stream",
     "text": [
      "1 5 4 89\n",
      "[1, 5, 4, 89] <class 'list'>\n"
     ]
    }
   ],
   "source": [
    "b = [int(i) for i in input().split()]\n",
    "print(b,type(b))"
   ]
  },
  {
   "cell_type": "code",
   "execution_count": 4,
   "id": "03ceae9c",
   "metadata": {},
   "outputs": [
    {
     "name": "stdout",
     "output_type": "stream",
     "text": [
      "5 9 8 7 5\n",
      "[9]\n"
     ]
    }
   ],
   "source": [
    "a = [int(i) for i in input().split() if int(i)%3==0]\n",
    "print(a)"
   ]
  },
  {
   "cell_type": "code",
   "execution_count": 6,
   "id": "2398f87b",
   "metadata": {},
   "outputs": [
    {
     "name": "stdout",
     "output_type": "stream",
     "text": [
      "4 8 9 18 21\n",
      "['False', 'False', 'True', 'True', 'True']\n"
     ]
    }
   ],
   "source": [
    "t = [\"True\" if int(j)%3==0 else \"False\" for j in input().split()]\n",
    "print(t)"
   ]
  },
  {
   "cell_type": "code",
   "execution_count": 9,
   "id": "4cf69f48",
   "metadata": {},
   "outputs": [
    {
     "name": "stdout",
     "output_type": "stream",
     "text": [
      "[1, 8, 9]\n"
     ]
    }
   ],
   "source": [
    "f = list(j for j in (1,8,9))\n",
    "print(f)"
   ]
  },
  {
   "cell_type": "code",
   "execution_count": 10,
   "id": "d53006c2",
   "metadata": {},
   "outputs": [
    {
     "name": "stdout",
     "output_type": "stream",
     "text": [
      "1 5 20 59\n",
      "(5, 20)\n"
     ]
    }
   ],
   "source": [
    "g = tuple(int(j) for j in input().split() if int(j)%5==0)\n",
    "print(g)"
   ]
  },
  {
   "cell_type": "code",
   "execution_count": 11,
   "id": "563441cb",
   "metadata": {},
   "outputs": [
    {
     "name": "stdout",
     "output_type": "stream",
     "text": [
      "1 1 5 8 9 7 8 \n",
      "{1, 5, 7, 8, 9} <class 'set'>\n"
     ]
    }
   ],
   "source": [
    "v = {int(i) for i in input().split()}\n",
    "print(v,type(v))"
   ]
  },
  {
   "cell_type": "code",
   "execution_count": 15,
   "id": "f13008bf",
   "metadata": {},
   "outputs": [
    {
     "name": "stdout",
     "output_type": "stream",
     "text": [
      "1 1 1 5 6\n",
      "{'1': 2, '5': 10, '6': 12}\n"
     ]
    }
   ],
   "source": [
    "z = {j:int(j)*2 for j in input().split()}\n",
    "print(z)"
   ]
  },
  {
   "cell_type": "markdown",
   "id": "26d21506",
   "metadata": {},
   "source": [
    "# Iterator:\n",
    "    - iter,next"
   ]
  },
  {
   "cell_type": "code",
   "execution_count": 26,
   "id": "33f05937",
   "metadata": {},
   "outputs": [
    {
     "name": "stdout",
     "output_type": "stream",
     "text": [
      "18 9 6\n",
      "18\n",
      "9\n"
     ]
    }
   ],
   "source": [
    "g = [int(i) for i in input().split()]\n",
    "b = iter(g)\n",
    "print(next(b))\n",
    "print(next(b))"
   ]
  },
  {
   "cell_type": "code",
   "execution_count": 27,
   "id": "6902e060",
   "metadata": {},
   "outputs": [
    {
     "name": "stdout",
     "output_type": "stream",
     "text": [
      "6\n"
     ]
    },
    {
     "ename": "StopIteration",
     "evalue": "",
     "output_type": "error",
     "traceback": [
      "\u001b[1;31m---------------------------------------------------------------------------\u001b[0m",
      "\u001b[1;31mStopIteration\u001b[0m                             Traceback (most recent call last)",
      "Cell \u001b[1;32mIn[27], line 2\u001b[0m\n\u001b[0;32m      1\u001b[0m \u001b[38;5;28mprint\u001b[39m(\u001b[38;5;28mnext\u001b[39m(b))\n\u001b[1;32m----> 2\u001b[0m \u001b[38;5;28mprint\u001b[39m(\u001b[38;5;28;43mnext\u001b[39;49m\u001b[43m(\u001b[49m\u001b[43mb\u001b[49m\u001b[43m)\u001b[49m)\n",
      "\u001b[1;31mStopIteration\u001b[0m: "
     ]
    }
   ],
   "source": [
    "print(next(b))\n",
    "print(next(b))"
   ]
  },
  {
   "cell_type": "markdown",
   "id": "56eac76f",
   "metadata": {},
   "source": [
    "# Generator:\n",
    "    - return => final , yield => previous and present value will updated"
   ]
  },
  {
   "cell_type": "code",
   "execution_count": 28,
   "id": "6aab6041",
   "metadata": {},
   "outputs": [],
   "source": [
    "def printnumber():\n",
    "    for i in range(1,5):\n",
    "        return i"
   ]
  },
  {
   "cell_type": "code",
   "execution_count": 30,
   "id": "0b05fe02",
   "metadata": {},
   "outputs": [
    {
     "data": {
      "text/plain": [
       "1"
      ]
     },
     "execution_count": 30,
     "metadata": {},
     "output_type": "execute_result"
    }
   ],
   "source": [
    "printnumber()"
   ]
  },
  {
   "cell_type": "code",
   "execution_count": 45,
   "id": "5623e3c6",
   "metadata": {},
   "outputs": [],
   "source": [
    "def printnumber():\n",
    "    for i in range(1,5):\n",
    "        if i == 1:\n",
    "            yield 1\n",
    "    yield 3"
   ]
  },
  {
   "cell_type": "code",
   "execution_count": 46,
   "id": "12760947",
   "metadata": {},
   "outputs": [
    {
     "name": "stdout",
     "output_type": "stream",
     "text": [
      "1\n"
     ]
    }
   ],
   "source": [
    "r = iter(printnumber())\n",
    "print(next(r))"
   ]
  },
  {
   "cell_type": "code",
   "execution_count": 1,
   "id": "d88584ec",
   "metadata": {},
   "outputs": [],
   "source": [
    "import sqlite3"
   ]
  },
  {
   "cell_type": "markdown",
   "id": "ca70430c",
   "metadata": {},
   "source": [
    "```\n",
    "variable => \n",
    "datastructure => \n",
    "files => \n",
    "sqlite3 => Database\n",
    "database\n",
    "table\n",
    "    => fields\n",
    "```"
   ]
  },
  {
   "cell_type": "code",
   "execution_count": 4,
   "id": "683cef1b",
   "metadata": {},
   "outputs": [
    {
     "name": "stdout",
     "output_type": "stream",
     "text": [
      "Enter roll Number: 21AK1A460\n",
      "Enter Student Name: Ganesh\n",
      "Enter Year: 2\n",
      "Enter Branch: ECE\n"
     ]
    }
   ],
   "source": [
    "rn = input(\"Enter roll Number: \")\n",
    "sn = input(\"Enter Student Name: \")\n",
    "sy = int(input(\"Enter Year: \"))\n",
    "sbr = input(\"Enter Branch: \")\n",
    "con = sqlite3.connect(\"sample.db\")\n",
    "q = \"insert into student(rno,saname,syear,sbranch) values(?,?,?,?)\"\n",
    "con.execute(q,(rn,sn,sy,sbr))\n",
    "con.commit()"
   ]
  },
  {
   "cell_type": "code",
   "execution_count": null,
   "id": "c7655f36",
   "metadata": {},
   "outputs": [],
   "source": []
  },
  {
   "cell_type": "code",
   "execution_count": null,
   "id": "747c1375",
   "metadata": {},
   "outputs": [],
   "source": []
  }
 ],
 "metadata": {
  "kernelspec": {
   "display_name": "Python 3 (ipykernel)",
   "language": "python",
   "name": "python3"
  },
  "language_info": {
   "codemirror_mode": {
    "name": "ipython",
    "version": 3
   },
   "file_extension": ".py",
   "mimetype": "text/x-python",
   "name": "python",
   "nbconvert_exporter": "python",
   "pygments_lexer": "ipython3",
   "version": "3.9.13"
  }
 },
 "nbformat": 4,
 "nbformat_minor": 5
}
