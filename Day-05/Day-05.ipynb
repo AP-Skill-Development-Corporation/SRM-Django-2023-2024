{
 "cells": [
  {
   "cell_type": "code",
   "execution_count": 1,
   "id": "2f56bc07",
   "metadata": {},
   "outputs": [
    {
     "name": "stdout",
     "output_type": "stream",
     "text": [
      "Enter start range: 10\n",
      "Enter End range: 20\n",
      "10 11 12 13 14 15 16 17 18 19 "
     ]
    }
   ],
   "source": [
    "n = int(input(\"Enter start range: \"))\n",
    "m = int(input(\"Enter end range: \"))\n",
    "for i in range(n,m):\n",
    "    print(i,end=\" \")"
   ]
  },
  {
   "cell_type": "markdown",
   "id": "99fb6765",
   "metadata": {},
   "source": [
    "### Sample Example\n",
    "```\n",
    "    Input:\n",
    "        20\n",
    "        23\n",
    "    Output:\n",
    "        23 22 21\n",
    "```"
   ]
  },
  {
   "cell_type": "markdown",
   "id": "f13fea47",
   "metadata": {},
   "source": [
    "### Sample Example\n",
    "```\n",
    "        Input:\n",
    "            6\n",
    "            10\n",
    "        Output:\n",
    "            21AK1A1206   20AK1A1209\n",
    "            21AK1A1207   20AK1A1208\n",
    "            21AK1A1208   20AK1A1207\n",
    "            21AK1A1209   20AK1A1206\n",
    "```"
   ]
  },
  {
   "cell_type": "code",
   "execution_count": 2,
   "id": "fe35ffba",
   "metadata": {},
   "outputs": [
    {
     "name": "stdout",
     "output_type": "stream",
     "text": [
      "Enter a start range: 20\n",
      "Enter end range: 23\n",
      "23 22 21 "
     ]
    }
   ],
   "source": [
    "n = int(input(\"Enter a start range: \"))\n",
    "m = int(input(\"Enter end range: \"))\n",
    "for i in range(n,m):\n",
    "    print(m+n-i,end=\" \")"
   ]
  },
  {
   "cell_type": "code",
   "execution_count": 4,
   "id": "f5de2c01",
   "metadata": {},
   "outputs": [
    {
     "name": "stdout",
     "output_type": "stream",
     "text": [
      "Enter a start range: 6\n",
      "Enter an end range: 10\n",
      "21AK1A1206\t20AK1A1209\n",
      "21AK1A1207\t20AK1A1208\n",
      "21AK1A1208\t20AK1A1207\n",
      "21AK1A1209\t20AK1A1206\n"
     ]
    }
   ],
   "source": [
    "a = int(input(\"Enter a start range: \"))\n",
    "b = int(input(\"Enter an end range: \"))\n",
    "for i in range(a,b):\n",
    "    print(f\"21AK1A12{i:02}\\t20AK1A12{a+b-i-1:02}\")"
   ]
  },
  {
   "cell_type": "code",
   "execution_count": 7,
   "id": "1ecda311",
   "metadata": {},
   "outputs": [
    {
     "name": "stdout",
     "output_type": "stream",
     "text": [
      "20\n",
      "10\n",
      "-3\n",
      "20 17 14 11 "
     ]
    }
   ],
   "source": [
    "s,e,st = int(input()),int(input()),int(input())\n",
    "for i in range(s,e,st):\n",
    "    print(i,end=\" \")"
   ]
  },
  {
   "cell_type": "code",
   "execution_count": null,
   "id": "a797f095",
   "metadata": {},
   "outputs": [],
   "source": [
    "range(a) => end value\n",
    "range(a,b) => start value and end value\n",
    "range(a,b,c) => start value,end value andd step value"
   ]
  },
  {
   "cell_type": "code",
   "execution_count": 13,
   "id": "0b14c948",
   "metadata": {},
   "outputs": [
    {
     "name": "stdout",
     "output_type": "stream",
     "text": [
      "09 10 11 12 13 14 15 16 17 18 19 20 21 22 23 24 25 26 27 28 29 30 31 32 33 34 35 36 37 38 39 40 41 42 43 44 45 46 47 48 49 50 51 52 53 54 55 56 57 58 59 60 61 62 63 64 65 66 67 68 69 70 71 72 73 74 75 76 77 78 79 80 81 82 83 84 85 86 87 88 89 90 91 92 93 94 95 96 97 98 99 100 "
     ]
    }
   ],
   "source": [
    "for i in range(9,101):\n",
    "    print(f\"{i:02}\",end=\" \")"
   ]
  },
  {
   "cell_type": "markdown",
   "id": "d32591aa",
   "metadata": {},
   "source": [
    "## While\n",
    "    Syntax:\n",
    "        initialization\n",
    "        while condition:\n",
    "            //statements\n",
    "            //incre/decre\n",
    "            \n",
    "        while True:\n",
    "            //statements\n",
    "            //jumping statements"
   ]
  },
  {
   "cell_type": "code",
   "execution_count": 15,
   "id": "dba7598a",
   "metadata": {},
   "outputs": [
    {
     "name": "stdout",
     "output_type": "stream",
     "text": [
      "Enter end range: 10\n",
      "1 2 3 4 5 6 7 8 9 "
     ]
    }
   ],
   "source": [
    "n = int(input(\"Enter end range: \"))\n",
    "i = 1\n",
    "while i!=n:\n",
    "    print(i,end=\" \")\n",
    "    i+=1"
   ]
  },
  {
   "cell_type": "code",
   "execution_count": 18,
   "id": "ceaf03c3",
   "metadata": {},
   "outputs": [
    {
     "name": "stdout",
     "output_type": "stream",
     "text": [
      "enter a range: 10\n",
      "9 8 7 6 5 4 3 2 1 0 "
     ]
    }
   ],
   "source": [
    "m = int(input(\"enter a range: \"))\n",
    "while m!=0:\n",
    "    m-=1\n",
    "    print(m,end=\" \")"
   ]
  },
  {
   "cell_type": "markdown",
   "id": "3a4be0c9",
   "metadata": {},
   "source": [
    "### Sample Example\n",
    "```\n",
    "    Input: 45786    \n",
    "    Output: Given number 45786 and its digit count is: 5\n",
    "```"
   ]
  },
  {
   "cell_type": "code",
   "execution_count": 23,
   "id": "6075cf38",
   "metadata": {},
   "outputs": [
    {
     "name": "stdout",
     "output_type": "stream",
     "text": [
      "45687\n",
      "Given number 45687 and its digit count is: 5\n"
     ]
    }
   ],
   "source": [
    "n,c = int(input()),0\n",
    "h = n\n",
    "while n!=0:\n",
    "    c+=1\n",
    "    n//=10\n",
    "print(f\"Given number {h} and its digit count is: {c}\")"
   ]
  },
  {
   "cell_type": "markdown",
   "id": "3099760a",
   "metadata": {},
   "source": [
    "### Sample Example:\n",
    "```\n",
    "    Input:\n",
    "            46789\n",
    "    Output:\n",
    "           Given Number is: 46789\n",
    "           Even Numbers count is: 3\n",
    "           Odd Numbers count is: 2\n",
    "```"
   ]
  },
  {
   "cell_type": "code",
   "execution_count": 26,
   "id": "02badf7b",
   "metadata": {},
   "outputs": [
    {
     "name": "stdout",
     "output_type": "stream",
     "text": [
      "898875869478\n",
      "Given Number is: 898875869478\n",
      "Even number count is: 7\n",
      "Odd Numbers count is: 5\n"
     ]
    }
   ],
   "source": [
    "n = int(input())\n",
    "c,e = 0,0\n",
    "print(f\"Given Number is: {n}\")\n",
    "while n!=0:\n",
    "    if ((n%10)%2==0):\n",
    "        e+=1\n",
    "    c+=1\n",
    "    n//=10\n",
    "print(f\"Even number count is: {e}\\nOdd Numbers count is: {c-e}\")"
   ]
  },
  {
   "cell_type": "markdown",
   "id": "f55d2357",
   "metadata": {},
   "source": [
    "### Task-1\n",
    "```\n",
    "    Input: 45687\n",
    "    Output:\n",
    "        Given number is: 45687\n",
    "        Left Half Reverse: 54687\n",
    "        Right Half Reverse: 45678\n",
    "        Even numbers sum: ?\n",
    "        Odd numbers sum: ?\n",
    "    \n",
    "    Input: 4568\n",
    "    Output:\n",
    "        Given number is: 4568\n",
    "        Left Half Reverse: 5468\n",
    "        Right Half Reverse: 4586\n",
    "        Even numbers sum: ?\n",
    "        Odd numbers sum: ?\n",
    "```"
   ]
  },
  {
   "cell_type": "markdown",
   "id": "083b1f69",
   "metadata": {},
   "source": [
    "## Jumping Statements:\n",
    "    - break => It terminates from the loop\n",
    "    - continue => It skips a value from a loop\n",
    "    - pass => It skips a value from a loop and for future enhancements we can use pass\n",
    "            => Will be used in loops,functions,class and methods\n",
    "    - return => it returns single value or n number of values"
   ]
  },
  {
   "cell_type": "code",
   "execution_count": 27,
   "id": "eb2a461e",
   "metadata": {},
   "outputs": [
    {
     "name": "stdout",
     "output_type": "stream",
     "text": [
      "Enter a range: 10\n",
      "1 2 3 4 "
     ]
    }
   ],
   "source": [
    "n = int(input(\"Enter a range: \"))\n",
    "for i in range(1,n):\n",
    "    if i==5:\n",
    "        break\n",
    "    print(i,end=\" \")"
   ]
  },
  {
   "cell_type": "code",
   "execution_count": 32,
   "id": "64fc88ad",
   "metadata": {},
   "outputs": [
    {
     "name": "stdout",
     "output_type": "stream",
     "text": [
      "Enter a range: 20\n",
      "1 2 3 4 6 7 8 9 11 12 13 14 15 16 17 18 19 "
     ]
    }
   ],
   "source": [
    "n = int(input(\"Enter a range: \"))\n",
    "for i in range(1,n):\n",
    "    if i==5 or i==10:\n",
    "        continue\n",
    "    print(i,end=\" \")"
   ]
  },
  {
   "cell_type": "code",
   "execution_count": 31,
   "id": "1ffb2b93",
   "metadata": {},
   "outputs": [
    {
     "name": "stdout",
     "output_type": "stream",
     "text": [
      "Enter a range: 10\n",
      "1 2 3 4 6 7 8 9 "
     ]
    }
   ],
   "source": [
    "n = int(input(\"Enter a range: \"))\n",
    "for i in range(1,n):\n",
    "    if i==5:\n",
    "        pass\n",
    "    else:\n",
    "        print(i,end=\" \")"
   ]
  },
  {
   "cell_type": "code",
   "execution_count": 37,
   "id": "ee199d0e",
   "metadata": {},
   "outputs": [
    {
     "name": "stdout",
     "output_type": "stream",
     "text": [
      "1.Addition\n",
      "2.Multiplication\n",
      "3.Exit\n",
      "Enter Your choice: 3\n"
     ]
    }
   ],
   "source": [
    "while True:\n",
    "    print(\"1.Addition\\n2.Multiplication\\n3.Exit\")\n",
    "    n = int(input(\"Enter Your choice: \"))\n",
    "    if n == 1:\n",
    "        h = int(input(\"Enter a value: \"))\n",
    "        g = int(input(\"Enter b value: \"))\n",
    "        print(f\"Addition of {h} and {g} is: {h+g}\")\n",
    "    elif n == 2:\n",
    "        q = int(input(\"Enter a value: \"))\n",
    "        z = int(input(\"Enter b value: \"))\n",
    "        print(f\"Multiplication of {q} and {z} is: {q*z}\")\n",
    "    elif n == 3:\n",
    "        break\n",
    "    else:\n",
    "        print(\"Try to choose Correct option ....\")"
   ]
  },
  {
   "cell_type": "markdown",
   "id": "b02fc066",
   "metadata": {},
   "source": [
    "# Nested Loop or Inner Loop:\n",
    "    - Loop within a Loop\n",
    "    - For alignments"
   ]
  },
  {
   "cell_type": "code",
   "execution_count": 41,
   "id": "09dd3833",
   "metadata": {},
   "outputs": [
    {
     "name": "stdout",
     "output_type": "stream",
     "text": [
      "Enter a range: 3\n",
      "00 01 02 \n",
      "10 11 12 \n",
      "20 21 22 \n"
     ]
    }
   ],
   "source": [
    "# Start pattern\n",
    "# n => equal => square\n",
    "# n,m => unequal => rectangle\n",
    "n = int(input(\"Enter a range: \"))\n",
    "for i in range(n):\n",
    "    for j in range(n):\n",
    "        print(f\"{i}{j}\",end=\" \")\n",
    "    print()"
   ]
  },
  {
   "cell_type": "code",
   "execution_count": 43,
   "id": "e6177dfa",
   "metadata": {},
   "outputs": [
    {
     "name": "stdout",
     "output_type": "stream",
     "text": [
      "3\n",
      "* * * \n",
      "* * * \n",
      "* * * \n"
     ]
    }
   ],
   "source": [
    "m = int(input())\n",
    "for i in range(m):\n",
    "    for j in range(m):\n",
    "        print(\"*\",end=\" \")\n",
    "    print()"
   ]
  },
  {
   "cell_type": "markdown",
   "id": "3d282693",
   "metadata": {},
   "source": [
    "### Sampe Example\n",
    "```\n",
    "    Input: 4\n",
    "    Output:\n",
    "            * * * *\n",
    "            *     *\n",
    "            *     *\n",
    "            * * * *\n",
    "```"
   ]
  },
  {
   "cell_type": "code",
   "execution_count": 49,
   "id": "074f6e7f",
   "metadata": {},
   "outputs": [
    {
     "name": "stdout",
     "output_type": "stream",
     "text": [
      "5\n",
      "* * * * * \n",
      "* 1 2 3 * \n",
      "* 4 5 6 * \n",
      "* 7 8 9 * \n",
      "* * * * * \n"
     ]
    }
   ],
   "source": [
    "n = int(input())\n",
    "p = 1\n",
    "for i in range(n):\n",
    "    for j in range(n):\n",
    "        if i==0 or j==0 or i==n-1 or j==n-1:\n",
    "            print(\"*\",end=\" \")\n",
    "        else:\n",
    "            print(p,end=\" \")\n",
    "            p+=1\n",
    "    print()"
   ]
  },
  {
   "cell_type": "code",
   "execution_count": null,
   "id": "90a58636",
   "metadata": {},
   "outputs": [],
   "source": []
  }
 ],
 "metadata": {
  "kernelspec": {
   "display_name": "Python 3 (ipykernel)",
   "language": "python",
   "name": "python3"
  },
  "language_info": {
   "codemirror_mode": {
    "name": "ipython",
    "version": 3
   },
   "file_extension": ".py",
   "mimetype": "text/x-python",
   "name": "python",
   "nbconvert_exporter": "python",
   "pygments_lexer": "ipython3",
   "version": "3.9.13"
  }
 },
 "nbformat": 4,
 "nbformat_minor": 5
}
