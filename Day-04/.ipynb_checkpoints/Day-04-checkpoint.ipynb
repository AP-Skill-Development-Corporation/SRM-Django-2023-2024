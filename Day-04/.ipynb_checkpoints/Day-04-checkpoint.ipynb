{
 "cells": [
  {
   "cell_type": "markdown",
   "id": "6a1713d2",
   "metadata": {},
   "source": [
    "## Conditional Statements:\n",
    "    - To check whether the condition is either True or False\n",
    "    - if => single cases\n",
    "    - if-else => two cases\n",
    "    - nested if => two or more n number of cases\n",
    "    - elif => basedd on prefere the eleif will work this elif is used for two or more n number of cases"
   ]
  },
  {
   "cell_type": "markdown",
   "id": "a3d405a1",
   "metadata": {},
   "source": [
    "# If\n",
    "    Syntax:\n",
    "        if condition:\n",
    "            //statements\n",
    "        () => optional case"
   ]
  },
  {
   "cell_type": "code",
   "execution_count": 9,
   "id": "805bd192",
   "metadata": {},
   "outputs": [
    {
     "name": "stdout",
     "output_type": "stream",
     "text": [
      "Enter a number: 0\n"
     ]
    }
   ],
   "source": [
    "n = int(input(\"Enter a number: \"))\n",
    "if n >= 10:\n",
    "    print(f\"Given number {n} is Greater than and equal to 10\")"
   ]
  },
  {
   "cell_type": "code",
   "execution_count": 11,
   "id": "96788c5e",
   "metadata": {},
   "outputs": [
    {
     "name": "stdout",
     "output_type": "stream",
     "text": [
      "Enter a number to fix: 3\n",
      "Enter a number: 5\n",
      "Given number 3 is less than 5\n"
     ]
    }
   ],
   "source": [
    "n = int(input(\"Enter a number to fix: \"))\n",
    "m = int(input(\"Enter a number: \"))\n",
    "if n<=m:\n",
    "    print(f\"Given number {n} is less than {m}\")"
   ]
  },
  {
   "cell_type": "markdown",
   "id": "32cc5ee9",
   "metadata": {},
   "source": [
    "## if-else\n",
    "    Syntax:\n",
    "        if condition:\n",
    "            //statements\n",
    "        else:\n",
    "            //statements\n",
    "           () => optional case"
   ]
  },
  {
   "cell_type": "code",
   "execution_count": 13,
   "id": "03c2d2bf",
   "metadata": {},
   "outputs": [
    {
     "name": "stdout",
     "output_type": "stream",
     "text": [
      "Enter a number: 80\n",
      "Given number 80 is Less than to 100\n"
     ]
    }
   ],
   "source": [
    "n = int(input(\"Enter a number: \"))\n",
    "if n >= 100:\n",
    "    print(f\"Given number {n} is Greater than to 100\")\n",
    "else:\n",
    "    print(f\"Given number {n} is Less than to 100\")"
   ]
  },
  {
   "cell_type": "markdown",
   "id": "6f96c540",
   "metadata": {},
   "source": [
    " ## Nested if:\n",
    "     Syntax:\n",
    "         if condition-1:\n",
    "             if condition-2:\n",
    "                 //statement-1\n",
    "             else:\n",
    "                 //statement-2\n",
    "         else:\n",
    "             //statement-3\n",
    "      Inner of If we can use simple if,if else or nested if or elif"
   ]
  },
  {
   "cell_type": "markdown",
   "id": "7c8544dd",
   "metadata": {},
   "source": [
    "### Sample example\n",
    "```\n",
    "    username -> 1\n",
    "    password -> 1\n",
    "\n",
    "        welcome user !!!\n",
    "    \n",
    "    username -> 0\n",
    "    password -> 1\n",
    "    \n",
    "        Invalid username/Password\n",
    "\n",
    "    username -> 1\n",
    "    password -> 0\n",
    "    \n",
    "        Invalid username/Password\n",
    "```"
   ]
  },
  {
   "cell_type": "code",
   "execution_count": 16,
   "id": "fdb3f561",
   "metadata": {},
   "outputs": [
    {
     "name": "stdout",
     "output_type": "stream",
     "text": [
      "Enter username: rajesh\n",
      "Enter password: ab12\n",
      "Welcome User rajesh!!!\n"
     ]
    }
   ],
   "source": [
    "u,p = \"rajesh\",'ab12'\n",
    "username = input(\"Enter username: \")\n",
    "password = input(\"Enter password: \")\n",
    "if username == u:\n",
    "    if password == p:\n",
    "        print(f\"Welcome User {u}!!!\")\n",
    "    else:\n",
    "        print(\"Invalid username/Password\")\n",
    "else:\n",
    "    print(\"Invalid username/Password\")"
   ]
  },
  {
   "cell_type": "code",
   "execution_count": 19,
   "id": "29a2a9c0",
   "metadata": {},
   "outputs": [
    {
     "name": "stdout",
     "output_type": "stream",
     "text": [
      "Enter username: rajesh\n",
      "Enter password: ab12\n",
      "Welcome User rajesh!!!\n"
     ]
    }
   ],
   "source": [
    "u,p = \"rajesh\",'ab12'\n",
    "username = input(\"Enter username: \")\n",
    "password = input(\"Enter password: \")\n",
    "if username == u and password == p:\n",
    "    print(f\"Welcome User {u}!!!\")\n",
    "else:\n",
    "    print(\"Invalid username/Password\")"
   ]
  },
  {
   "cell_type": "markdown",
   "id": "930b994d",
   "metadata": {},
   "source": [
    "### Sample Example\n",
    "```\n",
    "    username => 1\n",
    "        password => 1\n",
    "            => Welcome user\n",
    "\n",
    "    username => 0\n",
    "    invalid username\n",
    "\n",
    "    username => 1\n",
    "        password => 0\n",
    "        invalid password\n",
    "\n",
    "    username => 1\n",
    "        password => 1\n",
    "            => Welcome User !!!\n",
    "```"
   ]
  },
  {
   "cell_type": "code",
   "execution_count": 23,
   "id": "62eb85da",
   "metadata": {},
   "outputs": [
    {
     "name": "stdout",
     "output_type": "stream",
     "text": [
      "Enter Username: qwe\n",
      "Enter Password: ty45\n",
      "Welcome User qwe!!!\n"
     ]
    }
   ],
   "source": [
    "y,m = \"qwe\",\"ty45\"\n",
    "u = input(\"Enter Username: \")\n",
    "if u == y:\n",
    "    h = input(\"Enter Password: \")\n",
    "    if h == m:\n",
    "        print(f\"Welcome User {u}!!!\")\n",
    "    else:\n",
    "        print(\"Invalid Password\")\n",
    "else:\n",
    "    print(f\"{u} username doesnt Exists\")"
   ]
  },
  {
   "cell_type": "markdown",
   "id": "e0983a1f",
   "metadata": {},
   "source": [
    "### Elif\n",
    "    Syntax:\n",
    "        if condition-1:\n",
    "            //statement-1\n",
    "        elif condition-2:\n",
    "            //statement-2\n",
    "            |        |\n",
    "        else:\n",
    "            //statement-(n-1)"
   ]
  },
  {
   "cell_type": "code",
   "execution_count": 37,
   "id": "373d4568",
   "metadata": {},
   "outputs": [
    {
     "name": "stdout",
     "output_type": "stream",
     "text": [
      "Enter a number: 23\n",
      "Given number 23 is Less than 100\n"
     ]
    }
   ],
   "source": [
    "n = int(input(\"Enter a number: \"))\n",
    "\n",
    "if n%5==0:\n",
    "    print(f\"Given number {n} is divisible by 5\")\n",
    "elif n>40 and n<100:\n",
    "    print(f\"Number {n} is in between 100 and 40\")\n",
    "elif n%5!=0 and n>100:\n",
    "    print(f\"Given number {n} is not divisile by 5\")\n",
    "else:\n",
    "    print(f\"Given number {n} is Less than 100\")"
   ]
  },
  {
   "cell_type": "markdown",
   "id": "9ecf130d",
   "metadata": {},
   "source": [
    "## Loops or Repitions\n",
    "    => To print the statement for n number of times\n",
    "    - for => known ranges\n",
    "    - while => unknown ranges,known ranges, Infinity  "
   ]
  },
  {
   "cell_type": "markdown",
   "id": "aa6cf362",
   "metadata": {},
   "source": [
    "### For\n",
    "    Syntax:\n",
    "        for iterationvariablename in range(start,stop,step):\n",
    "            //statements\n",
    "                        or\n",
    "        Iterators => List,Tuple,String and dictionary\n",
    "        for iterationvariablename in itertor:\n",
    "            //statements"
   ]
  },
  {
   "cell_type": "markdown",
   "id": "3685f027",
   "metadata": {},
   "source": [
    "## range:\n",
    "    - range(end):\n",
    "        => By default it starts with exactly \"0\"\n",
    "        => It increments with +1\n",
    "        => It stops a value at endvalue-1\n",
    "        => Example\n",
    "            range(6):\n",
    "                0 1 2 3 4 5\n",
    "    - range(start,end):\n",
    "        => Its exactly with start value\n",
    "        => It increments with +1\n",
    "        => It stops a value at endvalue-1\n",
    "        => Example\n",
    "            range(10,15):\n",
    "                10 11 12 13 14\n",
    "    - range(start,end,step):\n",
    "        => It exactly starts with start value\n",
    "        => It increments/decrements with step value\n",
    "        => It stops a value with endvalue-1\n",
    "        => Example\n",
    "            range(10,20,3):\n",
    "                10 13 16 19"
   ]
  },
  {
   "cell_type": "code",
   "execution_count": 42,
   "id": "0b57c942",
   "metadata": {},
   "outputs": [
    {
     "name": "stdout",
     "output_type": "stream",
     "text": [
      "Enter a number: 10\n",
      "1 2 3 4 5 6 7 8 9 10 "
     ]
    }
   ],
   "source": [
    "n = int(input(\"Enter a number: \"))\n",
    "for i in range(n):\n",
    "    print(i+1,end=\" \")"
   ]
  },
  {
   "cell_type": "code",
   "execution_count": null,
   "id": "9a2708ee",
   "metadata": {},
   "outputs": [],
   "source": [
    "range(10) => 0 9\n",
    "range(10) => 1 10\n",
    "range(5) => 5 4 3 2 1"
   ]
  },
  {
   "cell_type": "code",
   "execution_count": 47,
   "id": "ed321f2e",
   "metadata": {},
   "outputs": [
    {
     "name": "stdout",
     "output_type": "stream",
     "text": [
      "Enter a range: 10\n",
      "10 9 8 7 6 5 4 3 2 1 "
     ]
    }
   ],
   "source": [
    "m = int(input(\"Enter a range: \"))\n",
    "for i in range(m):\n",
    "    print(m-i,end=\" \")"
   ]
  },
  {
   "cell_type": "markdown",
   "id": "d49f138e",
   "metadata": {},
   "source": [
    "### Sample Example\n",
    "```\n",
    "Input:\n",
    "    n = 12\n",
    "\n",
    "Output:\n",
    "    21A4M01\n",
    "    21A4M02\n",
    "    21A4M03\n",
    "    21A4M04\n",
    "    21A4M05\n",
    "    21A4M06\n",
    "    21A4M07\n",
    "    21A4M08\n",
    "    21A4M09\n",
    "    21A4M10\n",
    "    21A4M11\n",
    "```"
   ]
  },
  {
   "cell_type": "code",
   "execution_count": 55,
   "id": "df49996b",
   "metadata": {},
   "outputs": [
    {
     "name": "stdout",
     "output_type": "stream",
     "text": [
      "10\n",
      "21A4M01\n",
      "21A4M02\n",
      "21A4M03\n",
      "21A4M04\n",
      "21A4M05\n",
      "21A4M06\n",
      "21A4M07\n",
      "21A4M08\n",
      "21A4M09\n",
      "21A4M10\n"
     ]
    }
   ],
   "source": [
    "h = int(input())\n",
    "for i in range(h):\n",
    "    print(f\"21A4M{i+1:02}\")"
   ]
  },
  {
   "cell_type": "code",
   "execution_count": null,
   "id": "25249f3f",
   "metadata": {},
   "outputs": [],
   "source": []
  }
 ],
 "metadata": {
  "kernelspec": {
   "display_name": "Python 3 (ipykernel)",
   "language": "python",
   "name": "python3"
  },
  "language_info": {
   "codemirror_mode": {
    "name": "ipython",
    "version": 3
   },
   "file_extension": ".py",
   "mimetype": "text/x-python",
   "name": "python",
   "nbconvert_exporter": "python",
   "pygments_lexer": "ipython3",
   "version": "3.9.13"
  }
 },
 "nbformat": 4,
 "nbformat_minor": 5
}
