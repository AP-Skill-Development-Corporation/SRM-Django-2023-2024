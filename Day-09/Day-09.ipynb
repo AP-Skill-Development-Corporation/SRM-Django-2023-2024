{
 "cells": [
  {
   "cell_type": "markdown",
   "id": "4a615244",
   "metadata": {},
   "source": [
    "## Function:\n",
    "    - To perform a specific task\n",
    "    - Function types\n",
    "        => Builtin => The task is predefined [Already task is fixed]\n",
    "             Ex: print,range,input,len, etc.,   \n",
    "        => User Defined => The task is to be fixed by a user\n",
    "             Ex: ad,ml,rev,nodigit \n",
    "    - Code reuseability\n",
    "    Syntax:\n",
    "        def function_name(parameters):\n",
    "            //statements\n",
    "            return return_value\n",
    "     "
   ]
  },
  {
   "cell_type": "markdown",
   "id": "cbfd7030",
   "metadata": {},
   "source": [
    "## User defined Function types:\n",
    "    => Reading,Printing and Logic\n",
    "    \n",
    "    => With returntype and with arguments\n",
    "    => With returntype and without arguments\n",
    "    => Without returntype and with arguments\n",
    "    => Without returntype and without arguments"
   ]
  },
  {
   "cell_type": "code",
   "execution_count": 3,
   "id": "c256863c",
   "metadata": {},
   "outputs": [],
   "source": [
    "# With returntype and with arguments\n",
    "# Reading => Main\n",
    "# Printing => Main\n",
    "# Logic => Function\n",
    "def st(d):\n",
    "    c = 0\n",
    "    for i in range(1,d+1):\n",
    "        c+=i\n",
    "    return c"
   ]
  },
  {
   "cell_type": "code",
   "execution_count": 4,
   "id": "84ec6ecf",
   "metadata": {},
   "outputs": [
    {
     "name": "stdout",
     "output_type": "stream",
     "text": [
      "Enter a value: 5\n",
      "Given number is : 5 and sum of its range is: 15\n"
     ]
    }
   ],
   "source": [
    "c = int(input(\"Enter a value: \"))\n",
    "print(f\"Given number is : {c} and sum of its range is: {st(c)}\")"
   ]
  },
  {
   "cell_type": "code",
   "execution_count": 6,
   "id": "ae6715a4",
   "metadata": {},
   "outputs": [
    {
     "name": "stdout",
     "output_type": "stream",
     "text": [
      "Enter a range: 3\n",
      "Given number is: 3 and sum of its range is: 6\n"
     ]
    }
   ],
   "source": [
    "# With returntype and without arguments\n",
    "# Reading => Function\n",
    "# Printing => Main\n",
    "# Logic => Function\n",
    "def dy():\n",
    "    n = int(input(\"Enter a range: \"))\n",
    "    print(f\"Given number is: {n} and sum of its range is:\",end=\" \")\n",
    "    d = 0\n",
    "    for i in range(1,n+1):\n",
    "        d+=i\n",
    "    return d\n",
    "\n",
    "print(f\"{dy()}\")"
   ]
  },
  {
   "cell_type": "code",
   "execution_count": 9,
   "id": "fd5849bd",
   "metadata": {},
   "outputs": [
    {
     "name": "stdout",
     "output_type": "stream",
     "text": [
      "Enter a number: 12\n",
      "Given number is: 12 and its digit count is: 2\n"
     ]
    }
   ],
   "source": [
    "# Without returntype and with arguments\n",
    "# Reading => Main\n",
    "# Printing => Function\n",
    "# Logic => Function\n",
    "def printdigitcount(s):\n",
    "    v = 0\n",
    "    while s>0:\n",
    "        s//=10\n",
    "        v+=1\n",
    "    print(f\"and its digit count is: {v}\")\n",
    "    return\n",
    "\n",
    "n = int(input(\"Enter a number: \"))\n",
    "print(f\"Given number is: {n}\",end=\" \")\n",
    "printdigitcount(n)"
   ]
  },
  {
   "cell_type": "code",
   "execution_count": 12,
   "id": "4c50b9a9",
   "metadata": {},
   "outputs": [
    {
     "name": "stdout",
     "output_type": "stream",
     "text": [
      "Enter a number: 7845\n",
      "Given number is: 7845 and its reverse is: 5487\n"
     ]
    }
   ],
   "source": [
    "# Without returntype and without arguments\n",
    "# Readinng => Function\n",
    "# Printing => Function\n",
    "# Logic => Function\n",
    "def reversenumber():\n",
    "    n = int(input(\"Enter a number: \"))\n",
    "    c = 0\n",
    "    print(f\"Given number is: {n} and its reverse is:\",end=\" \")\n",
    "    while n!=0:\n",
    "        c = c*10 + n%10\n",
    "        n//=10\n",
    "    print(f\"{c}\")\n",
    "    return\n",
    "\n",
    "reversenumber()"
   ]
  },
  {
   "cell_type": "markdown",
   "id": "04e9fcc2",
   "metadata": {},
   "source": [
    "## Function Argument Types:\n",
    "    - Default\n",
    "    - Required or Positional\n",
    "    - Keyword\n",
    "    - Varible-Length\n",
    "        - Arbitary keyword\n",
    "        - Arbitary Positional"
   ]
  },
  {
   "cell_type": "markdown",
   "id": "680d2fd5",
   "metadata": {},
   "source": [
    "## Default argument:\n",
    "    - In function parameters the varaible values are fixed but we need to follow the preference from right to left"
   ]
  },
  {
   "cell_type": "code",
   "execution_count": 13,
   "id": "842a0123",
   "metadata": {},
   "outputs": [
    {
     "name": "stdout",
     "output_type": "stream",
     "text": [
      "Enter Employee id: E67\n",
      "Enter Employee Name: Prassad\n",
      "========================================Employee Details========================================\n",
      "Employee Id is: E67\n",
      "Employee Name is: Prassad\n"
     ]
    }
   ],
   "source": [
    "def employee(a,b):\n",
    "    print(\"==\"*20+\"Employee Details\"+\"==\"*20)\n",
    "    print(f\"Employee Id is: {a}\")\n",
    "    print(f\"Employee Name is: {b}\")\n",
    "    return\n",
    "\n",
    "ed = input(\"Enter Employee id: \")\n",
    "ename = input(\"Enter Employee Name: \")\n",
    "employee(ed,ename)"
   ]
  },
  {
   "cell_type": "code",
   "execution_count": 14,
   "id": "a6cb33c2",
   "metadata": {},
   "outputs": [
    {
     "name": "stdout",
     "output_type": "stream",
     "text": [
      "Enter Employee id: T56\n",
      "Enter Employee Name: Kavitha\n",
      "========================================Employee Details========================================\n",
      "Employee Id is: T56\n",
      "Employee Name is: Kavitha\n",
      "Employee Salary is: 45000\n"
     ]
    }
   ],
   "source": [
    "def employee(a,b,sa = 45000):\n",
    "    print(\"==\"*20+\"Employee Details\"+\"==\"*20)\n",
    "    print(f\"Employee Id is: {a}\")\n",
    "    print(f\"Employee Name is: {b}\")\n",
    "    print(f\"Employee Salary is: {sa}\")\n",
    "    return\n",
    "\n",
    "ed = input(\"Enter Employee id: \")\n",
    "ename = input(\"Enter Employee Name: \")\n",
    "employee(ed,ename)"
   ]
  },
  {
   "cell_type": "code",
   "execution_count": 16,
   "id": "9e128c72",
   "metadata": {},
   "outputs": [
    {
     "name": "stdout",
     "output_type": "stream",
     "text": [
      "Enter Employee id: W345\n",
      "========================================Employee Details========================================\n",
      "Employee Id is: W345\n",
      "Employee Name is: Lokesh\n",
      "Employee Salary is: 45000\n"
     ]
    }
   ],
   "source": [
    "def employee(a,b=\"Lokesh\",sa = 45000):\n",
    "    print(\"==\"*20+\"Employee Details\"+\"==\"*20)\n",
    "    print(f\"Employee Id is: {a}\")\n",
    "    print(f\"Employee Name is: {b}\")\n",
    "    print(f\"Employee Salary is: {sa}\")\n",
    "    return\n",
    "\n",
    "ed = input(\"Enter Employee id: \")\n",
    "ename = input(\"Enter Employee Name: \")\n",
    "employee(ed,ename)"
   ]
  },
  {
   "cell_type": "code",
   "execution_count": 17,
   "id": "6bcfc00a",
   "metadata": {},
   "outputs": [
    {
     "name": "stdout",
     "output_type": "stream",
     "text": [
      "Enter Employee id: P45\n",
      "========================================Employee Details========================================\n",
      "Employee Id is: P45\n",
      "Employee Name is: Lokesh\n",
      "Employee Salary is: 45000\n"
     ]
    }
   ],
   "source": [
    "def employee(a,b=\"Lokesh\",sa = 45000):\n",
    "    print(\"==\"*20+\"Employee Details\"+\"==\"*20)\n",
    "    print(f\"Employee Id is: {a}\")\n",
    "    print(f\"Employee Name is: {b}\")\n",
    "    print(f\"Employee Salary is: {sa}\")\n",
    "    return\n",
    "\n",
    "ed = input(\"Enter Employee id: \")\n",
    "employee(ed)"
   ]
  },
  {
   "cell_type": "code",
   "execution_count": 18,
   "id": "8533779c",
   "metadata": {},
   "outputs": [
    {
     "name": "stdout",
     "output_type": "stream",
     "text": [
      "========================================Employee Details========================================\n",
      "Employee Id is: K56\n",
      "Employee Name is: Lokesh\n",
      "Employee Salary is: 45000\n"
     ]
    }
   ],
   "source": [
    "def employee(a=\"K56\",b=\"Lokesh\",sa = 45000):\n",
    "    print(\"==\"*20+\"Employee Details\"+\"==\"*20)\n",
    "    print(f\"Employee Id is: {a}\")\n",
    "    print(f\"Employee Name is: {b}\")\n",
    "    print(f\"Employee Salary is: {sa}\")\n",
    "    return\n",
    "\n",
    "employee()"
   ]
  },
  {
   "cell_type": "code",
   "execution_count": 20,
   "id": "baf2f5cd",
   "metadata": {},
   "outputs": [
    {
     "ename": "SyntaxError",
     "evalue": "non-default argument follows default argument (663358260.py, line 1)",
     "output_type": "error",
     "traceback": [
      "\u001b[1;36m  Cell \u001b[1;32mIn[20], line 1\u001b[1;36m\u001b[0m\n\u001b[1;33m    def employee(a=\"K56\",b,sa):\u001b[0m\n\u001b[1;37m                           ^\u001b[0m\n\u001b[1;31mSyntaxError\u001b[0m\u001b[1;31m:\u001b[0m non-default argument follows default argument\n"
     ]
    }
   ],
   "source": [
    "def employee(a=\"K56\",b,sa):\n",
    "    print(\"==\"*20+\"Employee Details\"+\"==\"*20)\n",
    "    print(f\"Employee Id is: {a}\")\n",
    "    print(f\"Employee Name is: {b}\")\n",
    "    print(f\"Employee Salary is: {sa}\")\n",
    "    return\n",
    "\n",
    "employee()"
   ]
  },
  {
   "cell_type": "markdown",
   "id": "f9803e7f",
   "metadata": {},
   "source": [
    "## Required or Positional argument:\n",
    "    - Exact parameter values are to be accessed from outside of a function"
   ]
  },
  {
   "cell_type": "code",
   "execution_count": 21,
   "id": "b3c41590",
   "metadata": {},
   "outputs": [
    {
     "name": "stdout",
     "output_type": "stream",
     "text": [
      "Enter Roll Number: 21AK1A1204\n",
      "Enter Name: Kalyan\n",
      "============================== Student Details ==============================\n",
      "Roll Number: 21AK1A1204\n",
      "Student Name: Kalyan\n"
     ]
    }
   ],
   "source": [
    "def student(c,t):\n",
    "    print(\"==\"*15+\" Student Details \"+\"==\"*15)\n",
    "    print(f\"Roll Number: {c}\")\n",
    "    print(f\"Student Name: {t}\")\n",
    "    return\n",
    "\n",
    "p = input(\"Enter Roll Number: \")\n",
    "n = input(\"Enter Name: \")\n",
    "student(p,n)"
   ]
  },
  {
   "cell_type": "code",
   "execution_count": 22,
   "id": "13518dc6",
   "metadata": {},
   "outputs": [
    {
     "name": "stdout",
     "output_type": "stream",
     "text": [
      "Enter Roll Number: 20P3124\n",
      "Enter Name: Sarath\n"
     ]
    },
    {
     "ename": "TypeError",
     "evalue": "student() missing 1 required positional argument: 'k'",
     "output_type": "error",
     "traceback": [
      "\u001b[1;31m-------------------------------------------------------\u001b[0m",
      "\u001b[1;31mTypeError\u001b[0m             Traceback (most recent call last)",
      "Cell \u001b[1;32mIn[22], line 9\u001b[0m\n\u001b[0;32m      7\u001b[0m p \u001b[38;5;241m=\u001b[39m \u001b[38;5;28minput\u001b[39m(\u001b[38;5;124m\"\u001b[39m\u001b[38;5;124mEnter Roll Number: \u001b[39m\u001b[38;5;124m\"\u001b[39m)\n\u001b[0;32m      8\u001b[0m n \u001b[38;5;241m=\u001b[39m \u001b[38;5;28minput\u001b[39m(\u001b[38;5;124m\"\u001b[39m\u001b[38;5;124mEnter Name: \u001b[39m\u001b[38;5;124m\"\u001b[39m)\n\u001b[1;32m----> 9\u001b[0m \u001b[43mstudent\u001b[49m\u001b[43m(\u001b[49m\u001b[43mp\u001b[49m\u001b[43m,\u001b[49m\u001b[43mn\u001b[49m\u001b[43m)\u001b[49m\n",
      "\u001b[1;31mTypeError\u001b[0m: student() missing 1 required positional argument: 'k'"
     ]
    }
   ],
   "source": [
    "def student(c,t,k):\n",
    "    print(\"==\"*15+\" Student Details \"+\"==\"*15)\n",
    "    print(f\"Roll Number: {c}\")\n",
    "    print(f\"Student Name: {t}\")\n",
    "    return\n",
    "\n",
    "p = input(\"Enter Roll Number: \")\n",
    "n = input(\"Enter Name: \")\n",
    "student(p,n)"
   ]
  },
  {
   "cell_type": "code",
   "execution_count": 23,
   "id": "ddf3c428",
   "metadata": {},
   "outputs": [
    {
     "name": "stdout",
     "output_type": "stream",
     "text": [
      "Enter Roll Number: AP21110045\n",
      "Enter Name: Manoj\n"
     ]
    },
    {
     "ename": "TypeError",
     "evalue": "student() takes 1 positional argument but 2 were given",
     "output_type": "error",
     "traceback": [
      "\u001b[1;31m-------------------------------------------------------\u001b[0m",
      "\u001b[1;31mTypeError\u001b[0m             Traceback (most recent call last)",
      "Cell \u001b[1;32mIn[23], line 8\u001b[0m\n\u001b[0;32m      6\u001b[0m p \u001b[38;5;241m=\u001b[39m \u001b[38;5;28minput\u001b[39m(\u001b[38;5;124m\"\u001b[39m\u001b[38;5;124mEnter Roll Number: \u001b[39m\u001b[38;5;124m\"\u001b[39m)\n\u001b[0;32m      7\u001b[0m n \u001b[38;5;241m=\u001b[39m \u001b[38;5;28minput\u001b[39m(\u001b[38;5;124m\"\u001b[39m\u001b[38;5;124mEnter Name: \u001b[39m\u001b[38;5;124m\"\u001b[39m)\n\u001b[1;32m----> 8\u001b[0m \u001b[43mstudent\u001b[49m\u001b[43m(\u001b[49m\u001b[43mp\u001b[49m\u001b[43m,\u001b[49m\u001b[43mn\u001b[49m\u001b[43m)\u001b[49m\n",
      "\u001b[1;31mTypeError\u001b[0m: student() takes 1 positional argument but 2 were given"
     ]
    }
   ],
   "source": [
    "def student(c):\n",
    "    print(\"==\"*15+\" Student Details \"+\"==\"*15)\n",
    "    print(f\"Roll Number: {c}\")\n",
    "    return\n",
    "\n",
    "p = input(\"Enter Roll Number: \")\n",
    "n = input(\"Enter Name: \")\n",
    "student(p,n)"
   ]
  },
  {
   "cell_type": "code",
   "execution_count": 25,
   "id": "79e99196",
   "metadata": {},
   "outputs": [
    {
     "name": "stdout",
     "output_type": "stream",
     "text": [
      "Enter Roll Number: TRT46\n",
      "============================== Student Details ==============================\n",
      "Roll Number: TRT46\n",
      "Studnet Name: Kavitha\n"
     ]
    }
   ],
   "source": [
    "def student(c,k='Kavitha'):\n",
    "    print(\"==\"*15+\" Student Details \"+\"==\"*15)\n",
    "    print(f\"Roll Number: {c}\")\n",
    "    print(f\"Studnet Name: {k}\")\n",
    "    return\n",
    "\n",
    "p = input(\"Enter Roll Number: \")\n",
    "# n = input(\"Enter Name: \")\n",
    "# student(p,n)\n",
    "student(p)"
   ]
  },
  {
   "cell_type": "markdown",
   "id": "ce2906a4",
   "metadata": {},
   "source": [
    "## Keyword Argument:\n",
    "    - Key names should be equal for function declaration and in function call. Those names can be accessed with unorder formats."
   ]
  },
  {
   "cell_type": "code",
   "execution_count": 26,
   "id": "4aea0e82",
   "metadata": {},
   "outputs": [
    {
     "name": "stdout",
     "output_type": "stream",
     "text": [
      "Employee Name: Rajesh\n",
      "Enter Employee Salary: 45000\n",
      "============================== Employee Details ==============================\n",
      "Employee Name: Rajesh\n",
      "Employee Salary: 45000.0\n"
     ]
    }
   ],
   "source": [
    "def employee(b,a):\n",
    "    print(\"==\"*15+\" Employee Details \"+\"==\"*15)\n",
    "    print(f\"Employee Name: {b}\")\n",
    "    print(f\"Employee Salary: {a}\")\n",
    "    return\n",
    "\n",
    "en = input(\"Employee Name: \")\n",
    "esal = float(input(\"Enter Employee Salary: \"))\n",
    "employee(a=esal,b=en)"
   ]
  },
  {
   "cell_type": "code",
   "execution_count": 28,
   "id": "f85aff8a",
   "metadata": {},
   "outputs": [
    {
     "name": "stdout",
     "output_type": "stream",
     "text": [
      "Employee Name: Bhargav\n",
      "Enter Employee Salary: 25000\n"
     ]
    },
    {
     "ename": "TypeError",
     "evalue": "employee() got an unexpected keyword argument 'd'",
     "output_type": "error",
     "traceback": [
      "\u001b[1;31m-------------------------------------------------------\u001b[0m",
      "\u001b[1;31mTypeError\u001b[0m             Traceback (most recent call last)",
      "Cell \u001b[1;32mIn[28], line 9\u001b[0m\n\u001b[0;32m      7\u001b[0m en \u001b[38;5;241m=\u001b[39m \u001b[38;5;28minput\u001b[39m(\u001b[38;5;124m\"\u001b[39m\u001b[38;5;124mEmployee Name: \u001b[39m\u001b[38;5;124m\"\u001b[39m)\n\u001b[0;32m      8\u001b[0m esal \u001b[38;5;241m=\u001b[39m \u001b[38;5;28mfloat\u001b[39m(\u001b[38;5;28minput\u001b[39m(\u001b[38;5;124m\"\u001b[39m\u001b[38;5;124mEnter Employee Salary: \u001b[39m\u001b[38;5;124m\"\u001b[39m))\n\u001b[1;32m----> 9\u001b[0m \u001b[43memployee\u001b[49m\u001b[43m(\u001b[49m\u001b[43ma\u001b[49m\u001b[38;5;241;43m=\u001b[39;49m\u001b[43mesal\u001b[49m\u001b[43m,\u001b[49m\u001b[43mb\u001b[49m\u001b[38;5;241;43m=\u001b[39;49m\u001b[43men\u001b[49m\u001b[43m,\u001b[49m\u001b[43md\u001b[49m\u001b[38;5;241;43m=\u001b[39;49m\u001b[38;5;124;43m\"\u001b[39;49m\u001b[38;5;124;43mEt56\u001b[39;49m\u001b[38;5;124;43m\"\u001b[39;49m\u001b[43m)\u001b[49m\n",
      "\u001b[1;31mTypeError\u001b[0m: employee() got an unexpected keyword argument 'd'"
     ]
    }
   ],
   "source": [
    "def employee(b,a,p):\n",
    "    print(\"==\"*15+\" Employee Details \"+\"==\"*15)\n",
    "    print(f\"Employee Name: {b}\")\n",
    "    print(f\"Employee Salary: {a}\")\n",
    "    return\n",
    "\n",
    "en = input(\"Employee Name: \")\n",
    "esal = float(input(\"Enter Employee Salary: \"))\n",
    "employee(a=esal,b=en,d=\"Et56\")"
   ]
  },
  {
   "cell_type": "code",
   "execution_count": 29,
   "id": "82365121",
   "metadata": {},
   "outputs": [
    {
     "name": "stdout",
     "output_type": "stream",
     "text": [
      "Employee Name: Tilak\n",
      "Enter Employee Salary: 25000\n"
     ]
    },
    {
     "ename": "TypeError",
     "evalue": "employee() missing 1 required positional argument: 'p'",
     "output_type": "error",
     "traceback": [
      "\u001b[1;31m-------------------------------------------------------\u001b[0m",
      "\u001b[1;31mTypeError\u001b[0m             Traceback (most recent call last)",
      "Cell \u001b[1;32mIn[29], line 9\u001b[0m\n\u001b[0;32m      7\u001b[0m en \u001b[38;5;241m=\u001b[39m \u001b[38;5;28minput\u001b[39m(\u001b[38;5;124m\"\u001b[39m\u001b[38;5;124mEmployee Name: \u001b[39m\u001b[38;5;124m\"\u001b[39m)\n\u001b[0;32m      8\u001b[0m esal \u001b[38;5;241m=\u001b[39m \u001b[38;5;28mfloat\u001b[39m(\u001b[38;5;28minput\u001b[39m(\u001b[38;5;124m\"\u001b[39m\u001b[38;5;124mEnter Employee Salary: \u001b[39m\u001b[38;5;124m\"\u001b[39m))\n\u001b[1;32m----> 9\u001b[0m \u001b[43memployee\u001b[49m\u001b[43m(\u001b[49m\u001b[43ma\u001b[49m\u001b[38;5;241;43m=\u001b[39;49m\u001b[43mesal\u001b[49m\u001b[43m,\u001b[49m\u001b[43mb\u001b[49m\u001b[38;5;241;43m=\u001b[39;49m\u001b[43men\u001b[49m\u001b[43m)\u001b[49m\n",
      "\u001b[1;31mTypeError\u001b[0m: employee() missing 1 required positional argument: 'p'"
     ]
    }
   ],
   "source": [
    "def employee(b,a,p):\n",
    "    print(\"==\"*15+\" Employee Details \"+\"==\"*15)\n",
    "    print(f\"Employee Name: {b}\")\n",
    "    print(f\"Employee Salary: {a}\")\n",
    "    return\n",
    "\n",
    "en = input(\"Employee Name: \")\n",
    "esal = float(input(\"Enter Employee Salary: \"))\n",
    "employee(a=esal,b=en)"
   ]
  },
  {
   "cell_type": "code",
   "execution_count": 30,
   "id": "491cfb87",
   "metadata": {},
   "outputs": [
    {
     "name": "stdout",
     "output_type": "stream",
     "text": [
      "Employee Name: Arun\n",
      "Enter Employee Salary: 65000\n",
      "============================== Employee Details ==============================\n",
      "Employee Name: Arun\n",
      "Employee Salary: 65000.0\n",
      "Employee Id: WE34\n"
     ]
    }
   ],
   "source": [
    "def employee(b,a,p=\"WE34\"):\n",
    "    print(\"==\"*15+\" Employee Details \"+\"==\"*15)\n",
    "    print(f\"Employee Name: {b}\")\n",
    "    print(f\"Employee Salary: {a}\")\n",
    "    print(f\"Employee Id: {p}\")\n",
    "    return\n",
    "\n",
    "en = input(\"Employee Name: \")\n",
    "esal = float(input(\"Enter Employee Salary: \"))\n",
    "employee(a=esal,b=en)"
   ]
  },
  {
   "cell_type": "code",
   "execution_count": 31,
   "id": "93b47df7",
   "metadata": {},
   "outputs": [
    {
     "name": "stdout",
     "output_type": "stream",
     "text": [
      "Employee Name: Charan\n",
      "Enter Employee Salary: 24500\n",
      "Enter Employee Id: ER45\n"
     ]
    },
    {
     "ename": "TypeError",
     "evalue": "employee() got an unexpected keyword argument 'd'",
     "output_type": "error",
     "traceback": [
      "\u001b[1;31m-------------------------------------------------------\u001b[0m",
      "\u001b[1;31mTypeError\u001b[0m             Traceback (most recent call last)",
      "Cell \u001b[1;32mIn[31], line 11\u001b[0m\n\u001b[0;32m      9\u001b[0m esal \u001b[38;5;241m=\u001b[39m \u001b[38;5;28mfloat\u001b[39m(\u001b[38;5;28minput\u001b[39m(\u001b[38;5;124m\"\u001b[39m\u001b[38;5;124mEnter Employee Salary: \u001b[39m\u001b[38;5;124m\"\u001b[39m))\n\u001b[0;32m     10\u001b[0m eid \u001b[38;5;241m=\u001b[39m \u001b[38;5;28minput\u001b[39m(\u001b[38;5;124m\"\u001b[39m\u001b[38;5;124mEnter Employee Id: \u001b[39m\u001b[38;5;124m\"\u001b[39m)\n\u001b[1;32m---> 11\u001b[0m \u001b[43memployee\u001b[49m\u001b[43m(\u001b[49m\u001b[43ma\u001b[49m\u001b[38;5;241;43m=\u001b[39;49m\u001b[43mesal\u001b[49m\u001b[43m,\u001b[49m\u001b[43mb\u001b[49m\u001b[38;5;241;43m=\u001b[39;49m\u001b[43men\u001b[49m\u001b[43m,\u001b[49m\u001b[43md\u001b[49m\u001b[38;5;241;43m=\u001b[39;49m\u001b[43meid\u001b[49m\u001b[43m)\u001b[49m\n",
      "\u001b[1;31mTypeError\u001b[0m: employee() got an unexpected keyword argument 'd'"
     ]
    }
   ],
   "source": [
    "def employee(b,a,p=\"WE34\"):\n",
    "    print(\"==\"*15+\" Employee Details \"+\"==\"*15)\n",
    "    print(f\"Employee Name: {b}\")\n",
    "    print(f\"Employee Salary: {a}\")\n",
    "    print(f\"Employee Id: {p}\")\n",
    "    return\n",
    "\n",
    "en = input(\"Employee Name: \")\n",
    "esal = float(input(\"Enter Employee Salary: \"))\n",
    "eid = input(\"Enter Employee Id: \")\n",
    "employee(a=esal,b=en,d=eid)"
   ]
  },
  {
   "cell_type": "code",
   "execution_count": null,
   "id": "56ff4fd3",
   "metadata": {},
   "outputs": [],
   "source": []
  }
 ],
 "metadata": {
  "kernelspec": {
   "display_name": "Python 3 (ipykernel)",
   "language": "python",
   "name": "python3"
  },
  "language_info": {
   "codemirror_mode": {
    "name": "ipython",
    "version": 3
   },
   "file_extension": ".py",
   "mimetype": "text/x-python",
   "name": "python",
   "nbconvert_exporter": "python",
   "pygments_lexer": "ipython3",
   "version": "3.9.13"
  }
 },
 "nbformat": 4,
 "nbformat_minor": 5
}
