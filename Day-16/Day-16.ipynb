{
 "cells": [
  {
   "cell_type": "code",
   "execution_count": 2,
   "id": "208d7589",
   "metadata": {},
   "outputs": [],
   "source": [
    "import sqlite3\n",
    "c = sqlite3.connect('sample.db')"
   ]
  },
  {
   "cell_type": "code",
   "execution_count": 22,
   "id": "58ec67b5",
   "metadata": {},
   "outputs": [
    {
     "name": "stdout",
     "output_type": "stream",
     "text": [
      "Enter Roll Number: 21Ak1A450\n",
      "('21Ak1A450', 'Ramesh', 2, 'CSE')\n"
     ]
    }
   ],
   "source": [
    "n = input(\"Enter Roll Number: \")\n",
    "z = \"select * from student where rno=?\"\n",
    "t = c.execute(z,(n,)).fetchone()\n",
    "# print(t.fetchone(),type(t))\n",
    "print(t)\n",
    "c.commit()"
   ]
  },
  {
   "cell_type": "code",
   "execution_count": 19,
   "id": "3fa333ce",
   "metadata": {},
   "outputs": [
    {
     "name": "stdout",
     "output_type": "stream",
     "text": [
      "******************** Student Records ********************\n",
      "21Ak1A450 Ramesh\n",
      "21AK1A460 Ganesh\n",
      "********************************************************\n"
     ]
    }
   ],
   "source": [
    "p = \"select * from student\"\n",
    "d = c.execute(p).fetchall()\n",
    "# print(d)\n",
    "print(\"**\"*10+\" Student Records \"+\"**\"*10)\n",
    "for i in d:\n",
    "    print(i[0],i[1])\n",
    "print(\"**\"*28)"
   ]
  },
  {
   "cell_type": "code",
   "execution_count": 23,
   "id": "4c41a3c1",
   "metadata": {},
   "outputs": [
    {
     "name": "stdout",
     "output_type": "stream",
     "text": [
      "Enter roll number: 21Ak1A450\n",
      "Enter New Roll number21AK1A470\n"
     ]
    }
   ],
   "source": [
    "n = input(\"Enter roll number: \")\n",
    "h = input(\"Enter New Roll number\")\n",
    "e = \"update student set rno=? where rno=?\"\n",
    "c.execute(e,(h,n))\n",
    "c.commit()"
   ]
  },
  {
   "cell_type": "code",
   "execution_count": 24,
   "id": "9af83861",
   "metadata": {},
   "outputs": [
    {
     "name": "stdout",
     "output_type": "stream",
     "text": [
      "Enter roll number: 21AK1A460\n",
      "Enter New Roll number21AK1A480\n",
      "Enter New NameNaresh\n",
      "Enter New Year3\n",
      "Enter New BranchAI/ML\n"
     ]
    }
   ],
   "source": [
    "n = input(\"Enter roll number: \")\n",
    "h = input(\"Enter New Roll number\")\n",
    "p = input(\"Enter New Name\")\n",
    "t = input(\"Enter New Year\")\n",
    "b = input(\"Enter New Branch\")\n",
    "e = \"update student set rno=?,saname=?,syear=?,sbranch=? where rno=?\"\n",
    "c.execute(e,(h,p,t,b,n))\n",
    "c.commit()"
   ]
  },
  {
   "cell_type": "code",
   "execution_count": 28,
   "id": "6fc1540b",
   "metadata": {},
   "outputs": [
    {
     "name": "stdout",
     "output_type": "stream",
     "text": [
      "Enter roll number: 21AK1A470\n",
      "Enter New Roll number21AK1A402\n",
      "Enter New NameBhargav\n",
      "Enter New Year2\n",
      "Enter New BranchCSE\n"
     ]
    }
   ],
   "source": [
    "n = input(\"Enter roll number: \")\n",
    "h = input(\"Enter New Roll number\")\n",
    "p = input(\"Enter New Name\")\n",
    "t = input(\"Enter New Year\")\n",
    "b = input(\"Enter New Branch\")\n",
    "c.execute(\"update student set rno=?,saname=?,syear=?,sbranch=? where rno=?\",(h,p,t,b,n))\n",
    "c.commit()"
   ]
  },
  {
   "cell_type": "code",
   "execution_count": 30,
   "id": "c9f3952a",
   "metadata": {},
   "outputs": [
    {
     "name": "stdout",
     "output_type": "stream",
     "text": [
      "Enter Roll number: 21AK1A480\n"
     ]
    }
   ],
   "source": [
    "m = input(\"Enter Roll number: \")\n",
    "c.execute(\"delete from student where rno=?\",(m,))\n",
    "c.commit()"
   ]
  },
  {
   "cell_type": "code",
   "execution_count": 32,
   "id": "7b693027",
   "metadata": {},
   "outputs": [],
   "source": [
    "c.execute(\"delete from student\")\n",
    "c.commit()"
   ]
  },
  {
   "cell_type": "code",
   "execution_count": null,
   "id": "cf6b44ba",
   "metadata": {},
   "outputs": [],
   "source": [
    "clear => empty => data structure => exists\n",
    "del => delete the data strcuture it wont access for next line"
   ]
  },
  {
   "cell_type": "markdown",
   "id": "176236f7",
   "metadata": {},
   "source": [
    "```\n",
    "Database => CRUD Operations by Using sqlite3\n",
    "Database => choose any database =>  \n",
    "Tablename => choose any table => \n",
    "Fields => roll,name,email,branch,year\n",
    "Task based on Function concept:\n",
    "    1. Insert Record\n",
    "    2. Update Record\n",
    "        1. roll\n",
    "        2. name\n",
    "        3. email\n",
    "        4. exit\n",
    "    3. Display All Records\n",
    "    4. Display single Record\n",
    "    5. Delete All Records\n",
    "    6. Delete single Record\n",
    "    7. Exit\n",
    "```"
   ]
  },
  {
   "cell_type": "code",
   "execution_count": null,
   "id": "79cb65e1",
   "metadata": {},
   "outputs": [],
   "source": []
  }
 ],
 "metadata": {
  "kernelspec": {
   "display_name": "Python 3 (ipykernel)",
   "language": "python",
   "name": "python3"
  },
  "language_info": {
   "codemirror_mode": {
    "name": "ipython",
    "version": 3
   },
   "file_extension": ".py",
   "mimetype": "text/x-python",
   "name": "python",
   "nbconvert_exporter": "python",
   "pygments_lexer": "ipython3",
   "version": "3.9.13"
  }
 },
 "nbformat": 4,
 "nbformat_minor": 5
}
