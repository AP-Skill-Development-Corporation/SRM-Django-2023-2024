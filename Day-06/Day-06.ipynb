{
 "cells": [
  {
   "cell_type": "markdown",
   "id": "4eb99fbc",
   "metadata": {},
   "source": [
    "### Sample Example\n",
    "\n",
    "```\n",
    "    01 02 03 04 05 06 07\n",
    "    08 09 10 11 12 13 14\n",
    "    15 16 17 18 19 20 21\n",
    "    22 23 24 25 26 27 28\n",
    "    29 30 31\n",
    "    \n",
    "    01 ** 03 ** 05 ** 07\n",
    "    ** 09 ** 11 ** 13 **\n",
    "    15 ** 17 ** 19 ** 21\n",
    "    ** 23 ** 25 ** 27 **\n",
    "    29 ** 31\n",
    "    \n",
    "    () ** () ** () ** ()\n",
    "    ** () ** 11 ** 13 **\n",
    "    15 ** 17 ** 19 ** 21\n",
    "    ** 23 ** 25 ** 27 **\n",
    "    29 ** 31\n",
    "    \n",
    "    () && () ** () ** ()\n",
    "    ** && ** [] ** [] **\n",
    "    [] && [] ** [] ** []\n",
    "    ** && ** [] ** [] **\n",
    "    [] && []\n",
    "    \n",
    "    () && () ** () ** ()\n",
    "    ** && ** [] ** [] **\n",
    "    || && || || || || ||\n",
    "    ** && ** [] ** [] **\n",
    "    [] && []\n",
    "```"
   ]
  },
  {
   "cell_type": "code",
   "execution_count": 106,
   "id": "fa8b9bd4",
   "metadata": {},
   "outputs": [
    {
     "name": "stdout",
     "output_type": "stream",
     "text": [
      "() && () ** () ** () \n",
      "** && ** [] ** [] ** \n",
      "|| && || || || || || \n",
      "** && ** [] ** [] ** \n",
      "[] && [] \n"
     ]
    }
   ],
   "source": [
    "d = 1\n",
    "for i in range(5):\n",
    "    for j in range(7):\n",
    "        if d>=32:\n",
    "            break\n",
    "        else:\n",
    "            if j == 1:\n",
    "                print(\"&&\",end=\" \")\n",
    "            elif i == 2:\n",
    "                print(\"||\",end=\" \")\n",
    "            elif d%2==0:\n",
    "                print(\"**\",end=\" \")\n",
    "            elif d%2!=0 and d<=10:\n",
    "                print(\"()\",end=\" \")\n",
    "            else:\n",
    "                print(\"[]\",end=\" \")\n",
    "        d+=1\n",
    "    print()"
   ]
  },
  {
   "cell_type": "markdown",
   "id": "aedb0f6a",
   "metadata": {},
   "source": [
    "## Data Structures:\n",
    "    - To organize the data in order or unorder format\n",
    "    - List\n",
    "    - Tuple\n",
    "    - Set\n",
    "    - Dictionary"
   ]
  },
  {
   "cell_type": "markdown",
   "id": "4379e621",
   "metadata": {},
   "source": [
    "## List:\n",
    "    - It can be represented as \"[]\" and values are seperated with ,\n",
    "    - It stores all data type values\n",
    "    - It is Mutable[Changes the items]\n",
    "    - Slicing can be done because of index\n",
    "    - It stores data in ordered format\n",
    "    - It can be type casted as list()\n",
    "    - It allows duplicate values"
   ]
  },
  {
   "cell_type": "code",
   "execution_count": 12,
   "id": "97821725",
   "metadata": {},
   "outputs": [
    {
     "name": "stdout",
     "output_type": "stream",
     "text": [
      "[12, 56.012, 'Prasanna', (5+7j), False, None, 12, 12] <class 'list'>\n",
      "10 <class 'int'>\n"
     ]
    }
   ],
   "source": [
    "d = [12,56.012,\"Prasanna\",5+7j,False,None,12,12]\n",
    "print(d,type(d))\n",
    "a = 10\n",
    "print(a,type(a))"
   ]
  },
  {
   "cell_type": "code",
   "execution_count": 15,
   "id": "2fb62af7",
   "metadata": {},
   "outputs": [
    {
     "name": "stdout",
     "output_type": "stream",
     "text": [
      "['__add__', '__class__', '__class_getitem__', '__contains__', '__delattr__', '__delitem__', '__dir__', '__doc__', '__eq__', '__format__', '__ge__', '__getattribute__', '__getitem__', '__gt__', '__hash__', '__iadd__', '__imul__', '__init__', '__init_subclass__', '__iter__', '__le__', '__len__', '__lt__', '__mul__', '__ne__', '__new__', '__reduce__', '__reduce_ex__', '__repr__', '__reversed__', '__rmul__', '__setattr__', '__setitem__', '__sizeof__', '__str__', '__subclasshook__', 'append', 'clear', 'copy', 'count', 'extend', 'index', 'insert', 'pop', 'remove', 'reverse', 'sort']\n"
     ]
    }
   ],
   "source": [
    "print(dir(list))"
   ]
  },
  {
   "cell_type": "code",
   "execution_count": 20,
   "id": "2a5e606d",
   "metadata": {},
   "outputs": [
    {
     "name": "stdout",
     "output_type": "stream",
     "text": [
      "Help on method_descriptor:\n",
      "\n",
      "clear(self, /)\n",
      "    Remove all items from list.\n",
      "\n"
     ]
    }
   ],
   "source": [
    "help(list.clear)"
   ]
  },
  {
   "cell_type": "code",
   "execution_count": 21,
   "id": "45fd539e",
   "metadata": {},
   "outputs": [
    {
     "name": "stdout",
     "output_type": "stream",
     "text": [
      "Remove all items from list.\n"
     ]
    }
   ],
   "source": [
    "print(list.clear.__doc__)"
   ]
  },
  {
   "cell_type": "code",
   "execution_count": 22,
   "id": "dd222043",
   "metadata": {},
   "outputs": [
    {
     "name": "stdout",
     "output_type": "stream",
     "text": [
      "[45]\n",
      "[45, 78]\n"
     ]
    }
   ],
   "source": [
    "# append\n",
    "t = [45]\n",
    "print(t)\n",
    "t.append(78)\n",
    "print(t)"
   ]
  },
  {
   "cell_type": "code",
   "execution_count": 23,
   "id": "04265eda",
   "metadata": {},
   "outputs": [
    {
     "name": "stdout",
     "output_type": "stream",
     "text": [
      "[45, 78]\n"
     ]
    },
    {
     "ename": "TypeError",
     "evalue": "list.append() takes exactly one argument (2 given)",
     "output_type": "error",
     "traceback": [
      "\u001b[1;31m----------------------------------------------\u001b[0m",
      "\u001b[1;31mTypeError\u001b[0m    Traceback (most recent call last)",
      "Cell \u001b[1;32mIn[23], line 2\u001b[0m\n\u001b[0;32m      1\u001b[0m \u001b[38;5;28mprint\u001b[39m(t)\n\u001b[1;32m----> 2\u001b[0m \u001b[43mt\u001b[49m\u001b[38;5;241;43m.\u001b[39;49m\u001b[43mappend\u001b[49m\u001b[43m(\u001b[49m\u001b[38;5;241;43m45\u001b[39;49m\u001b[43m,\u001b[49m\u001b[38;5;241;43m89.011\u001b[39;49m\u001b[43m)\u001b[49m\n\u001b[0;32m      3\u001b[0m prinnt(t)\n",
      "\u001b[1;31mTypeError\u001b[0m: list.append() takes exactly one argument (2 given)"
     ]
    }
   ],
   "source": [
    "print(t)\n",
    "t.append(45,89.011)\n",
    "prinnt(t)"
   ]
  },
  {
   "cell_type": "code",
   "execution_count": 24,
   "id": "66d82507",
   "metadata": {},
   "outputs": [
    {
     "name": "stdout",
     "output_type": "stream",
     "text": [
      "[45, 78]\n",
      "[45, 78, [45, 89, 65]]\n"
     ]
    }
   ],
   "source": [
    "print(t)\n",
    "t.append([45,89,65])\n",
    "print(t)"
   ]
  },
  {
   "cell_type": "code",
   "execution_count": 25,
   "id": "414ab676",
   "metadata": {},
   "outputs": [
    {
     "name": "stdout",
     "output_type": "stream",
     "text": [
      "[78, 'Lalitha']\n"
     ]
    },
    {
     "ename": "TypeError",
     "evalue": "'int' object is not iterable",
     "output_type": "error",
     "traceback": [
      "\u001b[1;31m----------------------------------------------\u001b[0m",
      "\u001b[1;31mTypeError\u001b[0m    Traceback (most recent call last)",
      "Cell \u001b[1;32mIn[25], line 3\u001b[0m\n\u001b[0;32m      1\u001b[0m h \u001b[38;5;241m=\u001b[39m [\u001b[38;5;241m78\u001b[39m,\u001b[38;5;124m\"\u001b[39m\u001b[38;5;124mLalitha\u001b[39m\u001b[38;5;124m\"\u001b[39m]\n\u001b[0;32m      2\u001b[0m \u001b[38;5;28mprint\u001b[39m(h)\n\u001b[1;32m----> 3\u001b[0m \u001b[43mh\u001b[49m\u001b[38;5;241;43m.\u001b[39;49m\u001b[43mextend\u001b[49m\u001b[43m(\u001b[49m\u001b[38;5;241;43m56\u001b[39;49m\u001b[43m)\u001b[49m\n\u001b[0;32m      4\u001b[0m \u001b[38;5;28mprint\u001b[39m(h)\n",
      "\u001b[1;31mTypeError\u001b[0m: 'int' object is not iterable"
     ]
    }
   ],
   "source": [
    "h = [78,\"Lalitha\"]\n",
    "print(h)\n",
    "h.extend(56)\n",
    "print(h)"
   ]
  },
  {
   "cell_type": "code",
   "execution_count": 26,
   "id": "8728d269",
   "metadata": {},
   "outputs": [
    {
     "name": "stdout",
     "output_type": "stream",
     "text": [
      "[78, 'Lalitha']\n"
     ]
    },
    {
     "ename": "TypeError",
     "evalue": "list.extend() takes exactly one argument (3 given)",
     "output_type": "error",
     "traceback": [
      "\u001b[1;31m----------------------------------------------\u001b[0m",
      "\u001b[1;31mTypeError\u001b[0m    Traceback (most recent call last)",
      "Cell \u001b[1;32mIn[26], line 2\u001b[0m\n\u001b[0;32m      1\u001b[0m \u001b[38;5;28mprint\u001b[39m(h)\n\u001b[1;32m----> 2\u001b[0m \u001b[43mh\u001b[49m\u001b[38;5;241;43m.\u001b[39;49m\u001b[43mextend\u001b[49m\u001b[43m(\u001b[49m\u001b[38;5;241;43m78\u001b[39;49m\u001b[43m,\u001b[49m\u001b[38;5;241;43m89\u001b[39;49m\u001b[43m,\u001b[49m\u001b[38;5;241;43m75\u001b[39;49m\u001b[43m)\u001b[49m\n\u001b[0;32m      3\u001b[0m \u001b[38;5;28mprint\u001b[39m(h)\n",
      "\u001b[1;31mTypeError\u001b[0m: list.extend() takes exactly one argument (3 given)"
     ]
    }
   ],
   "source": [
    "print(h)\n",
    "h.extend(78,89,75)\n",
    "print(h)"
   ]
  },
  {
   "cell_type": "code",
   "execution_count": 27,
   "id": "33e146cc",
   "metadata": {},
   "outputs": [
    {
     "name": "stdout",
     "output_type": "stream",
     "text": [
      "[78, 'Lalitha']\n",
      "[78, 'Lalitha', 78, 89, 75]\n"
     ]
    }
   ],
   "source": [
    "print(h)\n",
    "h.extend([78,89,75])\n",
    "print(h)"
   ]
  },
  {
   "cell_type": "code",
   "execution_count": 28,
   "id": "e15a5bc5",
   "metadata": {},
   "outputs": [
    {
     "name": "stdout",
     "output_type": "stream",
     "text": [
      "[12]\n",
      "[45, 12]\n"
     ]
    }
   ],
   "source": [
    "v = [12]\n",
    "print(v)\n",
    "v.insert(0,45)\n",
    "print(v)"
   ]
  },
  {
   "cell_type": "code",
   "execution_count": 29,
   "id": "a1f5e1c7",
   "metadata": {},
   "outputs": [
    {
     "name": "stdout",
     "output_type": "stream",
     "text": [
      "[45, 12]\n",
      "[[78, 89, 2], 45, 12]\n"
     ]
    }
   ],
   "source": [
    "print(v)\n",
    "v.insert(0,[78,89,2])\n",
    "print(v)"
   ]
  },
  {
   "cell_type": "markdown",
   "id": "524c9660",
   "metadata": {},
   "source": [
    "# Insertion => append,extend,insert"
   ]
  },
  {
   "cell_type": "code",
   "execution_count": 30,
   "id": "52c4b927",
   "metadata": {},
   "outputs": [
    {
     "name": "stdout",
     "output_type": "stream",
     "text": [
      "[8, 9, 'Lavanya', 78.021]\n",
      "[8, 9, 'Lavanya']\n"
     ]
    }
   ],
   "source": [
    "c = [8,9,'Lavanya',78.021]\n",
    "print(c)\n",
    "c.pop()\n",
    "print(c)"
   ]
  },
  {
   "cell_type": "code",
   "execution_count": 31,
   "id": "39d0c4ec",
   "metadata": {},
   "outputs": [
    {
     "name": "stdout",
     "output_type": "stream",
     "text": [
      "[8, 9, 'Lavanya']\n"
     ]
    },
    {
     "ename": "IndexError",
     "evalue": "pop index out of range",
     "output_type": "error",
     "traceback": [
      "\u001b[1;31m----------------------------------------------\u001b[0m",
      "\u001b[1;31mIndexError\u001b[0m   Traceback (most recent call last)",
      "Cell \u001b[1;32mIn[31], line 2\u001b[0m\n\u001b[0;32m      1\u001b[0m \u001b[38;5;28mprint\u001b[39m(c)\n\u001b[1;32m----> 2\u001b[0m \u001b[43mc\u001b[49m\u001b[38;5;241;43m.\u001b[39;49m\u001b[43mpop\u001b[49m\u001b[43m(\u001b[49m\u001b[38;5;241;43m-\u001b[39;49m\u001b[38;5;241;43m200\u001b[39;49m\u001b[43m)\u001b[49m\n\u001b[0;32m      3\u001b[0m \u001b[38;5;28mprint\u001b[39m(c)\n",
      "\u001b[1;31mIndexError\u001b[0m: pop index out of range"
     ]
    }
   ],
   "source": [
    "print(c)\n",
    "c.pop(-200)\n",
    "print(c)"
   ]
  },
  {
   "cell_type": "code",
   "execution_count": 32,
   "id": "f238e9a7",
   "metadata": {},
   "outputs": [
    {
     "name": "stdout",
     "output_type": "stream",
     "text": [
      "[8, 9, 'Lavanya']\n",
      "[9, 'Lavanya']\n"
     ]
    }
   ],
   "source": [
    "print(c)\n",
    "c.pop(0)\n",
    "print(c)"
   ]
  },
  {
   "cell_type": "code",
   "execution_count": 33,
   "id": "bb3d39b4",
   "metadata": {},
   "outputs": [
    {
     "name": "stdout",
     "output_type": "stream",
     "text": [
      "[1, 8, 9, 65, 4, 7, 85]\n",
      "[1, 9, 65, 4, 7, 85]\n"
     ]
    }
   ],
   "source": [
    "s = [1,8,9,65,4,7,85]\n",
    "print(s)\n",
    "s.remove(8)\n",
    "print(s)"
   ]
  },
  {
   "cell_type": "code",
   "execution_count": 34,
   "id": "9eea252c",
   "metadata": {},
   "outputs": [
    {
     "name": "stdout",
     "output_type": "stream",
     "text": [
      "[1, 9, 65, 4, 7, 85]\n"
     ]
    },
    {
     "ename": "ValueError",
     "evalue": "list.remove(x): x not in list",
     "output_type": "error",
     "traceback": [
      "\u001b[1;31m----------------------------------------------\u001b[0m",
      "\u001b[1;31mValueError\u001b[0m   Traceback (most recent call last)",
      "Cell \u001b[1;32mIn[34], line 2\u001b[0m\n\u001b[0;32m      1\u001b[0m \u001b[38;5;28mprint\u001b[39m(s)\n\u001b[1;32m----> 2\u001b[0m \u001b[43ms\u001b[49m\u001b[38;5;241;43m.\u001b[39;49m\u001b[43mremove\u001b[49m\u001b[43m(\u001b[49m\u001b[38;5;241;43m-\u001b[39;49m\u001b[38;5;241;43m20\u001b[39;49m\u001b[43m)\u001b[49m\n\u001b[0;32m      3\u001b[0m \u001b[38;5;28mprint\u001b[39m(s)\n",
      "\u001b[1;31mValueError\u001b[0m: list.remove(x): x not in list"
     ]
    }
   ],
   "source": [
    "print(s)\n",
    "s.remove(-20)\n",
    "print(s)"
   ]
  },
  {
   "cell_type": "markdown",
   "id": "5c97f33a",
   "metadata": {},
   "source": [
    "## remove => pop,remove"
   ]
  },
  {
   "cell_type": "code",
   "execution_count": 36,
   "id": "7a54d6b8",
   "metadata": {},
   "outputs": [
    {
     "name": "stdout",
     "output_type": "stream",
     "text": [
      "4\n",
      "0\n"
     ]
    }
   ],
   "source": [
    "z = [1,4,5,2,1,1,1]\n",
    "print(z.count(1))\n",
    "print(z.count(-4))"
   ]
  },
  {
   "cell_type": "code",
   "execution_count": 37,
   "id": "e7091efe",
   "metadata": {},
   "outputs": [
    {
     "name": "stdout",
     "output_type": "stream",
     "text": [
      "[1, 4, 5, 2, 1, 1, 1]\n",
      "[1, 4, 5, 2, 1, 1, 1]\n",
      "[1, 4, 5, 2, 1, 1, 1]\n"
     ]
    }
   ],
   "source": [
    "print(z)\n",
    "q = z.copy()\n",
    "print(q)\n",
    "print(z)"
   ]
  },
  {
   "cell_type": "code",
   "execution_count": 38,
   "id": "7404471d",
   "metadata": {},
   "outputs": [
    {
     "name": "stdout",
     "output_type": "stream",
     "text": [
      "[1, 4, 5, 2, 1, 1, 1]\n",
      "[200, 1, 4, 5, 2, 1, 1, 1]\n",
      "[1, 4, 5, 2, 1, 1, 1]\n"
     ]
    }
   ],
   "source": [
    "print(q)\n",
    "q.insert(0,200)\n",
    "print(q)\n",
    "print(z)"
   ]
  },
  {
   "cell_type": "code",
   "execution_count": 39,
   "id": "f02e818e",
   "metadata": {},
   "outputs": [
    {
     "name": "stdout",
     "output_type": "stream",
     "text": [
      "[1, 4, 5, 2, 1, 1, 1]\n",
      "[1, 4, 5, 2, 1, 1]\n",
      "[200, 1, 4, 5, 2, 1, 1, 1]\n"
     ]
    }
   ],
   "source": [
    "print(z)\n",
    "z.pop()\n",
    "print(z)\n",
    "print(q)"
   ]
  },
  {
   "cell_type": "code",
   "execution_count": 40,
   "id": "2459067f",
   "metadata": {},
   "outputs": [
    {
     "name": "stdout",
     "output_type": "stream",
     "text": [
      "[1, 4, 5, 2, 1, 1]\n",
      "[]\n"
     ]
    }
   ],
   "source": [
    "print(z)\n",
    "z.clear()\n",
    "print(z)"
   ]
  },
  {
   "cell_type": "code",
   "execution_count": 41,
   "id": "f9fc1e79",
   "metadata": {},
   "outputs": [
    {
     "name": "stdout",
     "output_type": "stream",
     "text": [
      "[200, 1, 4, 5, 2, 1, 1, 1]\n"
     ]
    },
    {
     "ename": "NameError",
     "evalue": "name 'q' is not defined",
     "output_type": "error",
     "traceback": [
      "\u001b[1;31m----------------------------------------------\u001b[0m",
      "\u001b[1;31mNameError\u001b[0m    Traceback (most recent call last)",
      "Cell \u001b[1;32mIn[41], line 3\u001b[0m\n\u001b[0;32m      1\u001b[0m \u001b[38;5;28mprint\u001b[39m(q)\n\u001b[0;32m      2\u001b[0m \u001b[38;5;28;01mdel\u001b[39;00m q\n\u001b[1;32m----> 3\u001b[0m \u001b[38;5;28mprint\u001b[39m(\u001b[43mq\u001b[49m)\n",
      "\u001b[1;31mNameError\u001b[0m: name 'q' is not defined"
     ]
    }
   ],
   "source": [
    "print(q)\n",
    "del q\n",
    "print(q)"
   ]
  },
  {
   "cell_type": "code",
   "execution_count": 44,
   "id": "a0321677",
   "metadata": {},
   "outputs": [
    {
     "name": "stdout",
     "output_type": "stream",
     "text": [
      "[4, 8, 9, 20, 45]\n",
      "3\n"
     ]
    }
   ],
   "source": [
    "h = [4,8,9,20,45]\n",
    "print(h)\n",
    "print(h.index(20))"
   ]
  },
  {
   "cell_type": "code",
   "execution_count": 45,
   "id": "b47845ff",
   "metadata": {},
   "outputs": [
    {
     "ename": "ValueError",
     "evalue": "-500 is not in list",
     "output_type": "error",
     "traceback": [
      "\u001b[1;31m----------------------------------------------\u001b[0m",
      "\u001b[1;31mValueError\u001b[0m   Traceback (most recent call last)",
      "Cell \u001b[1;32mIn[45], line 1\u001b[0m\n\u001b[1;32m----> 1\u001b[0m \u001b[38;5;28mprint\u001b[39m(\u001b[43mh\u001b[49m\u001b[38;5;241;43m.\u001b[39;49m\u001b[43mindex\u001b[49m\u001b[43m(\u001b[49m\u001b[38;5;241;43m-\u001b[39;49m\u001b[38;5;241;43m500\u001b[39;49m\u001b[43m)\u001b[49m)\n",
      "\u001b[1;31mValueError\u001b[0m: -500 is not in list"
     ]
    }
   ],
   "source": [
    "print(h.index(-500))"
   ]
  },
  {
   "cell_type": "code",
   "execution_count": 48,
   "id": "216b57b8",
   "metadata": {},
   "outputs": [
    {
     "name": "stdout",
     "output_type": "stream",
     "text": [
      "[1, 850, 6, 89]\n",
      "[89, 6, 850, 1]\n",
      "[450, 8, 0, 456]\n",
      "[0, 8, 450, 456]\n"
     ]
    }
   ],
   "source": [
    "b = [1,850,6,89]\n",
    "x = [450,8,0,456]\n",
    "print(b)\n",
    "b.reverse()\n",
    "print(b)\n",
    "print(x)\n",
    "x.sort()\n",
    "print(x)"
   ]
  },
  {
   "cell_type": "code",
   "execution_count": 49,
   "id": "c9f6505d",
   "metadata": {},
   "outputs": [
    {
     "name": "stdout",
     "output_type": "stream",
     "text": [
      "[89, 6, 850, 1]\n",
      "[850, 89, 6, 1]\n"
     ]
    }
   ],
   "source": [
    "print(b)\n",
    "b.sort(reverse=True)\n",
    "print(b)"
   ]
  },
  {
   "cell_type": "markdown",
   "id": "f04c5a4a",
   "metadata": {},
   "source": [
    "### Slicing:\n",
    "    - Its trying to hide or cutting of index values to be displayed\n",
    "    - range(),(,),(,,)\n",
    "    - [],[:],[::]\n",
    "    - left => right => positive value index\n",
    "    - right => left => negative value index"
   ]
  },
  {
   "cell_type": "code",
   "execution_count": 50,
   "id": "a008458e",
   "metadata": {},
   "outputs": [
    {
     "name": "stdout",
     "output_type": "stream",
     "text": [
      "[1, 4, 5, 8, 7, 5, 4, 21, 5, 4, 7, 85, 5, 99, 6, 6, 5]\n",
      "[1, 4, 5, 8, 7, 5, 4, 21, 5, 4, 7, 85, 5, 99, 6, 6, 5]\n",
      "[1, 4, 5, 8, 7, 5, 4, 21, 5, 4, 7, 85, 5, 99, 6, 6, 5]\n"
     ]
    }
   ],
   "source": [
    "v = [1,4,5,8,7,5,4,21,5,4,7,85,5,99,6,6,5]\n",
    "print(v)\n",
    "print(v[:])\n",
    "print(v[::])"
   ]
  },
  {
   "cell_type": "code",
   "execution_count": 68,
   "id": "b756d0aa",
   "metadata": {},
   "outputs": [
    {
     "name": "stdout",
     "output_type": "stream",
     "text": [
      "[1, 4, 5, 8, 7, 5, 4, 21, 5, 4, 7, 85, 5, 99, 6, 6, 5]\n",
      "5\n",
      "6\n",
      "[5, 4, 21, 5, 4, 7, 85, 5, 99, 6, 6, 5]\n",
      "[6, 6, 5]\n",
      "[1, 4, 5, 8, 7, 5, 4, 21]\n",
      "[1, 4, 5, 8, 7, 5, 4, 21, 5, 4, 7]\n",
      "[7, 5, 4, 21, 5]\n",
      "[5, 4, 21, 5, 4, 7, 85, 5, 99]\n",
      "[7, 85, 5]\n",
      "[21]\n"
     ]
    }
   ],
   "source": [
    "print(v)\n",
    "print(v[5])\n",
    "print(v[-2])\n",
    "print(v[5:])\n",
    "print(v[-3:])\n",
    "print(v[:8])\n",
    "print(v[:-6])\n",
    "print(v[4:9])\n",
    "print(v[5:-3])\n",
    "print(v[10:-4])\n",
    "print(v[-10:-9])"
   ]
  },
  {
   "cell_type": "code",
   "execution_count": 78,
   "id": "efd6cd72",
   "metadata": {},
   "outputs": [
    {
     "name": "stdout",
     "output_type": "stream",
     "text": [
      "[1, 4, 5, 8, 7, 5, 4, 21, 5, 4, 7, 85, 5, 99, 6, 6, 5]\n",
      "[1, 4, 5, 8, 7, 5, 4, 21, 5, 4, 7, 85, 5, 99, 6, 6, 5]\n",
      "[5, 4, 21, 5, 4, 7, 85, 5, 99, 6, 6, 5]\n",
      "[85, 5, 99, 6, 6, 5]\n",
      "[4, 21, 5, 4, 7]\n",
      "[7, 85]\n",
      "[5, 6, 6, 99, 5, 85, 7, 4, 5, 21, 4, 5, 7, 8, 5, 4, 1]\n"
     ]
    }
   ],
   "source": [
    "print(v)\n",
    "print(v[::])\n",
    "print(v[5::])\n",
    "print(v[-6::])\n",
    "print(v[6:11:])\n",
    "print(v[10:-5:])\n",
    "print(v[::-1])"
   ]
  },
  {
   "cell_type": "code",
   "execution_count": 83,
   "id": "12f79911",
   "metadata": {},
   "outputs": [
    {
     "name": "stdout",
     "output_type": "stream",
     "text": [
      "4 <class 'int'>\n",
      "56.0 <class 'float'>\n",
      "Ganesh <class 'str'>\n",
      "False <class 'bool'>\n",
      "None <class 'NoneType'>\n",
      "(5+2j) <class 'complex'>\n",
      "4 <class 'int'>\n",
      "4 <class 'int'>\n"
     ]
    }
   ],
   "source": [
    "y = [4,56.00,'Ganesh',False,None,5+2j,4,4]\n",
    "for i in range(len(y)):\n",
    "    print(y[i],type(y[i]))"
   ]
  },
  {
   "cell_type": "code",
   "execution_count": 84,
   "id": "50fce2e7",
   "metadata": {},
   "outputs": [
    {
     "name": "stdout",
     "output_type": "stream",
     "text": [
      "4 <class 'int'>\n",
      "56.0 <class 'float'>\n",
      "Ganesh <class 'str'>\n",
      "False <class 'bool'>\n",
      "None <class 'NoneType'>\n",
      "(5+2j) <class 'complex'>\n",
      "4 <class 'int'>\n",
      "4 <class 'int'>\n"
     ]
    }
   ],
   "source": [
    "for i in y:\n",
    "    print(i,type(i))"
   ]
  },
  {
   "cell_type": "markdown",
   "id": "bc0d5bd9",
   "metadata": {},
   "source": [
    "## Tuple:\n",
    "    - It can be represented as \"()\" and values are seperated with ,\n",
    "    - It stores all data type elements\n",
    "    - It stores data in ordered format\n",
    "    - Slicing can be done because of index\n",
    "    - It is immuteable [It can't changes a value]\n",
    "    - It can be typecasted as tuple()\n",
    "    - It allows duplicate values"
   ]
  },
  {
   "cell_type": "code",
   "execution_count": 79,
   "id": "29f2eb5e",
   "metadata": {},
   "outputs": [
    {
     "name": "stdout",
     "output_type": "stream",
     "text": [
      "(1, 45.0, 'Manoj', (1+5j), False, None, 1, 1, 1, 1) <class 'tuple'>\n"
     ]
    }
   ],
   "source": [
    "b = (1,45.00,\"Manoj\",1+5j,False,None,1,1,1,1)\n",
    "print(b,type(b))"
   ]
  },
  {
   "cell_type": "code",
   "execution_count": 85,
   "id": "a216c0e8",
   "metadata": {},
   "outputs": [
    {
     "name": "stdout",
     "output_type": "stream",
     "text": [
      "['__add__', '__class__', '__class_getitem__', '__contains__', '__delattr__', '__dir__', '__doc__', '__eq__', '__format__', '__ge__', '__getattribute__', '__getitem__', '__getnewargs__', '__gt__', '__hash__', '__init__', '__init_subclass__', '__iter__', '__le__', '__len__', '__lt__', '__mul__', '__ne__', '__new__', '__reduce__', '__reduce_ex__', '__repr__', '__rmul__', '__setattr__', '__sizeof__', '__str__', '__subclasshook__', 'count', 'index']\n"
     ]
    }
   ],
   "source": [
    "print(dir(tuple))"
   ]
  },
  {
   "cell_type": "code",
   "execution_count": 86,
   "id": "bdf6fb45",
   "metadata": {},
   "outputs": [
    {
     "name": "stdout",
     "output_type": "stream",
     "text": [
      "2\n",
      "0\n"
     ]
    }
   ],
   "source": [
    "k = (1,5,77,84,5,44,8,99,6)\n",
    "print(k.count(5))\n",
    "print(k.count(-50))"
   ]
  },
  {
   "cell_type": "code",
   "execution_count": 88,
   "id": "4109af1a",
   "metadata": {},
   "outputs": [
    {
     "name": "stdout",
     "output_type": "stream",
     "text": [
      "84\n"
     ]
    }
   ],
   "source": [
    "print(k[3])"
   ]
  },
  {
   "cell_type": "code",
   "execution_count": 89,
   "id": "a280a50a",
   "metadata": {},
   "outputs": [
    {
     "data": {
      "text/plain": [
       "(10, 45)"
      ]
     },
     "execution_count": 89,
     "metadata": {},
     "output_type": "execute_result"
    }
   ],
   "source": [
    "a = 10\n",
    "b = 45\n",
    "a,b"
   ]
  },
  {
   "cell_type": "markdown",
   "id": "cdfca1e1",
   "metadata": {},
   "source": [
    "## Dictionary:\n",
    "    - It can be represented with \"{}\"\n",
    "    - It stores the data in key and value pairs\n",
    "    - It allows duplicate values but not for keys\n",
    "    - It can be typecasted as dict()\n",
    "    - Slicing can be done for values\n",
    "    - It stores the data in ordered of a key"
   ]
  },
  {
   "cell_type": "code",
   "execution_count": 90,
   "id": "ae462d83",
   "metadata": {},
   "outputs": [
    {
     "name": "stdout",
     "output_type": "stream",
     "text": [
      "{} <class 'dict'>\n"
     ]
    }
   ],
   "source": [
    "s = {}\n",
    "print(s,type(s))"
   ]
  },
  {
   "cell_type": "code",
   "execution_count": 91,
   "id": "075cb1a5",
   "metadata": {},
   "outputs": [
    {
     "name": "stdout",
     "output_type": "stream",
     "text": [
      "[] <class 'list'>\n",
      "[] <class 'list'>\n"
     ]
    }
   ],
   "source": [
    "k = []\n",
    "j = list()\n",
    "print(k,type(k))\n",
    "print(j,type(j))"
   ]
  },
  {
   "cell_type": "code",
   "execution_count": 92,
   "id": "ac21c091",
   "metadata": {},
   "outputs": [
    {
     "name": "stdout",
     "output_type": "stream",
     "text": [
      "() <class 'tuple'>\n",
      "() <class 'tuple'>\n"
     ]
    }
   ],
   "source": [
    "x = ()\n",
    "q = tuple()\n",
    "print(x,type(x))\n",
    "print(q,type(q))"
   ]
  },
  {
   "cell_type": "code",
   "execution_count": 93,
   "id": "21a6523f",
   "metadata": {},
   "outputs": [
    {
     "name": "stdout",
     "output_type": "stream",
     "text": [
      "{'3'} <class 'set'>\n"
     ]
    }
   ],
   "source": [
    "m = {'3'}\n",
    "print(m,type(m))"
   ]
  },
  {
   "cell_type": "code",
   "execution_count": 94,
   "id": "cbda6039",
   "metadata": {},
   "outputs": [
    {
     "name": "stdout",
     "output_type": "stream",
     "text": [
      "set() <class 'set'>\n"
     ]
    }
   ],
   "source": [
    "r = set()\n",
    "print(r,type(r))"
   ]
  },
  {
   "cell_type": "code",
   "execution_count": 99,
   "id": "aeedaa8f",
   "metadata": {},
   "outputs": [
    {
     "name": "stdout",
     "output_type": "stream",
     "text": [
      "4,5,9,8,9,6,5,5,5\n",
      "['4', '5', '9', '8', '9', '6', '5', '5', '5'] <class 'list'>\n"
     ]
    }
   ],
   "source": [
    "h = input().split(',')\n",
    "print(h,type(h))"
   ]
  },
  {
   "cell_type": "code",
   "execution_count": 97,
   "id": "df42739c",
   "metadata": {},
   "outputs": [
    {
     "name": "stdout",
     "output_type": "stream",
     "text": [
      "['__add__', '__class__', '__contains__', '__delattr__', '__dir__', '__doc__', '__eq__', '__format__', '__ge__', '__getattribute__', '__getitem__', '__getnewargs__', '__gt__', '__hash__', '__init__', '__init_subclass__', '__iter__', '__le__', '__len__', '__lt__', '__mod__', '__mul__', '__ne__', '__new__', '__reduce__', '__reduce_ex__', '__repr__', '__rmod__', '__rmul__', '__setattr__', '__sizeof__', '__str__', '__subclasshook__', 'capitalize', 'casefold', 'center', 'count', 'encode', 'endswith', 'expandtabs', 'find', 'format', 'format_map', 'index', 'isalnum', 'isalpha', 'isascii', 'isdecimal', 'isdigit', 'isidentifier', 'islower', 'isnumeric', 'isprintable', 'isspace', 'istitle', 'isupper', 'join', 'ljust', 'lower', 'lstrip', 'maketrans', 'partition', 'removeprefix', 'removesuffix', 'replace', 'rfind', 'rindex', 'rjust', 'rpartition', 'rsplit', 'rstrip', 'split', 'splitlines', 'startswith', 'strip', 'swapcase', 'title', 'translate', 'upper', 'zfill']\n"
     ]
    }
   ],
   "source": [
    "print(dir(str))"
   ]
  },
  {
   "cell_type": "code",
   "execution_count": 100,
   "id": "28f79c0b",
   "metadata": {},
   "outputs": [
    {
     "name": "stdout",
     "output_type": "stream",
     "text": [
      "2 3\n",
      "4 5 6 7 8 9\n",
      "['2', '3']\n",
      "['4', '5', '6', '7', '8', '9']\n"
     ]
    }
   ],
   "source": [
    "k = input().split()\n",
    "h = input().split()\n",
    "print(k)\n",
    "print(h)"
   ]
  },
  {
   "cell_type": "code",
   "execution_count": 101,
   "id": "c475cfb7",
   "metadata": {},
   "outputs": [
    {
     "name": "stdout",
     "output_type": "stream",
     "text": [
      "3\n",
      "1 5 8\n",
      "3\n",
      "[1, 5, 8]\n"
     ]
    }
   ],
   "source": [
    "# n = 3\n",
    "# h = 1 5 8 \n",
    "\n",
    "k = int(input())\n",
    "b = list(map(int,input().split()))\n",
    "print(k)\n",
    "print(b)"
   ]
  },
  {
   "cell_type": "code",
   "execution_count": null,
   "id": "e858bd04",
   "metadata": {},
   "outputs": [],
   "source": []
  }
 ],
 "metadata": {
  "kernelspec": {
   "display_name": "Python 3 (ipykernel)",
   "language": "python",
   "name": "python3"
  },
  "language_info": {
   "codemirror_mode": {
    "name": "ipython",
    "version": 3
   },
   "file_extension": ".py",
   "mimetype": "text/x-python",
   "name": "python",
   "nbconvert_exporter": "python",
   "pygments_lexer": "ipython3",
   "version": "3.9.13"
  }
 },
 "nbformat": 4,
 "nbformat_minor": 5
}
