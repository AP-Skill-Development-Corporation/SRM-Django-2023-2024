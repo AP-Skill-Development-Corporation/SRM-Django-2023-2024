{
 "cells": [
  {
   "cell_type": "markdown",
   "id": "9335eedf",
   "metadata": {},
   "source": [
    "### Today Task\n",
    "```\n",
    "   Saturday_Attendance.csv\n",
    "   => Try to read the data from this Saturday_Attendance.csv\n",
    "   => If the student is followinng in the given format i.e,\n",
    "           Rollnumber-name\n",
    "   => Then try to split their rollnumber,name and time spent in the session. The time of student should be added and no duplicate of the student record with same roll number\n",
    "   => If the students are followinng in given format then need to store their data in \"PresentAttendees.csv\"\n",
    "       => The data should be stores in PresentAttendees.csv is like\n",
    "           => Rollnumber,Name,Time\n",
    "       => In this file the roll numbers should be in sort order with thier name and time\n",
    "   => If the students are not following in the given format then their data should be stores in \"AbsentAttendee.csv\"\n",
    "       => In this AbsenteeAttendee.csv try to store with this columns like\n",
    "           => RollNumber,Time\n",
    "       => Because we are not adding their time stamp and not splitting their rollnumber or name because they are not following in the given format then no need to sort their data \n",
    "    \n",
    "   Rollnumber-name    timestamp\n",
    "    \n",
    "   PresentAttendeees.csv\n",
    "   Rollnumber,Name,Time\n",
    "   \n",
    "   \n",
    "   AbsentAttendees.csv\n",
    "   Rollnumber,Time\n",
    "```"
   ]
  },
  {
   "cell_type": "code",
   "execution_count": null,
   "id": "658d5a44",
   "metadata": {},
   "outputs": [],
   "source": []
  }
 ],
 "metadata": {
  "kernelspec": {
   "display_name": "Python 3 (ipykernel)",
   "language": "python",
   "name": "python3"
  },
  "language_info": {
   "codemirror_mode": {
    "name": "ipython",
    "version": 3
   },
   "file_extension": ".py",
   "mimetype": "text/x-python",
   "name": "python",
   "nbconvert_exporter": "python",
   "pygments_lexer": "ipython3",
   "version": "3.9.13"
  }
 },
 "nbformat": 4,
 "nbformat_minor": 5
}
