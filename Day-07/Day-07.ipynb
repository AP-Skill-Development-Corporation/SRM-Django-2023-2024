{
 "cells": [
  {
   "cell_type": "markdown",
   "id": "3b73852a",
   "metadata": {},
   "source": [
    "## Dictionary:\n",
    "    - It can be represented with \"{}\"\n",
    "    - It stores the data in key and value pairs\n",
    "    - It allows duplicate values but not for keys\n",
    "    - It can be typecasted as dict()\n",
    "    - Slicing can be done for values\n",
    "    - It stores the data in ordered of a key"
   ]
  },
  {
   "cell_type": "code",
   "execution_count": null,
   "id": "342b0dd9",
   "metadata": {},
   "outputs": [],
   "source": [
    "f = {(key,value),(key1,[.....]))}"
   ]
  },
  {
   "cell_type": "code",
   "execution_count": 1,
   "id": "3b4a5f0d",
   "metadata": {},
   "outputs": [
    {
     "name": "stdout",
     "output_type": "stream",
     "text": [
      "{} <class 'dict'>\n",
      "{} <class 'dict'>\n"
     ]
    }
   ],
   "source": [
    "b = {}\n",
    "c = dict()\n",
    "print(b,type(b))\n",
    "print(c,type(c))"
   ]
  },
  {
   "cell_type": "code",
   "execution_count": 3,
   "id": "12633588",
   "metadata": {},
   "outputs": [
    {
     "name": "stdout",
     "output_type": "stream",
     "text": [
      "{'sno': [1, 2, 3, 4, 5], 'sname': ('Ramesh', 'Kavitha', 'Suresh', 'Somu', 'Bhavana')}\n"
     ]
    }
   ],
   "source": [
    "g = {'sno':[1,2,3,4,5],'sname':('Ramesh','Kavitha','Suresh','Somu','Bhavana')}\n",
    "print(g)"
   ]
  },
  {
   "cell_type": "code",
   "execution_count": 4,
   "id": "e9854784",
   "metadata": {},
   "outputs": [
    {
     "name": "stdout",
     "output_type": "stream",
     "text": [
      "sno <class 'str'>\n",
      "sname <class 'str'>\n"
     ]
    }
   ],
   "source": [
    "for i in g:\n",
    "    print(i,type(i))"
   ]
  },
  {
   "cell_type": "code",
   "execution_count": 10,
   "id": "9841bb01",
   "metadata": {},
   "outputs": [
    {
     "name": "stdout",
     "output_type": "stream",
     "text": [
      "sno => 2\n",
      "sname => Kavitha\n"
     ]
    }
   ],
   "source": [
    "for i in g.items():\n",
    "    print(f\"{i[0]} => {i[1][1]}\")"
   ]
  },
  {
   "cell_type": "code",
   "execution_count": 11,
   "id": "509075bc",
   "metadata": {},
   "outputs": [
    {
     "name": "stdout",
     "output_type": "stream",
     "text": [
      "['__class__', '__class_getitem__', '__contains__', '__delattr__', '__delitem__', '__dir__', '__doc__', '__eq__', '__format__', '__ge__', '__getattribute__', '__getitem__', '__gt__', '__hash__', '__init__', '__init_subclass__', '__ior__', '__iter__', '__le__', '__len__', '__lt__', '__ne__', '__new__', '__or__', '__reduce__', '__reduce_ex__', '__repr__', '__reversed__', '__ror__', '__setattr__', '__setitem__', '__sizeof__', '__str__', '__subclasshook__', 'clear', 'copy', 'fromkeys', 'get', 'items', 'keys', 'pop', 'popitem', 'setdefault', 'update', 'values']\n"
     ]
    }
   ],
   "source": [
    "print(dir(dict))"
   ]
  },
  {
   "cell_type": "code",
   "execution_count": 12,
   "id": "0bbd7908",
   "metadata": {},
   "outputs": [
    {
     "name": "stdout",
     "output_type": "stream",
     "text": [
      "dict_items([('sno', [1, 2, 3, 4, 5]), ('sname', ('Ramesh', 'Kavitha', 'Suresh', 'Somu', 'Bhavana'))])\n"
     ]
    }
   ],
   "source": [
    "print(g.items())"
   ]
  },
  {
   "cell_type": "code",
   "execution_count": 13,
   "id": "77fd4e80",
   "metadata": {},
   "outputs": [
    {
     "name": "stdout",
     "output_type": "stream",
     "text": [
      "dict_keys(['sno', 'sname'])\n"
     ]
    }
   ],
   "source": [
    "print(g.keys())"
   ]
  },
  {
   "cell_type": "code",
   "execution_count": 14,
   "id": "cb05d720",
   "metadata": {},
   "outputs": [
    {
     "name": "stdout",
     "output_type": "stream",
     "text": [
      "dict_values([[1, 2, 3, 4, 5], ('Ramesh', 'Kavitha', 'Suresh', 'Somu', 'Bhavana')])\n"
     ]
    }
   ],
   "source": [
    "print(g.values())"
   ]
  },
  {
   "cell_type": "code",
   "execution_count": 19,
   "id": "04e08ff4",
   "metadata": {},
   "outputs": [
    {
     "name": "stdout",
     "output_type": "stream",
     "text": [
      "('Ramesh', 'Kavitha', 'Suresh', 'Somu', 'Bhavana')\n",
      "('Ramesh', 'Kavitha', 'Suresh', 'Somu', 'Bhavana')\n"
     ]
    }
   ],
   "source": [
    "print(g.get('sname'))\n",
    "print(g['sname'])"
   ]
  },
  {
   "cell_type": "code",
   "execution_count": 20,
   "id": "b9e99592",
   "metadata": {},
   "outputs": [
    {
     "name": "stdout",
     "output_type": "stream",
     "text": [
      "[1, 2, 3, 4, 5]\n",
      "[1, 2, 3, 4, 5]\n"
     ]
    }
   ],
   "source": [
    "print(g.get('sno'))\n",
    "print(g['sno'])"
   ]
  },
  {
   "cell_type": "code",
   "execution_count": 21,
   "id": "0fa1d383",
   "metadata": {},
   "outputs": [
    {
     "name": "stdout",
     "output_type": "stream",
     "text": [
      "{'sno': [1, 2, 3, 4, 5], 'sname': ('Ramesh', 'Kavitha', 'Suresh', 'Somu', 'Bhavana')}\n",
      "{'sno': [1, 2, 3, 4, 5], 'sname': ('Ramesh', 'Kavitha', 'Suresh', 'Somu', 'Bhavana'), 'CollegeName': None}\n"
     ]
    }
   ],
   "source": [
    "print(g)\n",
    "g.setdefault('CollegeName')\n",
    "print(g)"
   ]
  },
  {
   "cell_type": "code",
   "execution_count": 26,
   "id": "8624632b",
   "metadata": {},
   "outputs": [
    {
     "name": "stdout",
     "output_type": "stream",
     "text": [
      "{'sno': [1, 2, 3, 4, 5], 'sname': ('Ramesh', 'Kavitha', 'Suresh', 'Somu', 'Bhavana'), 'CollegeName': None, ('Address', 'VJWD'): None}\n",
      "{'sno': [1, 2, 3, 4, 5], 'sname': ('Ramesh', 'Kavitha', 'Suresh', 'Somu', 'Bhavana'), 'CollegeName': None, ('Address', 'VJWD'): None, 'Address': 'VJWD'}\n"
     ]
    }
   ],
   "source": [
    "print(g)\n",
    "g.setdefault('Address','VJWD')\n",
    "print(g)"
   ]
  },
  {
   "cell_type": "code",
   "execution_count": 27,
   "id": "03f1abae",
   "metadata": {},
   "outputs": [
    {
     "name": "stdout",
     "output_type": "stream",
     "text": [
      "{'sno': [1, 2, 3, 4, 5], 'sname': ('Ramesh', 'Kavitha', 'Suresh', 'Somu', 'Bhavana'), 'CollegeName': None, ('Address', 'VJWD'): None, 'Address': 'VJWD'}\n",
      "{'sno': [1, 2, 3, 4, 5], 'sname': ('Ramesh', 'Kavitha', 'Suresh', 'Somu', 'Bhavana'), 'CollegeName': None, ('Address', 'VJWD'): None, 'Address': 'Gntr'}\n"
     ]
    }
   ],
   "source": [
    "print(g)\n",
    "g['Address'] = 'Gntr'\n",
    "print(g)"
   ]
  },
  {
   "cell_type": "code",
   "execution_count": 28,
   "id": "d8511c14",
   "metadata": {},
   "outputs": [
    {
     "name": "stdout",
     "output_type": "stream",
     "text": [
      "{'sno': [1, 2, 3, 4, 5], 'sname': ('Ramesh', 'Kavitha', 'Suresh', 'Somu', 'Bhavana'), 'CollegeName': None, ('Address', 'VJWD'): None, 'Address': 'Gntr'}\n",
      "{'sno': [1, 2, 3, 4, 5], 'sname': ('Ramesh', 'Kavitha', 'Suresh', 'Somu', 'Bhavana'), 'CollegeName': None, ('Address', 'VJWD'): None, 'Address': 'Nlre'}\n"
     ]
    }
   ],
   "source": [
    "print(g)\n",
    "g.update({'Address':'Nlre'})\n",
    "print(g)"
   ]
  },
  {
   "cell_type": "code",
   "execution_count": 30,
   "id": "f7096d77",
   "metadata": {},
   "outputs": [
    {
     "name": "stdout",
     "output_type": "stream",
     "text": [
      "{'sno': [1, 2, 3, 4, 5], 'sname': ('Ramesh', 'Kavitha', 'Suresh', 'Somu', 'Bhavana'), 'CollegeName': None, ('Address', 'VJWD'): None, 'Address': 'Nlre'}\n",
      "{'sno': [1, 2, 3, 4, 5], 'sname': ('Ramesh', 'Kavitha', 'Suresh', 'Somu', 'Bhavana'), 'CollegeName': None, ('Address', 'VJWD'): None, 'Address': 'Nlre', 'Native': 'VJWD'}\n"
     ]
    }
   ],
   "source": [
    "print(g)\n",
    "g.setdefault('Native','VJWD')\n",
    "print(g)"
   ]
  },
  {
   "cell_type": "code",
   "execution_count": 31,
   "id": "13f6ce84",
   "metadata": {},
   "outputs": [
    {
     "name": "stdout",
     "output_type": "stream",
     "text": [
      "{'sno': [1, 2, 3, 4, 5], 'sname': ('Ramesh', 'Kavitha', 'Suresh', 'Somu', 'Bhavana'), 'CollegeName': None, ('Address', 'VJWD'): None, 'Address': 'Nlre', 'Native': 'VJWD'}\n"
     ]
    },
    {
     "ename": "TypeError",
     "evalue": "pop expected at least 1 argument, got 0",
     "output_type": "error",
     "traceback": [
      "\u001b[1;31m---------------------------------------------------------------------------\u001b[0m",
      "\u001b[1;31mTypeError\u001b[0m                                 Traceback (most recent call last)",
      "Cell \u001b[1;32mIn[31], line 2\u001b[0m\n\u001b[0;32m      1\u001b[0m \u001b[38;5;28mprint\u001b[39m(g)\n\u001b[1;32m----> 2\u001b[0m \u001b[43mg\u001b[49m\u001b[38;5;241;43m.\u001b[39;49m\u001b[43mpop\u001b[49m\u001b[43m(\u001b[49m\u001b[43m)\u001b[49m\n\u001b[0;32m      3\u001b[0m \u001b[38;5;28mprint\u001b[39m(g)\n",
      "\u001b[1;31mTypeError\u001b[0m: pop expected at least 1 argument, got 0"
     ]
    }
   ],
   "source": [
    "print(g)\n",
    "g.pop()\n",
    "print(g)"
   ]
  },
  {
   "cell_type": "code",
   "execution_count": 32,
   "id": "6df01d62",
   "metadata": {},
   "outputs": [
    {
     "name": "stdout",
     "output_type": "stream",
     "text": [
      "{'sno': [1, 2, 3, 4, 5], 'sname': ('Ramesh', 'Kavitha', 'Suresh', 'Somu', 'Bhavana'), 'CollegeName': None, ('Address', 'VJWD'): None, 'Address': 'Nlre', 'Native': 'VJWD'}\n",
      "{'sno': [1, 2, 3, 4, 5], 'sname': ('Ramesh', 'Kavitha', 'Suresh', 'Somu', 'Bhavana'), 'CollegeName': None, 'Address': 'Nlre', 'Native': 'VJWD'}\n"
     ]
    }
   ],
   "source": [
    "print(g)\n",
    "g.pop(('Address', 'VJWD'))\n",
    "print(g)"
   ]
  },
  {
   "cell_type": "code",
   "execution_count": 33,
   "id": "7c271678",
   "metadata": {},
   "outputs": [
    {
     "name": "stdout",
     "output_type": "stream",
     "text": [
      "{'sno': [1, 2, 3, 4, 5], 'sname': ('Ramesh', 'Kavitha', 'Suresh', 'Somu', 'Bhavana'), 'CollegeName': None, 'Address': 'Nlre', 'Native': 'VJWD'}\n",
      "{'sno': [1, 2, 3, 4, 5], 'sname': ('Ramesh', 'Kavitha', 'Suresh', 'Somu', 'Bhavana'), 'CollegeName': None, 'Address': 'Nlre'}\n"
     ]
    }
   ],
   "source": [
    "print(g)\n",
    "g.popitem()\n",
    "print(g)"
   ]
  },
  {
   "cell_type": "code",
   "execution_count": 34,
   "id": "1042f9f2",
   "metadata": {},
   "outputs": [
    {
     "name": "stdout",
     "output_type": "stream",
     "text": [
      "{'sno': [1, 2, 3, 4, 5], 'sname': ('Ramesh', 'Kavitha', 'Suresh', 'Somu', 'Bhavana'), 'CollegeName': None, 'Address': 'Nlre'}\n"
     ]
    },
    {
     "ename": "TypeError",
     "evalue": "dict.popitem() takes no arguments (1 given)",
     "output_type": "error",
     "traceback": [
      "\u001b[1;31m---------------------------------------------------------------------------\u001b[0m",
      "\u001b[1;31mTypeError\u001b[0m                                 Traceback (most recent call last)",
      "Cell \u001b[1;32mIn[34], line 2\u001b[0m\n\u001b[0;32m      1\u001b[0m \u001b[38;5;28mprint\u001b[39m(g)\n\u001b[1;32m----> 2\u001b[0m \u001b[43mg\u001b[49m\u001b[38;5;241;43m.\u001b[39;49m\u001b[43mpopitem\u001b[49m\u001b[43m(\u001b[49m\u001b[38;5;124;43m'\u001b[39;49m\u001b[38;5;124;43msno\u001b[39;49m\u001b[38;5;124;43m'\u001b[39;49m\u001b[43m)\u001b[49m\n\u001b[0;32m      3\u001b[0m \u001b[38;5;28mprint\u001b[39m(g)\n",
      "\u001b[1;31mTypeError\u001b[0m: dict.popitem() takes no arguments (1 given)"
     ]
    }
   ],
   "source": [
    "print(g)\n",
    "g.popitem('sno')\n",
    "print(g)"
   ]
  },
  {
   "cell_type": "code",
   "execution_count": 35,
   "id": "3638dc12",
   "metadata": {},
   "outputs": [
    {
     "name": "stdout",
     "output_type": "stream",
     "text": [
      "{'sno': [1, 2, 3, 4, 5], 'sname': ('Ramesh', 'Kavitha', 'Suresh', 'Somu', 'Bhavana'), 'CollegeName': None, 'Address': 'Nlre'}\n"
     ]
    }
   ],
   "source": [
    "print(g)"
   ]
  },
  {
   "cell_type": "code",
   "execution_count": 36,
   "id": "4b775fa7",
   "metadata": {},
   "outputs": [
    {
     "data": {
      "text/plain": [
       "{'sno': [1, 2, 3, 4, 5],\n",
       " 'sname': ('Ramesh', 'Kavitha', 'Suresh', 'Somu', 'Bhavana'),\n",
       " 'CollegeName': None,\n",
       " 'Address': 'Nlre'}"
      ]
     },
     "execution_count": 36,
     "metadata": {},
     "output_type": "execute_result"
    }
   ],
   "source": [
    "g"
   ]
  },
  {
   "cell_type": "code",
   "execution_count": 37,
   "id": "e6b04503",
   "metadata": {},
   "outputs": [
    {
     "name": "stdout",
     "output_type": "stream",
     "text": [
      "{0: None, 1: None, 5: None}\n"
     ]
    }
   ],
   "source": [
    "h = [0,1,5]\n",
    "b = {}\n",
    "\n",
    "b = b.fromkeys(h)\n",
    "print(b)"
   ]
  },
  {
   "cell_type": "code",
   "execution_count": 38,
   "id": "20d5d3fc",
   "metadata": {},
   "outputs": [
    {
     "name": "stdout",
     "output_type": "stream",
     "text": [
      "{0: None, 1: None, 5: None}\n",
      "{0: None, 1: None, 5: None}\n"
     ]
    }
   ],
   "source": [
    "c = b.copy()\n",
    "print(b)\n",
    "print(c)"
   ]
  },
  {
   "cell_type": "code",
   "execution_count": 39,
   "id": "2bdc3f8a",
   "metadata": {},
   "outputs": [
    {
     "name": "stdout",
     "output_type": "stream",
     "text": [
      "{0: None, 1: None, 5: None}\n",
      "{}\n"
     ]
    }
   ],
   "source": [
    "print(b)\n",
    "b.clear()\n",
    "print(b)"
   ]
  },
  {
   "cell_type": "code",
   "execution_count": 40,
   "id": "e4abeb1b",
   "metadata": {},
   "outputs": [
    {
     "name": "stdout",
     "output_type": "stream",
     "text": [
      "{0: None, 1: None, 5: None}\n"
     ]
    },
    {
     "ename": "NameError",
     "evalue": "name 'c' is not defined",
     "output_type": "error",
     "traceback": [
      "\u001b[1;31m---------------------------------------------------------------------------\u001b[0m",
      "\u001b[1;31mNameError\u001b[0m                                 Traceback (most recent call last)",
      "Cell \u001b[1;32mIn[40], line 3\u001b[0m\n\u001b[0;32m      1\u001b[0m \u001b[38;5;28mprint\u001b[39m(c)\n\u001b[0;32m      2\u001b[0m \u001b[38;5;28;01mdel\u001b[39;00m c\n\u001b[1;32m----> 3\u001b[0m \u001b[38;5;28mprint\u001b[39m(\u001b[43mc\u001b[49m)\n",
      "\u001b[1;31mNameError\u001b[0m: name 'c' is not defined"
     ]
    }
   ],
   "source": [
    "print(c)\n",
    "del c\n",
    "print(c)"
   ]
  },
  {
   "cell_type": "markdown",
   "id": "173077d2",
   "metadata": {},
   "source": [
    "## Sample Example\n",
    "```\n",
    "    Input:\n",
    "        Ramesh is\n",
    "    Output:\n",
    "        R => 1\n",
    "        a => 1\n",
    "        m => 1\n",
    "        e => 1\n",
    "        s => 2\n",
    "        h => 1\n",
    "        i => 1\n",
    "```"
   ]
  },
  {
   "cell_type": "markdown",
   "id": "8582f2be",
   "metadata": {},
   "source": [
    "## Set\n",
    "    - It can be represented as {'1'} with an existing value in it\n",
    "    - It doesnt allows duplicate values\n",
    "    - It stores all data types elements\n",
    "    - It stores data in unorederd format\n",
    "    - It can be typecasted as set()\n",
    "    - Slicing can't be done because of no index\n",
    "    - It is muteable [changes a value]"
   ]
  },
  {
   "cell_type": "code",
   "execution_count": 45,
   "id": "c216301d",
   "metadata": {},
   "outputs": [
    {
     "name": "stdout",
     "output_type": "stream",
     "text": [
      "{False, 1, (56+4j), '00.1', 'Vani', 45.15, None, 0.002} <class 'set'>\n"
     ]
    }
   ],
   "source": [
    "m = {1,45.15,'Vani',56+4j,False,None,1,1,1,'00.1',0.002}\n",
    "print(m,type(m))"
   ]
  },
  {
   "cell_type": "code",
   "execution_count": 44,
   "id": "b9aa3fa5",
   "metadata": {},
   "outputs": [
    {
     "data": {
      "text/plain": [
       "{(56+4j), 0.002, '00.1', 1, 45.15, False, None, 'Vani'}"
      ]
     },
     "execution_count": 44,
     "metadata": {},
     "output_type": "execute_result"
    }
   ],
   "source": [
    "m"
   ]
  },
  {
   "cell_type": "code",
   "execution_count": 46,
   "id": "00f1c1db",
   "metadata": {},
   "outputs": [
    {
     "name": "stdout",
     "output_type": "stream",
     "text": [
      "{False, 1, (56+4j), '00.1', 'Vani', 45.15, None, 0.002}\n"
     ]
    }
   ],
   "source": [
    "print(m)"
   ]
  },
  {
   "cell_type": "code",
   "execution_count": 47,
   "id": "fe5f117f",
   "metadata": {},
   "outputs": [
    {
     "name": "stdout",
     "output_type": "stream",
     "text": [
      "False <class 'bool'>\n",
      "1 <class 'int'>\n",
      "(56+4j) <class 'complex'>\n",
      "00.1 <class 'str'>\n",
      "Vani <class 'str'>\n",
      "45.15 <class 'float'>\n",
      "None <class 'NoneType'>\n",
      "0.002 <class 'float'>\n"
     ]
    }
   ],
   "source": [
    "for i in m:\n",
    "    print(i,type(i))"
   ]
  },
  {
   "cell_type": "code",
   "execution_count": 48,
   "id": "49b972df",
   "metadata": {},
   "outputs": [
    {
     "ename": "TypeError",
     "evalue": "'set' object is not subscriptable",
     "output_type": "error",
     "traceback": [
      "\u001b[1;31m---------------------------------------------------------------------------\u001b[0m",
      "\u001b[1;31mTypeError\u001b[0m                                 Traceback (most recent call last)",
      "Cell \u001b[1;32mIn[48], line 2\u001b[0m\n\u001b[0;32m      1\u001b[0m \u001b[38;5;28;01mfor\u001b[39;00m i \u001b[38;5;129;01min\u001b[39;00m \u001b[38;5;28mrange\u001b[39m(\u001b[38;5;28mlen\u001b[39m(m)):\n\u001b[1;32m----> 2\u001b[0m     \u001b[38;5;28mprint\u001b[39m(\u001b[43mm\u001b[49m\u001b[43m[\u001b[49m\u001b[43mi\u001b[49m\u001b[43m]\u001b[49m)\n",
      "\u001b[1;31mTypeError\u001b[0m: 'set' object is not subscriptable"
     ]
    }
   ],
   "source": [
    "for i in range(len(m)):\n",
    "    print(m[i])"
   ]
  },
  {
   "cell_type": "code",
   "execution_count": 49,
   "id": "1d6e81a7",
   "metadata": {},
   "outputs": [
    {
     "name": "stdout",
     "output_type": "stream",
     "text": [
      "['__and__', '__class__', '__class_getitem__', '__contains__', '__delattr__', '__dir__', '__doc__', '__eq__', '__format__', '__ge__', '__getattribute__', '__gt__', '__hash__', '__iand__', '__init__', '__init_subclass__', '__ior__', '__isub__', '__iter__', '__ixor__', '__le__', '__len__', '__lt__', '__ne__', '__new__', '__or__', '__rand__', '__reduce__', '__reduce_ex__', '__repr__', '__ror__', '__rsub__', '__rxor__', '__setattr__', '__sizeof__', '__str__', '__sub__', '__subclasshook__', '__xor__', 'add', 'clear', 'copy', 'difference', 'difference_update', 'discard', 'intersection', 'intersection_update', 'isdisjoint', 'issubset', 'issuperset', 'pop', 'remove', 'symmetric_difference', 'symmetric_difference_update', 'union', 'update']\n"
     ]
    }
   ],
   "source": [
    "print(dir(set))"
   ]
  },
  {
   "cell_type": "code",
   "execution_count": 50,
   "id": "57a230ff",
   "metadata": {},
   "outputs": [
    {
     "name": "stdout",
     "output_type": "stream",
     "text": [
      "{6, 150, 8, 9, 45}\n",
      "{23, 8, 9, 458, 78}\n"
     ]
    }
   ],
   "source": [
    "a = {45,9,8,6,150}\n",
    "b = {9,8,458,78,23}\n",
    "print(a)\n",
    "print(b)"
   ]
  },
  {
   "cell_type": "code",
   "execution_count": 51,
   "id": "13580ab1",
   "metadata": {},
   "outputs": [
    {
     "name": "stdout",
     "output_type": "stream",
     "text": [
      "{6, 150, 8, 9, 45}\n",
      "{23, 8, 9, 458, 78}\n",
      "{6, 8, 9, 458, 45, 78, 150, 23}\n",
      "{6, 8, 9, 458, 45, 78, 150, 23}\n",
      "{6, 150, 8, 9, 45}\n",
      "{23, 8, 9, 458, 78}\n"
     ]
    }
   ],
   "source": [
    "print(a)\n",
    "print(b)\n",
    "print(a.union(b))\n",
    "print(b.union(a))\n",
    "print(a)\n",
    "print(b)"
   ]
  },
  {
   "cell_type": "code",
   "execution_count": 52,
   "id": "4b59af6c",
   "metadata": {},
   "outputs": [
    {
     "name": "stdout",
     "output_type": "stream",
     "text": [
      "{6, 150, 8, 9, 45}\n",
      "{23, 8, 9, 458, 78}\n",
      "{8, 9}\n",
      "{8, 9}\n",
      "{6, 150, 8, 9, 45}\n",
      "{23, 8, 9, 458, 78}\n"
     ]
    }
   ],
   "source": [
    "print(a)\n",
    "print(b)\n",
    "print(a.intersection(b))\n",
    "print(b.intersection(a))\n",
    "print(a)\n",
    "print(b)"
   ]
  },
  {
   "cell_type": "code",
   "execution_count": 54,
   "id": "2f3198cb",
   "metadata": {},
   "outputs": [
    {
     "name": "stdout",
     "output_type": "stream",
     "text": [
      "{6, 150, 8, 9, 45}\n",
      "{23, 8, 9, 458, 78}\n",
      "{150, 45, 6}\n",
      "{458, 78, 23}\n",
      "{6, 150, 8, 9, 45}\n",
      "{23, 8, 9, 458, 78}\n"
     ]
    }
   ],
   "source": [
    "print(a)\n",
    "print(b)\n",
    "print(a.difference(b))\n",
    "print(b.difference(a))\n",
    "print(a)\n",
    "print(b)"
   ]
  },
  {
   "cell_type": "code",
   "execution_count": 56,
   "id": "10e9ffad",
   "metadata": {},
   "outputs": [
    {
     "name": "stdout",
     "output_type": "stream",
     "text": [
      "{6, 150, 8, 9, 45}\n"
     ]
    },
    {
     "ename": "TypeError",
     "evalue": "set.add() takes exactly one argument (4 given)",
     "output_type": "error",
     "traceback": [
      "\u001b[1;31m---------------------------------------------------------------------------\u001b[0m",
      "\u001b[1;31mTypeError\u001b[0m                                 Traceback (most recent call last)",
      "Cell \u001b[1;32mIn[56], line 2\u001b[0m\n\u001b[0;32m      1\u001b[0m \u001b[38;5;28mprint\u001b[39m(a)\n\u001b[1;32m----> 2\u001b[0m \u001b[43ma\u001b[49m\u001b[38;5;241;43m.\u001b[39;49m\u001b[43madd\u001b[49m\u001b[43m(\u001b[49m\u001b[38;5;241;43m1\u001b[39;49m\u001b[43m,\u001b[49m\u001b[38;5;241;43m8\u001b[39;49m\u001b[43m,\u001b[49m\u001b[38;5;241;43m9\u001b[39;49m\u001b[43m,\u001b[49m\u001b[38;5;241;43m6\u001b[39;49m\u001b[43m)\u001b[49m\n\u001b[0;32m      3\u001b[0m \u001b[38;5;28mprint\u001b[39m(a)\n",
      "\u001b[1;31mTypeError\u001b[0m: set.add() takes exactly one argument (4 given)"
     ]
    }
   ],
   "source": [
    "print(a)\n",
    "a.add(1,8,9,6)\n",
    "print(a)"
   ]
  },
  {
   "cell_type": "code",
   "execution_count": 57,
   "id": "7ab20bcd",
   "metadata": {},
   "outputs": [
    {
     "name": "stdout",
     "output_type": "stream",
     "text": [
      "{} <class 'dict'>\n",
      "{4} <class 'set'>\n"
     ]
    }
   ],
   "source": [
    "m = {} # dictionary\n",
    "n = {4} # set\n",
    "print(m,type(m))\n",
    "print(n,type(n))"
   ]
  },
  {
   "cell_type": "code",
   "execution_count": 59,
   "id": "4a3a5d8b",
   "metadata": {},
   "outputs": [
    {
     "name": "stdout",
     "output_type": "stream",
     "text": [
      "set() <class 'set'>\n",
      "set() <class 'set'>\n",
      "set()\n",
      "set()\n",
      "set()\n"
     ]
    }
   ],
   "source": [
    "p = set()\n",
    "q = set()\n",
    "print(p,type(p))\n",
    "print(q,type(q))\n",
    "print(p.union(q))\n",
    "print(p)\n",
    "print(q)"
   ]
  },
  {
   "cell_type": "code",
   "execution_count": 60,
   "id": "fae9d900",
   "metadata": {},
   "outputs": [
    {
     "name": "stdout",
     "output_type": "stream",
     "text": [
      "{6, 150, 8, 9, 45}\n",
      "{67, 6, 150, 8, 9, 45}\n"
     ]
    }
   ],
   "source": [
    "print(a)\n",
    "a.add(67)\n",
    "print(a)"
   ]
  },
  {
   "cell_type": "code",
   "execution_count": 62,
   "id": "84593999",
   "metadata": {},
   "outputs": [
    {
     "name": "stdout",
     "output_type": "stream",
     "text": [
      "{67, 6, 150, 8, 9, 45}\n",
      "{67, (1, 5, 9), 6, 150, 8, 9, 45}\n"
     ]
    }
   ],
   "source": [
    "print(a)\n",
    "a.add((1,5,9))\n",
    "print(a)"
   ]
  },
  {
   "cell_type": "code",
   "execution_count": 63,
   "id": "bb58a872",
   "metadata": {},
   "outputs": [
    {
     "name": "stdout",
     "output_type": "stream",
     "text": [
      "{67, (1, 5, 9), 6, 150, 8, 9, 45}\n"
     ]
    },
    {
     "ename": "TypeError",
     "evalue": "set.remove() takes exactly one argument (0 given)",
     "output_type": "error",
     "traceback": [
      "\u001b[1;31m---------------------------------------------------------------------------\u001b[0m",
      "\u001b[1;31mTypeError\u001b[0m                                 Traceback (most recent call last)",
      "Cell \u001b[1;32mIn[63], line 2\u001b[0m\n\u001b[0;32m      1\u001b[0m \u001b[38;5;28mprint\u001b[39m(a)\n\u001b[1;32m----> 2\u001b[0m \u001b[43ma\u001b[49m\u001b[38;5;241;43m.\u001b[39;49m\u001b[43mremove\u001b[49m\u001b[43m(\u001b[49m\u001b[43m)\u001b[49m\n\u001b[0;32m      3\u001b[0m \u001b[38;5;28mprint\u001b[39m(a)\n",
      "\u001b[1;31mTypeError\u001b[0m: set.remove() takes exactly one argument (0 given)"
     ]
    }
   ],
   "source": [
    "print(a)\n",
    "a.remove()\n",
    "print(a)"
   ]
  },
  {
   "cell_type": "code",
   "execution_count": 64,
   "id": "b1e1d0dd",
   "metadata": {},
   "outputs": [
    {
     "name": "stdout",
     "output_type": "stream",
     "text": [
      "{67, (1, 5, 9), 6, 150, 8, 9, 45}\n",
      "{67, 6, 150, 8, 9, 45}\n"
     ]
    }
   ],
   "source": [
    "print(a)\n",
    "a.remove((1,5,9))\n",
    "print(a)"
   ]
  },
  {
   "cell_type": "code",
   "execution_count": 65,
   "id": "3922ac12",
   "metadata": {},
   "outputs": [
    {
     "name": "stdout",
     "output_type": "stream",
     "text": [
      "{67, 6, 150, 8, 9, 45}\n"
     ]
    },
    {
     "ename": "KeyError",
     "evalue": "-45",
     "output_type": "error",
     "traceback": [
      "\u001b[1;31m---------------------------------------------------------------------------\u001b[0m",
      "\u001b[1;31mKeyError\u001b[0m                                  Traceback (most recent call last)",
      "Cell \u001b[1;32mIn[65], line 2\u001b[0m\n\u001b[0;32m      1\u001b[0m \u001b[38;5;28mprint\u001b[39m(a)\n\u001b[1;32m----> 2\u001b[0m \u001b[43ma\u001b[49m\u001b[38;5;241;43m.\u001b[39;49m\u001b[43mremove\u001b[49m\u001b[43m(\u001b[49m\u001b[38;5;241;43m-\u001b[39;49m\u001b[38;5;241;43m45\u001b[39;49m\u001b[43m)\u001b[49m\n\u001b[0;32m      3\u001b[0m \u001b[38;5;28mprint\u001b[39m(a)\n",
      "\u001b[1;31mKeyError\u001b[0m: -45"
     ]
    }
   ],
   "source": [
    "print(a)\n",
    "a.remove(-45)\n",
    "print(a)"
   ]
  },
  {
   "cell_type": "code",
   "execution_count": 67,
   "id": "1b54c5fb",
   "metadata": {},
   "outputs": [
    {
     "name": "stdout",
     "output_type": "stream",
     "text": [
      "{6, 150, 8, 9, 45}\n",
      "{150, 8, 9, 45}\n"
     ]
    }
   ],
   "source": [
    "print(a)\n",
    "a.pop()\n",
    "print(a)"
   ]
  },
  {
   "cell_type": "code",
   "execution_count": 68,
   "id": "0cb75f9d",
   "metadata": {},
   "outputs": [
    {
     "name": "stdout",
     "output_type": "stream",
     "text": [
      "{150, 8, 9, 45}\n",
      "{8, 9, 45}\n"
     ]
    }
   ],
   "source": [
    "print(a)\n",
    "a.pop()\n",
    "print(a)"
   ]
  },
  {
   "cell_type": "code",
   "execution_count": 69,
   "id": "e3422d2d",
   "metadata": {},
   "outputs": [
    {
     "name": "stdout",
     "output_type": "stream",
     "text": [
      "{8, 9, 45}\n"
     ]
    },
    {
     "ename": "TypeError",
     "evalue": "set.pop() takes no arguments (1 given)",
     "output_type": "error",
     "traceback": [
      "\u001b[1;31m---------------------------------------------------------------------------\u001b[0m",
      "\u001b[1;31mTypeError\u001b[0m                                 Traceback (most recent call last)",
      "Cell \u001b[1;32mIn[69], line 2\u001b[0m\n\u001b[0;32m      1\u001b[0m \u001b[38;5;28mprint\u001b[39m(a)\n\u001b[1;32m----> 2\u001b[0m \u001b[43ma\u001b[49m\u001b[38;5;241;43m.\u001b[39;49m\u001b[43mpop\u001b[49m\u001b[43m(\u001b[49m\u001b[38;5;241;43m45\u001b[39;49m\u001b[43m)\u001b[49m\n\u001b[0;32m      3\u001b[0m \u001b[38;5;28mprint\u001b[39m(a)\n",
      "\u001b[1;31mTypeError\u001b[0m: set.pop() takes no arguments (1 given)"
     ]
    }
   ],
   "source": [
    "print(a)\n",
    "a.pop(45)\n",
    "print(a)"
   ]
  },
  {
   "cell_type": "code",
   "execution_count": 71,
   "id": "008970c4",
   "metadata": {},
   "outputs": [
    {
     "name": "stdout",
     "output_type": "stream",
     "text": [
      "{8, 9, 45}\n",
      "{23, 8, 9, 458, 78}\n",
      "{23, 458, 45, 78}\n",
      "{8, 9, 45}\n",
      "{23, 8, 9, 458, 78}\n"
     ]
    }
   ],
   "source": [
    "print(a)\n",
    "print(b)\n",
    "print(a.symmetric_difference(b))\n",
    "print(a)\n",
    "print(b)"
   ]
  },
  {
   "cell_type": "code",
   "execution_count": 72,
   "id": "f680edb1",
   "metadata": {},
   "outputs": [
    {
     "name": "stdout",
     "output_type": "stream",
     "text": [
      "{8, 9, 45}\n",
      "{23, 8, 9, 458, 78}\n",
      "{8, 9}\n",
      "{23, 8, 9, 458, 78}\n"
     ]
    }
   ],
   "source": [
    "print(a)\n",
    "print(b)\n",
    "a.intersection_update(b)\n",
    "print(a)\n",
    "print(b)"
   ]
  },
  {
   "cell_type": "code",
   "execution_count": 73,
   "id": "234a7267",
   "metadata": {},
   "outputs": [
    {
     "name": "stdout",
     "output_type": "stream",
     "text": [
      "{8, 3, 5, 7}\n",
      "{56, 67, 3, 23}\n",
      "{8, 5, 7}\n",
      "{56, 67, 3, 23}\n"
     ]
    }
   ],
   "source": [
    "c = {5,7,8,3}\n",
    "d = {56,67,3,23}\n",
    "print(c)\n",
    "print(d)\n",
    "c.difference_update(d)\n",
    "print(c)\n",
    "print(d)"
   ]
  },
  {
   "cell_type": "code",
   "execution_count": 74,
   "id": "dbc26ee0",
   "metadata": {},
   "outputs": [
    {
     "name": "stdout",
     "output_type": "stream",
     "text": [
      "{56, 8, 45, 7}\n",
      "{450, 7, 90, 23}\n",
      "{56, 8, 45, 7}\n",
      "{450, 8, 45, 23, 56, 90}\n"
     ]
    }
   ],
   "source": [
    "q = {56,7,8,45}\n",
    "z = {90,7,23,450}\n",
    "print(q)\n",
    "print(z)\n",
    "z.symmetric_difference_update(q)\n",
    "print(q)\n",
    "print(z)"
   ]
  },
  {
   "cell_type": "code",
   "execution_count": 78,
   "id": "deab7fa4",
   "metadata": {},
   "outputs": [
    {
     "name": "stdout",
     "output_type": "stream",
     "text": [
      "{450, 8, 45, 23, 56, 90}\n",
      "{450, 2, 3, 6, 8, 9, 45, 23, 56, 90}\n"
     ]
    }
   ],
   "source": [
    "print(z)\n",
    "z.update([45,2,3,6,9])\n",
    "print(z)"
   ]
  },
  {
   "cell_type": "markdown",
   "id": "3bf04860",
   "metadata": {},
   "source": [
    "## String:\n",
    "    - It can be enclosed with ' or \" \n",
    "    - It stores all data type values\n",
    "    - It can be typecasted as str()\n",
    "    - Slicing can be done because of index\n",
    "    - It stores the data in single string item or a characters"
   ]
  },
  {
   "cell_type": "code",
   "execution_count": 80,
   "id": "7857d164",
   "metadata": {},
   "outputs": [
    {
     "name": "stdout",
     "output_type": "stream",
     "text": [
      "1.12 <class 'str'>\n"
     ]
    }
   ],
   "source": [
    "v = '1.12'\n",
    "print(v,type(v))"
   ]
  },
  {
   "cell_type": "code",
   "execution_count": 81,
   "id": "7d23755a",
   "metadata": {},
   "outputs": [
    {
     "name": "stdout",
     "output_type": "stream",
     "text": [
      "THis is an Example <class 'str'>\n"
     ]
    }
   ],
   "source": [
    "y = 'THis is an Example'\n",
    "print(y,type(y))"
   ]
  },
  {
   "cell_type": "code",
   "execution_count": 83,
   "id": "cb70078f",
   "metadata": {},
   "outputs": [
    {
     "name": "stdout",
     "output_type": "stream",
     "text": [
      "0 <class 'int'>\n",
      "1 <class 'int'>\n",
      "2 <class 'int'>\n",
      "3 <class 'int'>\n",
      "4 <class 'int'>\n",
      "5 <class 'int'>\n",
      "6 <class 'int'>\n",
      "7 <class 'int'>\n",
      "8 <class 'int'>\n",
      "9 <class 'int'>\n",
      "10 <class 'int'>\n",
      "11 <class 'int'>\n",
      "12 <class 'int'>\n",
      "13 <class 'int'>\n",
      "14 <class 'int'>\n",
      "15 <class 'int'>\n",
      "16 <class 'int'>\n",
      "17 <class 'int'>\n"
     ]
    }
   ],
   "source": [
    "for i in range(len(y)):\n",
    "    print(i,type(i))"
   ]
  },
  {
   "cell_type": "code",
   "execution_count": 85,
   "id": "4c3b6f49",
   "metadata": {},
   "outputs": [
    {
     "name": "stdout",
     "output_type": "stream",
     "text": [
      "T H i s   i s   a n   E x a m p l e "
     ]
    }
   ],
   "source": [
    "for i in y:\n",
    "    print(i,end=\" \")"
   ]
  },
  {
   "cell_type": "code",
   "execution_count": null,
   "id": "f6f5af38",
   "metadata": {},
   "outputs": [],
   "source": []
  }
 ],
 "metadata": {
  "kernelspec": {
   "display_name": "Python 3 (ipykernel)",
   "language": "python",
   "name": "python3"
  },
  "language_info": {
   "codemirror_mode": {
    "name": "ipython",
    "version": 3
   },
   "file_extension": ".py",
   "mimetype": "text/x-python",
   "name": "python",
   "nbconvert_exporter": "python",
   "pygments_lexer": "ipython3",
   "version": "3.9.13"
  }
 },
 "nbformat": 4,
 "nbformat_minor": 5
}
