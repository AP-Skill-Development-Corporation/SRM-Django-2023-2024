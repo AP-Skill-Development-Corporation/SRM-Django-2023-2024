{
 "cells": [
  {
   "cell_type": "markdown",
   "id": "5cf2487c",
   "metadata": {},
   "source": [
    "#### String:\n",
    "        - it is a sequence of characters\n",
    "        - for declaration either '' or \"\" or ''' '''\n",
    "        - it is a mutable(we can change data)\n",
    "        - by using index we can access string elements\n",
    "        - index starts 0 onwards\n",
    "#### slicing:\n",
    "        - if you want to access more than one character at a time from string\n",
    "        - syntax:\n",
    "            [start index:end index+1:step value]"
   ]
  },
  {
   "cell_type": "code",
   "execution_count": 3,
   "id": "5316f3f6",
   "metadata": {},
   "outputs": [
    {
     "name": "stdout",
     "output_type": "stream",
     "text": [
      "python programming\n",
      "python programming\n",
      "python programming\n"
     ]
    }
   ],
   "source": [
    "s='python programming'\n",
    "print(s)\n",
    "s1=\"python programming\"\n",
    "print(s1)\n",
    "s2='''python programming'''\n",
    "print(s2)"
   ]
  },
  {
   "cell_type": "code",
   "execution_count": 6,
   "id": "8e012033",
   "metadata": {},
   "outputs": [
    {
     "name": "stdout",
     "output_type": "stream",
     "text": [
      "python programming\n",
      "o\n",
      "g\n"
     ]
    }
   ],
   "source": [
    "### how to access string elements\n",
    "print(s)\n",
    "print(s[4])\n",
    "print(s[-1])"
   ]
  },
  {
   "cell_type": "code",
   "execution_count": 13,
   "id": "959e990e",
   "metadata": {
    "collapsed": true
   },
   "outputs": [
    {
     "name": "stdout",
     "output_type": "stream",
     "text": [
      "python programming\n",
      "pyt\n",
      "pyt\n",
      "ing\n",
      "pto rgamn\n",
      "gimropnhy\n",
      "gnimmargorp nohtyp\n"
     ]
    }
   ],
   "source": [
    "### slicing\n",
    "print(s[:])\n",
    "print(s[0:3])\n",
    "print(s[:3])\n",
    "print(s[-3:])\n",
    "print(s[::2])\n",
    "print(s[::-2])\n",
    "print(s[::-1])"
   ]
  },
  {
   "cell_type": "markdown",
   "id": "13cc4e0d",
   "metadata": {},
   "source": [
    "### String methods:"
   ]
  },
  {
   "cell_type": "code",
   "execution_count": 14,
   "id": "8d4714c5",
   "metadata": {},
   "outputs": [
    {
     "name": "stdout",
     "output_type": "stream",
     "text": [
      "['__add__', '__class__', '__contains__', '__delattr__', '__dir__', '__doc__', '__eq__', '__format__', '__ge__', '__getattribute__', '__getitem__', '__getnewargs__', '__gt__', '__hash__', '__init__', '__init_subclass__', '__iter__', '__le__', '__len__', '__lt__', '__mod__', '__mul__', '__ne__', '__new__', '__reduce__', '__reduce_ex__', '__repr__', '__rmod__', '__rmul__', '__setattr__', '__sizeof__', '__str__', '__subclasshook__', 'capitalize', 'casefold', 'center', 'count', 'encode', 'endswith', 'expandtabs', 'find', 'format', 'format_map', 'index', 'isalnum', 'isalpha', 'isascii', 'isdecimal', 'isdigit', 'isidentifier', 'islower', 'isnumeric', 'isprintable', 'isspace', 'istitle', 'isupper', 'join', 'ljust', 'lower', 'lstrip', 'maketrans', 'partition', 'removeprefix', 'removesuffix', 'replace', 'rfind', 'rindex', 'rjust', 'rpartition', 'rsplit', 'rstrip', 'split', 'splitlines', 'startswith', 'strip', 'swapcase', 'title', 'translate', 'upper', 'zfill']\n"
     ]
    }
   ],
   "source": [
    "print(dir(str))"
   ]
  },
  {
   "cell_type": "markdown",
   "id": "e07c1c92",
   "metadata": {},
   "source": [
    "### is upper():it returns boolean values [T/F]\n",
    "        - syntax:\n",
    "                str.isupper()"
   ]
  },
  {
   "cell_type": "code",
   "execution_count": 16,
   "id": "55049252",
   "metadata": {},
   "outputs": [
    {
     "name": "stdout",
     "output_type": "stream",
     "text": [
      "python programming\n",
      "False\n"
     ]
    }
   ],
   "source": [
    "print(s)\n",
    "print(s.isupper())"
   ]
  },
  {
   "cell_type": "markdown",
   "id": "7991373a",
   "metadata": {},
   "source": [
    "#### is lower--> it returns true if total string has lower case\n",
    "        - syntax:\n",
    "                - str.islower()"
   ]
  },
  {
   "cell_type": "code",
   "execution_count": 17,
   "id": "7c907887",
   "metadata": {},
   "outputs": [
    {
     "name": "stdout",
     "output_type": "stream",
     "text": [
      "True\n"
     ]
    }
   ],
   "source": [
    "print(s.islower())"
   ]
  },
  {
   "cell_type": "markdown",
   "id": "ae860c38",
   "metadata": {},
   "source": [
    "### upper():it converts entire string into upper case\n",
    "    - syntax:\n",
    "        str.upper()"
   ]
  },
  {
   "cell_type": "code",
   "execution_count": 18,
   "id": "427a4de8",
   "metadata": {},
   "outputs": [
    {
     "name": "stdout",
     "output_type": "stream",
     "text": [
      "PYTHON PROGRAMMING\n"
     ]
    }
   ],
   "source": [
    "print(s.upper())"
   ]
  },
  {
   "cell_type": "markdown",
   "id": "7af751b0",
   "metadata": {},
   "source": [
    "### lower():it converts entire string into lower case"
   ]
  },
  {
   "cell_type": "code",
   "execution_count": 19,
   "id": "7cc8e014",
   "metadata": {},
   "outputs": [
    {
     "name": "stdout",
     "output_type": "stream",
     "text": [
      "python programming\n"
     ]
    }
   ],
   "source": [
    "print(s.lower())"
   ]
  },
  {
   "cell_type": "markdown",
   "id": "be9d4760",
   "metadata": {},
   "source": [
    "#### index(): it returns index position of particular element\n",
    "    - str.index('character')"
   ]
  },
  {
   "cell_type": "code",
   "execution_count": 26,
   "id": "9eb7f3c3",
   "metadata": {
    "collapsed": true
   },
   "outputs": [
    {
     "name": "stdout",
     "output_type": "stream",
     "text": [
      "python programming\n",
      "10\n",
      "17\n",
      "13\n",
      "14\n"
     ]
    }
   ],
   "source": [
    "print(s)\n",
    "print(s.index('g'))\n",
    "print(s.rindex('g'))\n",
    "print(s.index('m'))# right side index\n",
    "print(s.rindex('m'))"
   ]
  },
  {
   "cell_type": "markdown",
   "id": "9efe8eff",
   "metadata": {},
   "source": [
    "#### count()---> it returns no of occurances\n",
    "        - syntax:\n",
    "            str.count('charcter')"
   ]
  },
  {
   "cell_type": "code",
   "execution_count": 30,
   "id": "35999007",
   "metadata": {
    "collapsed": true
   },
   "outputs": [
    {
     "name": "stdout",
     "output_type": "stream",
     "text": [
      "python programming\n",
      "2\n",
      "2\n",
      "2\n"
     ]
    }
   ],
   "source": [
    "print(s)\n",
    "print(s.count('o'))\n",
    "print(s.count('m'))\n",
    "print(s.count('g'))"
   ]
  },
  {
   "cell_type": "markdown",
   "id": "297926b3",
   "metadata": {},
   "source": [
    "### split():it splits the string by space\n",
    "    - syntax:\n",
    "        str.split()"
   ]
  },
  {
   "cell_type": "code",
   "execution_count": 34,
   "id": "9e15909d",
   "metadata": {},
   "outputs": [
    {
     "name": "stdout",
     "output_type": "stream",
     "text": [
      "python programming\n",
      "['python', 'programming']\n",
      "['pytho', ' programmi', 'g']\n",
      "['python pro', 'rammin', '']\n"
     ]
    }
   ],
   "source": [
    "print(s)\n",
    "print(s.split())\n",
    "print(s.split('n'))\n",
    "print(s.split('g'))"
   ]
  },
  {
   "cell_type": "markdown",
   "id": "4d5d9360",
   "metadata": {},
   "source": [
    "### join():\n",
    "        -syntax:\n",
    "            'charcter'.join(string)"
   ]
  },
  {
   "cell_type": "code",
   "execution_count": 38,
   "id": "bc6145bf",
   "metadata": {
    "collapsed": true
   },
   "outputs": [
    {
     "name": "stdout",
     "output_type": "stream",
     "text": [
      "python programming\n",
      "p@y@t@h@o@n@ @p@r@o@g@r@a@m@m@i@n@g\n",
      "pworkshopyworkshoptworkshophworkshopoworkshopnworkshop workshoppworkshoprworkshopoworkshopgworkshoprworkshopaworkshopmworkshopmworkshopiworkshopnworkshopg\n",
      "p123y123t123h123o123n123 123p123r123o123g123r123a123m123m123i123n123g\n"
     ]
    }
   ],
   "source": [
    "print(s)\n",
    "print('@'.join(s))\n",
    "print('workshop'.join(s))\n",
    "print('123'.join(s))"
   ]
  },
  {
   "cell_type": "markdown",
   "id": "268aada2",
   "metadata": {},
   "source": [
    "#### title():it converts entire string  into title format\n",
    "    - syntax:\n",
    "        str.title()"
   ]
  },
  {
   "cell_type": "code",
   "execution_count": 40,
   "id": "30a08c9d",
   "metadata": {
    "collapsed": true
   },
   "outputs": [
    {
     "name": "stdout",
     "output_type": "stream",
     "text": [
      "python programming\n",
      "Python Programming\n"
     ]
    }
   ],
   "source": [
    "print(s)\n",
    "print(s.title())"
   ]
  },
  {
   "cell_type": "markdown",
   "id": "b99942ae",
   "metadata": {},
   "source": [
    "#### istitle---> T/F\n",
    "    - Syntax:\n",
    "        str.istitle()\n",
    "    "
   ]
  },
  {
   "cell_type": "code",
   "execution_count": 42,
   "id": "720ccef7",
   "metadata": {
    "collapsed": true
   },
   "outputs": [
    {
     "name": "stdout",
     "output_type": "stream",
     "text": [
      "python programming\n",
      "False\n"
     ]
    }
   ],
   "source": [
    "print(s)\n",
    "print(s.istitle())"
   ]
  },
  {
   "cell_type": "markdown",
   "id": "b861c0a5",
   "metadata": {},
   "source": [
    "#### startswith--->T/F"
   ]
  },
  {
   "cell_type": "code",
   "execution_count": 45,
   "id": "21baa4db",
   "metadata": {
    "collapsed": true
   },
   "outputs": [
    {
     "name": "stdout",
     "output_type": "stream",
     "text": [
      "python programming\n",
      "False\n",
      "True\n"
     ]
    }
   ],
   "source": [
    "print(s)\n",
    "print(s.startswith('P'))\n",
    "print(s.startswith('p'))"
   ]
  },
  {
   "cell_type": "markdown",
   "id": "61d350bf",
   "metadata": {},
   "source": [
    "#### endswith()--->T/F"
   ]
  },
  {
   "cell_type": "code",
   "execution_count": 47,
   "id": "7cdc88ae",
   "metadata": {
    "collapsed": true
   },
   "outputs": [
    {
     "name": "stdout",
     "output_type": "stream",
     "text": [
      "False\n",
      "True\n"
     ]
    }
   ],
   "source": [
    "print(s.endswith('p'))\n",
    "print(s.endswith('g'))"
   ]
  },
  {
   "cell_type": "code",
   "execution_count": null,
   "id": "9ecdf554",
   "metadata": {},
   "outputs": [],
   "source": [
    "### is alpha()--->T/F"
   ]
  },
  {
   "cell_type": "code",
   "execution_count": 49,
   "id": "5c18e337",
   "metadata": {},
   "outputs": [
    {
     "name": "stdout",
     "output_type": "stream",
     "text": [
      "python programming\n",
      "False\n"
     ]
    }
   ],
   "source": [
    "print(s)\n",
    "print(s.isalpha())"
   ]
  },
  {
   "cell_type": "code",
   "execution_count": null,
   "id": "18831b71",
   "metadata": {},
   "outputs": [],
   "source": [
    "### is digit()"
   ]
  },
  {
   "cell_type": "code",
   "execution_count": 51,
   "id": "9e1ca0f1",
   "metadata": {},
   "outputs": [
    {
     "name": "stdout",
     "output_type": "stream",
     "text": [
      "1307654\n",
      "True\n"
     ]
    }
   ],
   "source": [
    "d=\"1307654\"\n",
    "print(d)\n",
    "print(d.isdigit())"
   ]
  },
  {
   "cell_type": "code",
   "execution_count": null,
   "id": "ede6f593",
   "metadata": {},
   "outputs": [],
   "source": [
    "#### isalnum()-->is alphabat numrical"
   ]
  },
  {
   "cell_type": "code",
   "execution_count": 54,
   "id": "22b5a8fa",
   "metadata": {},
   "outputs": [
    {
     "name": "stdout",
     "output_type": "stream",
     "text": [
      "python123\n",
      "True\n"
     ]
    }
   ],
   "source": [
    "g=\"python123\"\n",
    "print(g)\n",
    "print(g.isalnum())"
   ]
  },
  {
   "cell_type": "code",
   "execution_count": 57,
   "id": "e4a20405",
   "metadata": {},
   "outputs": [
    {
     "name": "stdout",
     "output_type": "stream",
     "text": [
      "True\n"
     ]
    }
   ],
   "source": [
    "#### is space()\n",
    "s4=\" \"\n",
    "print(s4.isspace())"
   ]
  },
  {
   "cell_type": "code",
   "execution_count": 62,
   "id": "e976d964",
   "metadata": {},
   "outputs": [
    {
     "name": "stdout",
     "output_type": "stream",
     "text": [
      "python programming\n",
      "18\n",
      "*python programming*\n",
      "######python programming######\n",
      "@@@@python programming@@@\n"
     ]
    }
   ],
   "source": [
    "#### center()\n",
    "print(s)\n",
    "print(len(s))\n",
    "print(s.center(20,'*'))\n",
    "print(s.center(30,'#'))\n",
    "print(s.center(25,'@'))"
   ]
  },
  {
   "cell_type": "markdown",
   "id": "7bfab60c",
   "metadata": {},
   "source": [
    "#### zfill---zero filling method\n",
    "    - syntax:\n",
    "        str.zfill(length)"
   ]
  },
  {
   "cell_type": "code",
   "execution_count": 66,
   "id": "e1897e75",
   "metadata": {},
   "outputs": [
    {
     "name": "stdout",
     "output_type": "stream",
     "text": [
      "python programming\n",
      "python programming\n",
      "000000000000python programming\n"
     ]
    }
   ],
   "source": [
    "print(s)\n",
    "print(s.zfill(10))\n",
    "print(s.zfill(30))"
   ]
  },
  {
   "cell_type": "markdown",
   "id": "4f5dbd35",
   "metadata": {},
   "source": [
    "#### format():\n",
    "    - syntax:\n",
    "        .format(str)"
   ]
  },
  {
   "cell_type": "code",
   "execution_count": 67,
   "id": "15a2992a",
   "metadata": {},
   "outputs": [
    {
     "name": "stdout",
     "output_type": "stream",
     "text": [
      "this is python programming session \n"
     ]
    }
   ],
   "source": [
    "h=\"programming\"\n",
    "print(\"this is python {} session \" .format(h))"
   ]
  },
  {
   "cell_type": "code",
   "execution_count": 69,
   "id": "e3ffbab8",
   "metadata": {},
   "outputs": [
    {
     "name": "stdout",
     "output_type": "stream",
     "text": [
      "this is python programming session\n"
     ]
    }
   ],
   "source": [
    "print(\"this is python {} session\".format(\"programming\"))"
   ]
  },
  {
   "cell_type": "markdown",
   "id": "6127e816",
   "metadata": {},
   "source": [
    "##### problem solving on strings"
   ]
  },
  {
   "cell_type": "markdown",
   "id": "62d165f4",
   "metadata": {},
   "source": [
    "#### string palindrome\n",
    "        ex:madam,mom,malayalam,wow...."
   ]
  },
  {
   "cell_type": "code",
   "execution_count": 72,
   "id": "6cd2e32d",
   "metadata": {},
   "outputs": [
    {
     "name": "stdout",
     "output_type": "stream",
     "text": [
      "Enter your string name heremalayalam\n",
      "Palindromic String\n"
     ]
    }
   ],
   "source": [
    "n=input(\"Enter your string name here\")\n",
    "if n==n[::-1]:\n",
    "    print(\"Palindromic String\")\n",
    "else:\n",
    "    print(\"Not a Palindromic String\")"
   ]
  },
  {
   "cell_type": "markdown",
   "id": "234fd45d",
   "metadata": {},
   "source": [
    "#### character Frequency\n",
    "    ex: i/p: have a nice day\n",
    "        o/p: h--->1\n",
    "             a---->3\n",
    "             v-->1\n",
    "             e--->2\n",
    "        "
   ]
  },
  {
   "cell_type": "code",
   "execution_count": 74,
   "id": "6b84c922",
   "metadata": {
    "collapsed": true
   },
   "outputs": [
    {
     "name": "stdout",
     "output_type": "stream",
     "text": [
      "enter your string herehave a nice day\n",
      "h ---> 1\n",
      "a ---> 3\n",
      "v ---> 1\n",
      "e ---> 2\n",
      "  ---> 3\n",
      "a ---> 3\n",
      "  ---> 3\n",
      "n ---> 1\n",
      "i ---> 1\n",
      "c ---> 1\n",
      "e ---> 2\n",
      "  ---> 3\n",
      "d ---> 1\n",
      "a ---> 3\n",
      "y ---> 1\n"
     ]
    }
   ],
   "source": [
    "n1=input(\"enter your string here\")\n",
    "for i in n1:\n",
    "    print(i,'--->',n1.count(i))"
   ]
  },
  {
   "cell_type": "markdown",
   "id": "7b66bdda",
   "metadata": {},
   "source": [
    "#### i/p: python programming language 123 @\n",
    "#### O/P: total alphabtes count\n",
    "          total digits count\n",
    "          total special characters count"
   ]
  },
  {
   "cell_type": "code",
   "execution_count": 77,
   "id": "9e5c6f4d",
   "metadata": {},
   "outputs": [
    {
     "name": "stdout",
     "output_type": "stream",
     "text": [
      "Enter your string herepython programming @123\n",
      "Total alphabates count is: 17\n",
      "Total digits count is: 3\n",
      "Total special characters count is: 3\n"
     ]
    }
   ],
   "source": [
    "a=input(\"Enter your string here\")\n",
    "alp=dig=spe=0\n",
    "for i in a:\n",
    "    if i.isalpha():\n",
    "        alp +=1\n",
    "    elif i.isdigit():\n",
    "        dig +=1\n",
    "    else:\n",
    "        spe +=1\n",
    "print(\"Total alphabates count is:\",alp)\n",
    "print(\"Total digits count is:\",dig)\n",
    "print(\"Total special characters count is:\",spe)"
   ]
  },
  {
   "cell_type": "markdown",
   "id": "0c5b73ea",
   "metadata": {},
   "source": [
    "#### i/p: Have a nice day\n",
    "#### o/p: vowels: a i e"
   ]
  },
  {
   "cell_type": "code",
   "execution_count": 80,
   "id": "d04279f5",
   "metadata": {},
   "outputs": [
    {
     "name": "stdout",
     "output_type": "stream",
     "text": [
      "Enter your Stringhello\n",
      "e o "
     ]
    }
   ],
   "source": [
    "y=input(\"Enter your String\")\n",
    "for i in y:\n",
    "    if (i=='a' or i=='e' or i=='i' or i=='o' or i=='u' or \n",
    "       i=='A' or i=='E' or i=='I' or i=='O' or i=='U'):\n",
    "        print(i,end=\" \")"
   ]
  },
  {
   "cell_type": "code",
   "execution_count": null,
   "id": "b7a1e531",
   "metadata": {},
   "outputs": [],
   "source": []
  }
 ],
 "metadata": {
  "kernelspec": {
   "display_name": "Python 3 (ipykernel)",
   "language": "python",
   "name": "python3"
  },
  "language_info": {
   "codemirror_mode": {
    "name": "ipython",
    "version": 3
   },
   "file_extension": ".py",
   "mimetype": "text/x-python",
   "name": "python",
   "nbconvert_exporter": "python",
   "pygments_lexer": "ipython3",
   "version": "3.9.13"
  }
 },
 "nbformat": 4,
 "nbformat_minor": 5
}
