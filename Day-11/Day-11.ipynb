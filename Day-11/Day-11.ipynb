{
 "cells": [
  {
   "cell_type": "markdown",
   "id": "c9df141a",
   "metadata": {},
   "source": [
    "## File:\n",
    "    - To store the data permanently \n",
    "    - File formats like .text, .csv, .doc etc.,\n",
    "    - It stores the data of string data type to a file\n",
    "    - 4 Modes\n",
    "        => Reading => r => If the file is existing the contetn inside of it can be read by a user \n",
    "        => writing => w \n",
    "            => If the file is not existing the file be created automatically with a file name\n",
    "            => If the file doesnt contain any content in it the present data that is read by user will be stored in it.\n",
    "            => In this mode previous content will be erased\n",
    "        => Append => a\n",
    "            => If the file is not existing the file will be created automatically with a file name\n",
    "            => In this mode the previous content will be displayed to a user and the present content that is read by an user will stores below of previous content\n",
    "        => Execute => x\n",
    "            => If the fiel is not exisitng with the file name it will creates automatically with a file name\n",
    "            => This mode is used for checking the file is created in a folder or not?"
   ]
  },
  {
   "cell_type": "markdown",
   "id": "1732b8f4",
   "metadata": {},
   "source": [
    "```\n",
    "    Syntax:\n",
    "         with open('filepath/filename.extension','mode') as filepointervariablename:\n",
    "             //statements\n",
    "         \n",
    "         Note: Here no need of closing a filepointer\n",
    "```"
   ]
  },
  {
   "cell_type": "code",
   "execution_count": 1,
   "id": "21d5a6a3",
   "metadata": {},
   "outputs": [
    {
     "name": "stdout",
     "output_type": "stream",
     "text": [
      "[45, 78]\n"
     ]
    }
   ],
   "source": [
    "h = [45,78]\n",
    "print(h)"
   ]
  },
  {
   "cell_type": "code",
   "execution_count": 2,
   "id": "8dd6109d",
   "metadata": {},
   "outputs": [
    {
     "ename": "FileNotFoundError",
     "evalue": "[Errno 2] No such file or directory: 'Data/sample.text'",
     "output_type": "error",
     "traceback": [
      "\u001b[1;31m---------------------------------------------------------------------------\u001b[0m",
      "\u001b[1;31mFileNotFoundError\u001b[0m                         Traceback (most recent call last)",
      "Cell \u001b[1;32mIn[2], line 1\u001b[0m\n\u001b[1;32m----> 1\u001b[0m \u001b[38;5;28;01mwith\u001b[39;00m \u001b[38;5;28;43mopen\u001b[39;49m\u001b[43m(\u001b[49m\u001b[38;5;124;43m'\u001b[39;49m\u001b[38;5;124;43mData/sample.text\u001b[39;49m\u001b[38;5;124;43m'\u001b[39;49m\u001b[43m,\u001b[49m\u001b[38;5;124;43m'\u001b[39;49m\u001b[38;5;124;43mr\u001b[39;49m\u001b[38;5;124;43m'\u001b[39;49m\u001b[43m)\u001b[49m \u001b[38;5;28;01mas\u001b[39;00m f:\n\u001b[0;32m      2\u001b[0m     \u001b[38;5;28mprint\u001b[39m(f\u001b[38;5;241m.\u001b[39mread())\n",
      "File \u001b[1;32m~\\AppData\\Local\\Programs\\Python\\Python39\\lib\\site-packages\\IPython\\core\\interactiveshell.py:282\u001b[0m, in \u001b[0;36m_modified_open\u001b[1;34m(file, *args, **kwargs)\u001b[0m\n\u001b[0;32m    275\u001b[0m \u001b[38;5;28;01mif\u001b[39;00m file \u001b[38;5;129;01min\u001b[39;00m {\u001b[38;5;241m0\u001b[39m, \u001b[38;5;241m1\u001b[39m, \u001b[38;5;241m2\u001b[39m}:\n\u001b[0;32m    276\u001b[0m     \u001b[38;5;28;01mraise\u001b[39;00m \u001b[38;5;167;01mValueError\u001b[39;00m(\n\u001b[0;32m    277\u001b[0m         \u001b[38;5;124mf\u001b[39m\u001b[38;5;124m\"\u001b[39m\u001b[38;5;124mIPython won\u001b[39m\u001b[38;5;124m'\u001b[39m\u001b[38;5;124mt let you open fd=\u001b[39m\u001b[38;5;132;01m{\u001b[39;00mfile\u001b[38;5;132;01m}\u001b[39;00m\u001b[38;5;124m by default \u001b[39m\u001b[38;5;124m\"\u001b[39m\n\u001b[0;32m    278\u001b[0m         \u001b[38;5;124m\"\u001b[39m\u001b[38;5;124mas it is likely to crash IPython. If you know what you are doing, \u001b[39m\u001b[38;5;124m\"\u001b[39m\n\u001b[0;32m    279\u001b[0m         \u001b[38;5;124m\"\u001b[39m\u001b[38;5;124myou can use builtins\u001b[39m\u001b[38;5;124m'\u001b[39m\u001b[38;5;124m open.\u001b[39m\u001b[38;5;124m\"\u001b[39m\n\u001b[0;32m    280\u001b[0m     )\n\u001b[1;32m--> 282\u001b[0m \u001b[38;5;28;01mreturn\u001b[39;00m io_open(file, \u001b[38;5;241m*\u001b[39margs, \u001b[38;5;241m*\u001b[39m\u001b[38;5;241m*\u001b[39mkwargs)\n",
      "\u001b[1;31mFileNotFoundError\u001b[0m: [Errno 2] No such file or directory: 'Data/sample.text'"
     ]
    }
   ],
   "source": [
    "with open('Data/sample.text','r') as f:\n",
    "    print(f.read())"
   ]
  },
  {
   "cell_type": "code",
   "execution_count": 6,
   "id": "8b547b33",
   "metadata": {},
   "outputs": [
    {
     "name": "stdout",
     "output_type": "stream",
     "text": [
      "Enter a message: Good Afternoon To All.....\n"
     ]
    }
   ],
   "source": [
    "with open('Data/demo.text','w') as d:\n",
    "    b = input(\"Enter a message: \")\n",
    "    d.write(b)"
   ]
  },
  {
   "cell_type": "code",
   "execution_count": 7,
   "id": "00ccb889",
   "metadata": {},
   "outputs": [
    {
     "name": "stdout",
     "output_type": "stream",
     "text": [
      "['_CHUNK_SIZE', '__class__', '__del__', '__delattr__', '__dict__', '__dir__', '__doc__', '__enter__', '__eq__', '__exit__', '__format__', '__ge__', '__getattribute__', '__gt__', '__hash__', '__init__', '__init_subclass__', '__iter__', '__le__', '__lt__', '__ne__', '__new__', '__next__', '__reduce__', '__reduce_ex__', '__repr__', '__setattr__', '__sizeof__', '__str__', '__subclasshook__', '_checkClosed', '_checkReadable', '_checkSeekable', '_checkWritable', '_finalizing', 'buffer', 'close', 'closed', 'detach', 'encoding', 'errors', 'fileno', 'flush', 'isatty', 'line_buffering', 'mode', 'name', 'newlines', 'read', 'readable', 'readline', 'readlines', 'reconfigure', 'seek', 'seekable', 'tell', 'truncate', 'writable', 'write', 'write_through', 'writelines']\n"
     ]
    }
   ],
   "source": [
    "print(dir(d))"
   ]
  },
  {
   "cell_type": "code",
   "execution_count": 8,
   "id": "9a5aa420",
   "metadata": {},
   "outputs": [
    {
     "name": "stdout",
     "output_type": "stream",
     "text": [
      "Good Afternoon To All.....\n"
     ]
    }
   ],
   "source": [
    "with open('Data/demo.text','r') as g:\n",
    "    print(g.read())"
   ]
  },
  {
   "cell_type": "code",
   "execution_count": 9,
   "id": "615fbf28",
   "metadata": {},
   "outputs": [],
   "source": [
    "with open('Data/sample.text','a') as k:\n",
    "    k.write(\"This is an Example for Append Mode in File\")"
   ]
  },
  {
   "cell_type": "code",
   "execution_count": 11,
   "id": "234bae9f",
   "metadata": {},
   "outputs": [
    {
     "name": "stdout",
     "output_type": "stream",
     "text": [
      "Enter a Message: Hi User\n"
     ]
    }
   ],
   "source": [
    "with open('Data/sample.text','a') as m:\n",
    "    b = input(\"Enter a Message: \")\n",
    "    m.write(b)"
   ]
  },
  {
   "cell_type": "code",
   "execution_count": 23,
   "id": "c3df6e73",
   "metadata": {},
   "outputs": [
    {
     "name": "stdout",
     "output_type": "stream",
     "text": [
      "['This is an Example for Append Mode in File\\n', 'Hi User\\n', 'WElcome\\n', 'sfdff\\n', 'gdff\\n', 'g\\n', 'dff\\n', 'g\\n', 'dff\\n', 'g\\n', 'dffg\\n', 'dffgdfg\\n', 'dffg\\n', 'dfg\\n', 'df'] 15\n"
     ]
    }
   ],
   "source": [
    "with open('Data/sample.text','r') as v:\n",
    "    z = v.readlines()\n",
    "    print(z,len(z))"
   ]
  },
  {
   "cell_type": "code",
   "execution_count": 25,
   "id": "796d39d9",
   "metadata": {},
   "outputs": [
    {
     "name": "stdout",
     "output_type": "stream",
     "text": [
      "Enter a list of values: 1,8,9,6\n"
     ]
    }
   ],
   "source": [
    "with open('Data/input.csv','w') as b:\n",
    "    h = input(\"Enter a list of values: \").split(\",\")\n",
    "    for i in h:\n",
    "        b.write(i+\",\")"
   ]
  },
  {
   "cell_type": "markdown",
   "id": "8b2693bf",
   "metadata": {},
   "source": [
    "```\n",
    "Output.csv \n",
    "    \n",
    "    Sno,Roll Number,Student name,Branch,Year\n",
    "    1,21AK45,Rajesh,CSE,2\n",
    "    2,22AK78,Kumar,ECE,3\n",
    "    \n",
    "```"
   ]
  },
  {
   "cell_type": "code",
   "execution_count": 29,
   "id": "520aa947",
   "metadata": {},
   "outputs": [
    {
     "name": "stdout",
     "output_type": "stream",
     "text": [
      "Enter a range: 2\n",
      "Enter 1 Record value: 1,21AK34,Harish,Civil,2\n",
      "Enter 2 Record value: 2,21AK33,Lokesh,Mech,3\n"
     ]
    }
   ],
   "source": [
    "with open('Data/output.csv','w') as h:\n",
    "    h.write(\"Sno,Roll number,Student Name,Branch,Year,\\n\")\n",
    "    a = int(input(\"Enter a range: \"))\n",
    "    for i in range(1,a+1):\n",
    "        z = input(f\"Enter {i} Record value: \").split(',')\n",
    "        for j in z:\n",
    "            h.write(j+\",\")\n",
    "        h.write(\"\\n\")"
   ]
  },
  {
   "cell_type": "markdown",
   "id": "ae958ffe",
   "metadata": {},
   "source": [
    "```\n",
    "Contact Application => File\n",
    "\n",
    "    1. Create Contact\n",
    "    2. Update Contact\n",
    "    3. Delete Contact\n",
    "    4. Display All Contacts\n",
    "    5. Display Single Contact\n",
    "    6. Exit\n",
    "    \n",
    "    \n",
    "    Enter a choice: 1\n",
    "    Enter Mobile Number: 7898785478\n",
    "    7898785478 contact already Exists\n",
    "    \n",
    "    Enter a choice: 1\n",
    "    Enter Mobile Number: 7898785472\n",
    "    Enter Name: Rajesh\n",
    "    Enter Email: rajesh123@gmail.com\n",
    "    \n",
    "    Enter a choice: 2\n",
    "    Enter a Mobile Number: 7898785484\n",
    "    7898785484 Contact Doesnt Exists to Update\n",
    "    \n",
    "    Enter a choice: 2\n",
    "    Enter Mobile Number: 7898785472\n",
    "        1. Name\n",
    "        2. Email\n",
    "        3. Mobile Number\n",
    "        4. Exit\n",
    "    Enter a choice: 1\n",
    "    Old name: Rajesh\n",
    "    Enter New Name: rajesh kumar\n",
    "    rajesh Kumar is updated to a contact\n",
    "    Enter a choice: 2\n",
    "    Old Email: rajesh123@gmail.com\n",
    "    Enter New Mail: rajesh@gmail.com\n",
    "    Enter a choice: 3\n",
    "    Old Number:  7898785472\n",
    "    New Number: 8798547854\n",
    "    Enter a choice: 4\n",
    "    Updated Successfully for 8798547854\n",
    "    \n",
    "    Enter a Choice: 3\n",
    "    Enter Mobile Number: 9868745874\n",
    "    9868745874 Contact Doesnt Exist\n",
    "    \n",
    "    Enter a Choice: 3\n",
    "    Enter Mobile Number: 8798547854\n",
    "    Your Details:\n",
    "    Name: rajesh Kumar\n",
    "    Email: rajesh@gmail.com\n",
    "    Mobile Number: 8798547854\n",
    "    Contact is Deleted Successfully\n",
    "    \n",
    "    Enter a Choice: 4\n",
    "    Contact List is Empty\n",
    "    \n",
    "    Enter a Choice: 4\n",
    "    Contact Name,Mobile Number,Email\n",
    "    Tarun,8596857485,tarun12@gmail.com\n",
    "    Suresh,8574856521,suresh@gmail.com\n",
    "    \n",
    "    Enter a Choice: 5\n",
    "    Enter a Mobile Number: 8574856521\n",
    "    Contact Name: Suresh\n",
    "    Email: suresh@gmail.com\n",
    "    Mobile: 8574856521\n",
    "    \n",
    "    Enter a Choice: 6\n",
    "    Thanks for Using Contact File\n",
    "```"
   ]
  },
  {
   "cell_type": "code",
   "execution_count": 43,
   "id": "69429251",
   "metadata": {},
   "outputs": [
    {
     "name": "stdout",
     "output_type": "stream",
     "text": [
      "Harish\n"
     ]
    }
   ],
   "source": [
    "with open('Data/output.csv','r') as df:\n",
    "    g = df.readlines()[1:]\n",
    "    p = {}\n",
    "    for i in g:\n",
    "        d = i.split(\"\\n\")[0]\n",
    "        a = d.split(\",\")[:4]\n",
    "        p[a[1]] = a\n",
    "    print(p['21AK34'][2])"
   ]
  },
  {
   "cell_type": "code",
   "execution_count": null,
   "id": "a8470bfd",
   "metadata": {},
   "outputs": [],
   "source": []
  }
 ],
 "metadata": {
  "kernelspec": {
   "display_name": "Python 3 (ipykernel)",
   "language": "python",
   "name": "python3"
  },
  "language_info": {
   "codemirror_mode": {
    "name": "ipython",
    "version": 3
   },
   "file_extension": ".py",
   "mimetype": "text/x-python",
   "name": "python",
   "nbconvert_exporter": "python",
   "pygments_lexer": "ipython3",
   "version": "3.9.13"
  }
 },
 "nbformat": 4,
 "nbformat_minor": 5
}
