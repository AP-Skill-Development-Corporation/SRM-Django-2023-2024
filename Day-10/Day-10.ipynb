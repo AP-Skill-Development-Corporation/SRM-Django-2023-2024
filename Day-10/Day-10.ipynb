{
 "cells": [
  {
   "cell_type": "markdown",
   "id": "081cf81e",
   "metadata": {},
   "source": [
    "## Variable Length Argument:\n",
    "    - It had a preference from left to right\n",
    "    - variable,tuple and dictionary"
   ]
  },
  {
   "cell_type": "code",
   "execution_count": 3,
   "id": "b43ce5d4",
   "metadata": {},
   "outputs": [
    {
     "name": "stdout",
     "output_type": "stream",
     "text": [
      "Prasad <class 'str'> (45, 78, 98, 90) <class 'tuple'>\n",
      "Student Details\n",
      "Student Name: Prasad\n",
      "Subject Marks: (45, 78, 98, 90)\n"
     ]
    }
   ],
   "source": [
    "def stdnt(a,*b):\n",
    "    print(a,type(a),b,type(b))\n",
    "    print(\"Student Details\")\n",
    "    print(f\"Student Name: {a}\")\n",
    "    print(f\"Subject Marks: {b}\")\n",
    "    return\n",
    "\n",
    "# sn = input(\"Enter a Name: \")\n",
    "# sm = input(\"Enter subject marks: \").split()\n",
    "# marks = []\n",
    "# for i in sm:\n",
    "#     marks.append(int(i))\n",
    "# stdnt(sn,marks)\n",
    "stdnt(\"Prasad\",45,78,98,90)"
   ]
  },
  {
   "cell_type": "code",
   "execution_count": 4,
   "id": "18bd7595",
   "metadata": {},
   "outputs": [
    {
     "name": "stdout",
     "output_type": "stream",
     "text": [
      "Enter a Name: Kamala\n",
      "Enter subject marks: 7 8 9 5 47\n"
     ]
    },
    {
     "ename": "TypeError",
     "evalue": "stdnt() takes 1 positional argument but 2 were given",
     "output_type": "error",
     "traceback": [
      "\u001b[1;31m--------------------------------------------------\u001b[0m",
      "\u001b[1;31mTypeError\u001b[0m        Traceback (most recent call last)",
      "Cell \u001b[1;32mIn[4], line 13\u001b[0m\n\u001b[0;32m     11\u001b[0m \u001b[38;5;28;01mfor\u001b[39;00m i \u001b[38;5;129;01min\u001b[39;00m sm:\n\u001b[0;32m     12\u001b[0m     marks\u001b[38;5;241m.\u001b[39mappend(\u001b[38;5;28mint\u001b[39m(i))\n\u001b[1;32m---> 13\u001b[0m \u001b[43mstdnt\u001b[49m\u001b[43m(\u001b[49m\u001b[43msn\u001b[49m\u001b[43m,\u001b[49m\u001b[43mmarks\u001b[49m\u001b[43m)\u001b[49m\n",
      "\u001b[1;31mTypeError\u001b[0m: stdnt() takes 1 positional argument but 2 were given"
     ]
    }
   ],
   "source": [
    "def stdnt(a):\n",
    "    print(a,type(a),b,type(b))\n",
    "    print(\"Student Details\")\n",
    "    print(f\"Student Name: {a}\")\n",
    "    print(f\"Subject Marks: {b}\")\n",
    "    return\n",
    "\n",
    "sn = input(\"Enter a Name: \")\n",
    "sm = input(\"Enter subject marks: \").split()\n",
    "marks = []\n",
    "for i in sm:\n",
    "    marks.append(int(i))\n",
    "stdnt(sn,marks)"
   ]
  },
  {
   "cell_type": "code",
   "execution_count": 5,
   "id": "764820fc",
   "metadata": {},
   "outputs": [
    {
     "name": "stdout",
     "output_type": "stream",
     "text": [
      "Enter a Name: Lokesh\n",
      "Enter subject marks: 45 12 56 89\n",
      "('Lokesh', [45, 12, 56, 89]) <class 'tuple'>\n",
      "Student Details: ('Lokesh', [45, 12, 56, 89])\n"
     ]
    }
   ],
   "source": [
    "def stdnt(*a):\n",
    "    print(a,type(a))\n",
    "    print(f\"Student Details: {a}\")\n",
    "    return\n",
    "\n",
    "sn = input(\"Enter a Name: \")\n",
    "sm = input(\"Enter subject marks: \").split()\n",
    "marks = []\n",
    "for i in sm:\n",
    "    marks.append(int(i))\n",
    "stdnt(sn,marks)"
   ]
  },
  {
   "cell_type": "code",
   "execution_count": 10,
   "id": "cca81015",
   "metadata": {},
   "outputs": [
    {
     "name": "stdout",
     "output_type": "stream",
     "text": [
      "('Manoj', 45, 78, 9, 56, 4, 87, 8) <class 'tuple'>\n",
      "Student Details: ('Manoj', 45, 78, 9, 56, 4, 87, 8)\n"
     ]
    }
   ],
   "source": [
    "# Arbitary Positional Argument\n",
    "def stdnt(*a):\n",
    "    print(a,type(a))\n",
    "#     print(h,type(h))\n",
    "    print(f\"Student Details: {a}\")\n",
    "    return\n",
    "\n",
    "stdnt(\"Manoj\",45,78,9,56,4,87,8)"
   ]
  },
  {
   "cell_type": "code",
   "execution_count": 11,
   "id": "60f42fc1",
   "metadata": {},
   "outputs": [
    {
     "name": "stdout",
     "output_type": "stream",
     "text": [
      "{'en': 'Lokesh', 'esal': 45000.0, 'ead': 'VJWD'} <class 'dict'>\n"
     ]
    }
   ],
   "source": [
    "# Arbitary Keyword Argument\n",
    "def employee(**z):\n",
    "    print(z,type(z))\n",
    "    return\n",
    "\n",
    "employee(en=\"Lokesh\",esal=45000.00,ead='VJWD')"
   ]
  },
  {
   "cell_type": "code",
   "execution_count": 12,
   "id": "cff8d531",
   "metadata": {},
   "outputs": [
    {
     "name": "stdout",
     "output_type": "stream",
     "text": [
      "('EM56', 34, 6, 78) <class 'tuple'>\n",
      "{'en': 'Lokesh', 'esal': 45000.0, 'ead': 'VJWD'} <class 'dict'>\n"
     ]
    }
   ],
   "source": [
    "def employee(*p,**z):\n",
    "    print(p,type(p))\n",
    "    print(z,type(z))\n",
    "    return\n",
    "\n",
    "employee(\"EM56\",34,6,78,en=\"Lokesh\",esal=45000.00,ead='VJWD')"
   ]
  },
  {
   "cell_type": "code",
   "execution_count": 13,
   "id": "10545cf8",
   "metadata": {},
   "outputs": [
    {
     "ename": "SyntaxError",
     "evalue": "positional argument follows keyword argument (4104998518.py, line 6)",
     "output_type": "error",
     "traceback": [
      "\u001b[1;36m  Cell \u001b[1;32mIn[13], line 6\u001b[1;36m\u001b[0m\n\u001b[1;33m    employee(esal=45000.00,\"EM56\",34,6,78,en=\"Lokesh\",ead='VJWD')\u001b[0m\n\u001b[1;37m                                                                ^\u001b[0m\n\u001b[1;31mSyntaxError\u001b[0m\u001b[1;31m:\u001b[0m positional argument follows keyword argument\n"
     ]
    }
   ],
   "source": [
    "def employee(*p,**z):\n",
    "    print(p,type(p))\n",
    "    print(z,type(z))\n",
    "    return\n",
    "\n",
    "employee(esal=45000.00,\"EM56\",34,6,78,en=\"Lokesh\",ead='VJWD')"
   ]
  },
  {
   "cell_type": "code",
   "execution_count": 15,
   "id": "de1b31d5",
   "metadata": {},
   "outputs": [
    {
     "name": "stdout",
     "output_type": "stream",
     "text": [
      "('EM56', 34, 6, 78) <class 'tuple'>\n",
      "{'en': 'Lokesh', 'ead': 'VJWD', 'esal': 45000.0} <class 'dict'>\n",
      "45 <class 'int'>\n"
     ]
    }
   ],
   "source": [
    "def employee(*p,k=45,**z):\n",
    "    print(p,type(p))\n",
    "    print(z,type(z))\n",
    "    print(k,type(k))\n",
    "    return\n",
    "\n",
    "employee(\"EM56\",34,6,78,en=\"Lokesh\",ead='VJWD',esal=45000.00)"
   ]
  },
  {
   "cell_type": "code",
   "execution_count": 16,
   "id": "096ae212",
   "metadata": {},
   "outputs": [
    {
     "name": "stdout",
     "output_type": "stream",
     "text": [
      "(34, 6, 78) <class 'tuple'>\n",
      "{'en': 'Lokesh', 'ead': 'VJWD', 'esal': 45000.0} <class 'dict'>\n",
      "EM56 <class 'str'>\n"
     ]
    }
   ],
   "source": [
    "def employee(k,*p,**z):\n",
    "    print(p,type(p))\n",
    "    print(z,type(z))\n",
    "    print(k,type(k))\n",
    "    return\n",
    "\n",
    "employee(\"EM56\",34,6,78,en=\"Lokesh\",ead='VJWD',esal=45000.00)"
   ]
  },
  {
   "cell_type": "markdown",
   "id": "88c2eaae",
   "metadata": {},
   "source": [
    "## Packages and Modules\n",
    "    - Package:\n",
    "        - Folder\n",
    "        - Collection of Subpackage\n",
    "        - Collection of Modules [.py]\n",
    "    - Module:\n",
    "        - File [.py]\n",
    "        - Collection of variables,functions,classes and methods"
   ]
  },
  {
   "cell_type": "markdown",
   "id": "4b0338a4",
   "metadata": {},
   "source": [
    "## Module Access\n",
    "    - In same location\n",
    "        => import modulename\n",
    "        => modulename.variablename or modulename.classname or modulename.function\n",
    "    \n",
    "    - In package\n",
    "        => from packagename import modulename\n",
    "        => moduelname.variablename or modulename.classsname or modulename.functionname\n",
    "        \n",
    "        => from packagename.modulename import variablename\n",
    "        => variablename\n",
    "        \n",
    "        => from packagename.modulename import *\n",
    "        => variablename or classname or function\n",
    "        \n",
    "        => from packagename.module import variablename,classname,functionname\n",
    "        => variablename,classname,functionname\n",
    "        \n",
    "    - In subpackage\n",
    "        => from packagename.subpackage import module\n",
    "        => from packagename.subpackage.moulename import *\n",
    "        => from packagename.subpackage.modulename import variable,classname,functionanme"
   ]
  },
  {
   "cell_type": "code",
   "execution_count": 1,
   "id": "e45e5184",
   "metadata": {},
   "outputs": [],
   "source": [
    "import sample"
   ]
  },
  {
   "cell_type": "code",
   "execution_count": 2,
   "id": "81a7a45e",
   "metadata": {},
   "outputs": [
    {
     "name": "stdout",
     "output_type": "stream",
     "text": [
      "['__builtins__', '__cached__', '__doc__', '__file__', '__loader__', '__name__', '__package__', '__spec__', 'a', 'printinfo']\n"
     ]
    }
   ],
   "source": [
    "print(dir(sample))"
   ]
  },
  {
   "cell_type": "code",
   "execution_count": 19,
   "id": "e384668c",
   "metadata": {},
   "outputs": [
    {
     "name": "stdout",
     "output_type": "stream",
     "text": [
      "Harish\n"
     ]
    }
   ],
   "source": [
    "print(sample.a)"
   ]
  },
  {
   "cell_type": "code",
   "execution_count": 22,
   "id": "d4768f84",
   "metadata": {},
   "outputs": [
    {
     "name": "stdout",
     "output_type": "stream",
     "text": [
      "['__builtins__', '__cached__', '__doc__', '__file__', '__loader__', '__name__', '__package__', '__spec__', 'a']\n"
     ]
    }
   ],
   "source": [
    "print(dir(sample))"
   ]
  },
  {
   "cell_type": "code",
   "execution_count": 5,
   "id": "fe30aba0",
   "metadata": {},
   "outputs": [
    {
     "name": "stdout",
     "output_type": "stream",
     "text": [
      "Enter a range: 10\n",
      "0 1 2 3 4 5 6 7 8 9 "
     ]
    }
   ],
   "source": [
    "sample.printinfo()"
   ]
  },
  {
   "cell_type": "code",
   "execution_count": 6,
   "id": "dbfc0fcb",
   "metadata": {},
   "outputs": [
    {
     "name": "stdout",
     "output_type": "stream",
     "text": [
      "45\n",
      "Given number is: 45\n",
      "Reverse number is: 54\n"
     ]
    }
   ],
   "source": [
    "from DataFiles.demo import g"
   ]
  },
  {
   "cell_type": "code",
   "execution_count": 7,
   "id": "56f99517",
   "metadata": {},
   "outputs": [],
   "source": [
    "from DataFiles import demo"
   ]
  },
  {
   "cell_type": "code",
   "execution_count": 8,
   "id": "7bc41d45",
   "metadata": {},
   "outputs": [
    {
     "name": "stdout",
     "output_type": "stream",
     "text": [
      "['__builtins__', '__cached__', '__doc__', '__file__', '__loader__', '__name__', '__package__', '__spec__', 'g', 'reversenumber']\n"
     ]
    }
   ],
   "source": [
    "print(dir(demo))"
   ]
  },
  {
   "cell_type": "code",
   "execution_count": 9,
   "id": "aa7a3ba7",
   "metadata": {},
   "outputs": [
    {
     "data": {
      "text/plain": [
       "654"
      ]
     },
     "execution_count": 9,
     "metadata": {},
     "output_type": "execute_result"
    }
   ],
   "source": [
    "demo.reversenumber(456)"
   ]
  },
  {
   "cell_type": "code",
   "execution_count": 1,
   "id": "066769a0",
   "metadata": {},
   "outputs": [
    {
     "name": "stdout",
     "output_type": "stream",
     "text": [
      "12\n",
      "Given number is: 12\n",
      "Reverse number is: 21\n"
     ]
    }
   ],
   "source": [
    "from DataFiles.demo import *"
   ]
  },
  {
   "cell_type": "code",
   "execution_count": 11,
   "id": "583fc5d3",
   "metadata": {},
   "outputs": [
    {
     "name": "stdout",
     "output_type": "stream",
     "text": [
      "['__builtins__', '__cached__', '__doc__', '__file__', '__loader__', '__name__', '__package__', '__spec__', 'g', 'reversenumber']\n"
     ]
    }
   ],
   "source": [
    "print(dir(demo))"
   ]
  },
  {
   "cell_type": "code",
   "execution_count": 1,
   "id": "ce3a0529",
   "metadata": {},
   "outputs": [],
   "source": [
    "from DataFiles.demo import *"
   ]
  },
  {
   "cell_type": "code",
   "execution_count": 1,
   "id": "386ccf6a",
   "metadata": {},
   "outputs": [
    {
     "name": "stdout",
     "output_type": "stream",
     "text": [
      "7789\n",
      "Given number is: 7789\n",
      "Reverse number is: 9877\n"
     ]
    }
   ],
   "source": [
    "from DataFiles import demo\n",
    "g = int(input())\n",
    "print(f\"Given number is: {g}\")\n",
    "print(f\"Reverse number is: {demo.reversenumber(g)}\")"
   ]
  },
  {
   "cell_type": "code",
   "execution_count": 3,
   "id": "83df9289",
   "metadata": {},
   "outputs": [],
   "source": [
    "from DataFiles.demo import reversenumber,printeven"
   ]
  },
  {
   "cell_type": "code",
   "execution_count": 4,
   "id": "79491520",
   "metadata": {},
   "outputs": [
    {
     "name": "stdout",
     "output_type": "stream",
     "text": [
      "Enter a number: 4578965632\n",
      "4 8 6 6 2 "
     ]
    }
   ],
   "source": [
    "n = int(input(\"Enter a number: \"))\n",
    "printeven(reversenumber(n))"
   ]
  },
  {
   "cell_type": "code",
   "execution_count": 5,
   "id": "4ad05bc4",
   "metadata": {},
   "outputs": [
    {
     "data": {
      "text/plain": [
       "12"
      ]
     },
     "execution_count": 5,
     "metadata": {},
     "output_type": "execute_result"
    }
   ],
   "source": [
    "h = [4,8]\n",
    "sum(h)"
   ]
  },
  {
   "cell_type": "code",
   "execution_count": 6,
   "id": "059e3b59",
   "metadata": {},
   "outputs": [],
   "source": [
    "from DataFiles.Data.tarun import printinfo"
   ]
  },
  {
   "cell_type": "code",
   "execution_count": 7,
   "id": "b8fcdeb5",
   "metadata": {},
   "outputs": [
    {
     "name": "stdout",
     "output_type": "stream",
     "text": [
      ":::::Tarun Details:::::\n",
      "Roll Number: 21AK45\n",
      "Year: 3rd Year\n",
      "Branch: CSE\n",
      "Total Marks: 172\n"
     ]
    }
   ],
   "source": [
    "printinfo()"
   ]
  },
  {
   "cell_type": "code",
   "execution_count": null,
   "id": "e84883fe",
   "metadata": {},
   "outputs": [],
   "source": []
  }
 ],
 "metadata": {
  "kernelspec": {
   "display_name": "Python 3 (ipykernel)",
   "language": "python",
   "name": "python3"
  },
  "language_info": {
   "codemirror_mode": {
    "name": "ipython",
    "version": 3
   },
   "file_extension": ".py",
   "mimetype": "text/x-python",
   "name": "python",
   "nbconvert_exporter": "python",
   "pygments_lexer": "ipython3",
   "version": "3.9.13"
  }
 },
 "nbformat": 4,
 "nbformat_minor": 5
}
