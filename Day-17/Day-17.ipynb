{
 "cells": [
  {
   "cell_type": "markdown",
   "id": "5d9aa84c",
   "metadata": {},
   "source": [
    "### Today Objectives:\n",
    "    - Python Oops\n",
    "    \n",
    "#### OOPS:\n",
    "    - Object Oriented Programming System\n",
    "        - Class\n",
    "        - Object\n",
    "        - Constructor\n",
    "        - Inheritance\n",
    "        - Package And module"
   ]
  },
  {
   "cell_type": "markdown",
   "id": "de2b0092",
   "metadata": {},
   "source": [
    "### Class:\n",
    "    - it is a collection of methods and variables\n",
    "    - syntax:\n",
    "         class classname:\n",
    "                ## list of variables\n",
    "                ## list of methods\n",
    "#### function:\n",
    "        - it contains collection statememts \n",
    "\n",
    "####  method:\n",
    "        - if you take funtion inside the class we will call it as a method"
   ]
  },
  {
   "cell_type": "code",
   "execution_count": 1,
   "id": "e390d135",
   "metadata": {},
   "outputs": [],
   "source": [
    "## example\n",
    "class Hi:\n",
    "    a=10\n",
    "    b=20\n",
    "    def display():\n",
    "        print(\"hello everyone! im from display method\")"
   ]
  },
  {
   "cell_type": "markdown",
   "id": "e238a077",
   "metadata": {},
   "source": [
    "#### How to access class elements:\n",
    "        - dot operator(.)\n",
    "            - syntax:\n",
    "                    classname.variable--->for variable access\n",
    "                    classname.method name--->for method access\n",
    "       "
   ]
  },
  {
   "cell_type": "code",
   "execution_count": 2,
   "id": "e1bfcb1d",
   "metadata": {},
   "outputs": [
    {
     "name": "stdout",
     "output_type": "stream",
     "text": [
      "hello everyone! im from display method\n"
     ]
    }
   ],
   "source": [
    "Hi.display()"
   ]
  },
  {
   "cell_type": "code",
   "execution_count": 3,
   "id": "157da7f8",
   "metadata": {},
   "outputs": [
    {
     "data": {
      "text/plain": [
       "20"
      ]
     },
     "execution_count": 3,
     "metadata": {},
     "output_type": "execute_result"
    }
   ],
   "source": [
    "Hi.b"
   ]
  },
  {
   "cell_type": "code",
   "execution_count": 4,
   "id": "69b66d50",
   "metadata": {},
   "outputs": [
    {
     "data": {
      "text/plain": [
       "10"
      ]
     },
     "execution_count": 4,
     "metadata": {},
     "output_type": "execute_result"
    }
   ],
   "source": [
    "Hi.a"
   ]
  },
  {
   "cell_type": "code",
   "execution_count": 5,
   "id": "5b37e89c",
   "metadata": {},
   "outputs": [],
   "source": [
    "### example2\n",
    "class Math:\n",
    "    def add(n1,n2):\n",
    "        return n1+n2\n",
    "    def mul(n1,n2):\n",
    "        return n1*n2"
   ]
  },
  {
   "cell_type": "code",
   "execution_count": 6,
   "id": "d95029c2",
   "metadata": {},
   "outputs": [
    {
     "data": {
      "text/plain": [
       "42"
      ]
     },
     "execution_count": 6,
     "metadata": {},
     "output_type": "execute_result"
    }
   ],
   "source": [
    "Math.mul(6,7)"
   ]
  },
  {
   "cell_type": "code",
   "execution_count": 7,
   "id": "f138cd25",
   "metadata": {},
   "outputs": [
    {
     "data": {
      "text/plain": [
       "9"
      ]
     },
     "execution_count": 7,
     "metadata": {},
     "output_type": "execute_result"
    }
   ],
   "source": [
    "Math.add(4,5)"
   ]
  },
  {
   "cell_type": "markdown",
   "id": "4261319b",
   "metadata": {},
   "source": [
    "### object:\n",
    "    - it is an instance of a class\n",
    "    - it is a real world entity\n",
    "            - syntax:\n",
    "                obj_name=class_name"
   ]
  },
  {
   "cell_type": "code",
   "execution_count": 8,
   "id": "1ad0607c",
   "metadata": {},
   "outputs": [],
   "source": [
    "class Math2:\n",
    "    def power(bval,exval):\n",
    "        return bval**exval\n",
    "    def division(a,b):\n",
    "        return a/b"
   ]
  },
  {
   "cell_type": "code",
   "execution_count": 9,
   "id": "7efda019",
   "metadata": {},
   "outputs": [],
   "source": [
    "### by using object\n",
    "obj=Math2"
   ]
  },
  {
   "cell_type": "code",
   "execution_count": 10,
   "id": "c26688e9",
   "metadata": {},
   "outputs": [
    {
     "data": {
      "text/plain": [
       "16"
      ]
     },
     "execution_count": 10,
     "metadata": {},
     "output_type": "execute_result"
    }
   ],
   "source": [
    "obj.power(2,4)"
   ]
  },
  {
   "cell_type": "code",
   "execution_count": 11,
   "id": "3ed12b61",
   "metadata": {},
   "outputs": [
    {
     "data": {
      "text/plain": [
       "0.5"
      ]
     },
     "execution_count": 11,
     "metadata": {},
     "output_type": "execute_result"
    }
   ],
   "source": [
    "obj.division(2,4)"
   ]
  },
  {
   "cell_type": "markdown",
   "id": "899d6a7d",
   "metadata": {},
   "source": [
    "#### Constructor:\n",
    "    - the main advantage of constructor is without using an object \n",
    "    we will call a method\n",
    "    - for that we have a small procedure:\n",
    "        - syntax:\n",
    "            class classname:\n",
    "                def __init__(self): # here self is the default parameter\n",
    "                                    # here __init__ is a constructor\n",
    "                                    \n",
    "                                    \n",
    "#### types of Constructors:\n",
    "        - default constructor\n",
    "                - def __init__(self):\n",
    "        - parametrized constructor\n",
    "                - def __init__(self,a,b):\n",
    "                        ## here self is the default one\n",
    "                        ## a,b are extra prameters\n",
    "                - def __init__(a,self,b):\n",
    "                        # here a is the default one\n",
    "                        # self,b are the extra parametrs"
   ]
  },
  {
   "cell_type": "code",
   "execution_count": 12,
   "id": "4f0353a0",
   "metadata": {},
   "outputs": [],
   "source": [
    "### default\n",
    "class Cons:\n",
    "    def __init__(self):\n",
    "        print(\"hello guys this is my new concept\")"
   ]
  },
  {
   "cell_type": "code",
   "execution_count": 14,
   "id": "338751d2",
   "metadata": {},
   "outputs": [
    {
     "name": "stdout",
     "output_type": "stream",
     "text": [
      "hello guys this is my new concept\n",
      "hello guys this is my new concept\n",
      "None\n"
     ]
    }
   ],
   "source": [
    "ob=Cons()\n",
    "print(ob.__init__())"
   ]
  },
  {
   "cell_type": "code",
   "execution_count": 17,
   "id": "28d6b741",
   "metadata": {},
   "outputs": [],
   "source": [
    "### parametrized cons\n",
    "class Sample:\n",
    "    def __init__(self,v1,v2):\n",
    "        self.num1=v1\n",
    "        self.num2=v2\n",
    "        \n",
    "    def show(self):\n",
    "        print(self.num1,self.num2)\n",
    "        \n",
    "    def add(self):\n",
    "        return self.num1+self.num2\n",
    "        "
   ]
  },
  {
   "cell_type": "code",
   "execution_count": 18,
   "id": "6859c5e5",
   "metadata": {},
   "outputs": [
    {
     "name": "stdout",
     "output_type": "stream",
     "text": [
      "5 6\n"
     ]
    }
   ],
   "source": [
    "m=Sample(5,6)\n",
    "m.show()"
   ]
  },
  {
   "cell_type": "code",
   "execution_count": 19,
   "id": "023aabf8",
   "metadata": {},
   "outputs": [
    {
     "data": {
      "text/plain": [
       "11"
      ]
     },
     "execution_count": 19,
     "metadata": {},
     "output_type": "execute_result"
    }
   ],
   "source": [
    "m.add()"
   ]
  },
  {
   "cell_type": "markdown",
   "id": "0ef0b797",
   "metadata": {},
   "source": [
    "#### Inheritance:\n",
    "    - we can Aquire the properties from parent class to child class\n",
    "            ex:DNA\n",
    "    - General format of inheritance is:\n",
    "            class childclass(Parent class)\n",
    "            \n",
    "#### types of inheritance:\n",
    "    - single level inheritance\n",
    "    - multi level inheritance\n",
    "    - multiple inheritance\n",
    "    - hybrid inheritance\n",
    "    - hirarchical inheritance"
   ]
  },
  {
   "cell_type": "markdown",
   "id": "03f60f0c",
   "metadata": {},
   "source": [
    "#### single level inheritance:\n",
    "    - here there is only one parent class and only one child class\n",
    "            - single parent class\n",
    "            - single child class"
   ]
  },
  {
   "cell_type": "code",
   "execution_count": 20,
   "id": "675b83ba",
   "metadata": {},
   "outputs": [],
   "source": [
    "class ClassA:\n",
    "    x,y=89,56\n",
    "    def sample():\n",
    "        print(\"im from Class A\")\n",
    "class ClassB(ClassA):\n",
    "    i,j=45,34\n",
    "    def sample1():\n",
    "        print(\"im from Class B\")"
   ]
  },
  {
   "cell_type": "code",
   "execution_count": 26,
   "id": "dda41dda",
   "metadata": {
    "collapsed": true
   },
   "outputs": [
    {
     "name": "stdout",
     "output_type": "stream",
     "text": [
      "im from Class A\n",
      "None\n",
      "im from Class B\n",
      "None\n"
     ]
    }
   ],
   "source": [
    "ob=ClassB\n",
    "print(ob.sample())\n",
    "print(ob.sample1())"
   ]
  },
  {
   "cell_type": "code",
   "execution_count": 25,
   "id": "c9ea8114",
   "metadata": {},
   "outputs": [
    {
     "name": "stdout",
     "output_type": "stream",
     "text": [
      "56\n",
      "45\n",
      "89\n"
     ]
    }
   ],
   "source": [
    "print(ob.y)\n",
    "print(ob.i)\n",
    "print(ob.x)"
   ]
  },
  {
   "cell_type": "markdown",
   "id": "4f50baa4",
   "metadata": {},
   "source": [
    "#### multi level inheritance:\n",
    "    - here we have more than one parent classes and more than one child classes\n",
    "    - ex:\n",
    "        class A(p-0,c-3)\n",
    "        class B(p-1,c-2)\n",
    "        class C(p-2,c-1)\n",
    "        class D(p-3,c-0)"
   ]
  },
  {
   "cell_type": "code",
   "execution_count": 27,
   "id": "42f4dfb1",
   "metadata": {},
   "outputs": [],
   "source": [
    "class A:\n",
    "    def classA():\n",
    "        print(\"im form Class A\")\n",
    "        \n",
    "class B(A):\n",
    "    def classB():\n",
    "        print(\"im from Class B\")\n",
    "        \n",
    "class C(B):\n",
    "    def classC():\n",
    "        print(\"im from Class C\")\n",
    "\n",
    "class D(C):\n",
    "    def classD():\n",
    "        print(\"im from Class D\")"
   ]
  },
  {
   "cell_type": "code",
   "execution_count": 31,
   "id": "2da4e0a2",
   "metadata": {
    "collapsed": true
   },
   "outputs": [
    {
     "name": "stdout",
     "output_type": "stream",
     "text": [
      "im from Class B\n",
      "None\n",
      "im form Class A\n",
      "None\n",
      "im from Class C\n",
      "None\n",
      "im from Class D\n",
      "None\n"
     ]
    }
   ],
   "source": [
    "n=D\n",
    "print(n.classB())\n",
    "print(n.classA())\n",
    "print(n.classC())\n",
    "print(n.classD())"
   ]
  },
  {
   "cell_type": "markdown",
   "id": "3641f9c9",
   "metadata": {},
   "source": [
    "#### multiple inheritance:\n",
    "    - here we have more than one parent classes but only one child class.\n",
    "    -          ex:     class A       class B\n",
    "                               class C"
   ]
  },
  {
   "cell_type": "code",
   "execution_count": 32,
   "id": "774420dd",
   "metadata": {},
   "outputs": [],
   "source": [
    "class A:\n",
    "    def classA():\n",
    "        print(\"im form Class A\")\n",
    "        \n",
    "class B:\n",
    "    def classB():\n",
    "        print(\"im from Class B\")\n",
    "        \n",
    "class C:\n",
    "    def classC():\n",
    "        print(\"im from Class C\")\n",
    "\n",
    "class D(A,B,C):\n",
    "    def classD():\n",
    "        print(\"im from Class D\")"
   ]
  },
  {
   "cell_type": "code",
   "execution_count": 34,
   "id": "4859c58d",
   "metadata": {
    "collapsed": true
   },
   "outputs": [
    {
     "name": "stdout",
     "output_type": "stream",
     "text": [
      "im form Class A\n",
      "None\n",
      "im from Class B\n",
      "None\n",
      "im from Class C\n",
      "None\n",
      "im from Class D\n",
      "None\n"
     ]
    }
   ],
   "source": [
    "c=D\n",
    "print(c.classA())\n",
    "print(c.classB())\n",
    "print(c.classC())\n",
    "print(c.classD())"
   ]
  },
  {
   "cell_type": "markdown",
   "id": "4ea142b8",
   "metadata": {},
   "source": [
    "#### TASK:\n",
    "    - Hybrid inheritance\n",
    "            - it is a combination of any two inheritances\n",
    "    - Hierarchical inheritance\n",
    "            - it is a opposite for multiple inheritance\n",
    "            - we have more than one child classes and but only one parent class"
   ]
  },
  {
   "cell_type": "markdown",
   "id": "7448cfce",
   "metadata": {},
   "source": [
    "#### Package and module:\n",
    "        - Package:\n",
    "            - it is a collection of modules\n",
    "        - Module:\n",
    "            - it is a.py file\n",
    "            - it contains collection of functions ,variables,classes...\n",
    "            - for accessing a module python provides one keyword\n",
    "                    i.e import \n",
    "                            - syntax:\n",
    "                                    import modulename\n",
    "                                    from module import classname or function name\n",
    "                                    from module impot *"
   ]
  },
  {
   "cell_type": "code",
   "execution_count": 36,
   "id": "ea510a0f",
   "metadata": {
    "collapsed": true
   },
   "outputs": [
    {
     "name": "stdout",
     "output_type": "stream",
     "text": [
      "9\n",
      "1\n"
     ]
    }
   ],
   "source": [
    "import module\n",
    "z=module.Calsi\n",
    "print(z.add(4,5))\n",
    "print(z.sub(7,6))"
   ]
  },
  {
   "cell_type": "code",
   "execution_count": 38,
   "id": "3ac0b1e4",
   "metadata": {
    "collapsed": true
   },
   "outputs": [
    {
     "name": "stdout",
     "output_type": "stream",
     "text": [
      "16\n",
      "True\n"
     ]
    }
   ],
   "source": [
    "m=module.Math\n",
    "print(m.power(2,4))\n",
    "print(m.isEven(6))"
   ]
  },
  {
   "cell_type": "code",
   "execution_count": 39,
   "id": "d1092a2b",
   "metadata": {},
   "outputs": [
    {
     "name": "stdout",
     "output_type": "stream",
     "text": [
      "False\n"
     ]
    }
   ],
   "source": [
    "o=module.isOdd(8)\n",
    "print(o)"
   ]
  },
  {
   "cell_type": "code",
   "execution_count": 40,
   "id": "bebfc961",
   "metadata": {},
   "outputs": [],
   "source": [
    "## 2nd way\n",
    "from module import Math"
   ]
  },
  {
   "cell_type": "code",
   "execution_count": 41,
   "id": "3c802309",
   "metadata": {},
   "outputs": [
    {
     "name": "stdout",
     "output_type": "stream",
     "text": [
      "134217728\n"
     ]
    }
   ],
   "source": [
    "b=Math\n",
    "print(b.power(8,9))"
   ]
  },
  {
   "cell_type": "code",
   "execution_count": 42,
   "id": "249c63f3",
   "metadata": {},
   "outputs": [
    {
     "data": {
      "text/plain": [
       "True"
      ]
     },
     "execution_count": 42,
     "metadata": {},
     "output_type": "execute_result"
    }
   ],
   "source": [
    "from module import isOdd\n",
    "k=isOdd(5)\n",
    "k"
   ]
  },
  {
   "cell_type": "code",
   "execution_count": 43,
   "id": "b064d525",
   "metadata": {},
   "outputs": [],
   "source": [
    "## 3rd way\n",
    "from module import *"
   ]
  },
  {
   "cell_type": "code",
   "execution_count": 44,
   "id": "926ed59f",
   "metadata": {},
   "outputs": [
    {
     "name": "stdout",
     "output_type": "stream",
     "text": [
      "14\n"
     ]
    }
   ],
   "source": [
    "g=Calsi\n",
    "print(g.add(5,9))"
   ]
  },
  {
   "cell_type": "code",
   "execution_count": 45,
   "id": "6644cb84",
   "metadata": {},
   "outputs": [
    {
     "name": "stdout",
     "output_type": "stream",
     "text": [
      "True\n"
     ]
    }
   ],
   "source": [
    "x=Math\n",
    "print(x.isEven(4))"
   ]
  },
  {
   "cell_type": "code",
   "execution_count": 46,
   "id": "8605a47a",
   "metadata": {},
   "outputs": [
    {
     "data": {
      "text/plain": [
       "True"
      ]
     },
     "execution_count": 46,
     "metadata": {},
     "output_type": "execute_result"
    }
   ],
   "source": [
    "e=isOdd(9)\n",
    "e"
   ]
  },
  {
   "cell_type": "code",
   "execution_count": null,
   "id": "ba19e52a",
   "metadata": {},
   "outputs": [],
   "source": []
  }
 ],
 "metadata": {
  "kernelspec": {
   "display_name": "Python 3 (ipykernel)",
   "language": "python",
   "name": "python3"
  },
  "language_info": {
   "codemirror_mode": {
    "name": "ipython",
    "version": 3
   },
   "file_extension": ".py",
   "mimetype": "text/x-python",
   "name": "python",
   "nbconvert_exporter": "python",
   "pygments_lexer": "ipython3",
   "version": "3.9.13"
  }
 },
 "nbformat": 4,
 "nbformat_minor": 5
}
